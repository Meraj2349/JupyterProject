{
 "cells": [
  {
   "cell_type": "code",
   "execution_count": 7,
   "id": "3a40150a",
   "metadata": {},
   "outputs": [
    {
     "name": "stdout",
     "output_type": "stream",
     "text": [
      "Requirement already satisfied: requests in ./.venv/lib/python3.10/site-packages (2.32.3)\n",
      "Requirement already satisfied: beautifulsoup4 in ./.venv/lib/python3.10/site-packages (4.13.3)\n",
      "Requirement already satisfied: pandas in ./.venv/lib/python3.10/site-packages (2.2.3)\n",
      "Requirement already satisfied: lxml in ./.venv/lib/python3.10/site-packages (6.0.0)\n",
      "Requirement already satisfied: charset-normalizer<4,>=2 in ./.venv/lib/python3.10/site-packages (from requests) (3.4.1)\n",
      "Requirement already satisfied: idna<4,>=2.5 in ./.venv/lib/python3.10/site-packages (from requests) (3.10)\n",
      "Requirement already satisfied: urllib3<3,>=1.21.1 in ./.venv/lib/python3.10/site-packages (from requests) (2.3.0)\n",
      "Requirement already satisfied: certifi>=2017.4.17 in ./.venv/lib/python3.10/site-packages (from requests) (2025.1.31)\n",
      "Requirement already satisfied: soupsieve>1.2 in ./.venv/lib/python3.10/site-packages (from beautifulsoup4) (2.6)\n",
      "Requirement already satisfied: typing-extensions>=4.0.0 in ./.venv/lib/python3.10/site-packages (from beautifulsoup4) (4.12.2)\n",
      "Requirement already satisfied: numpy>=1.22.4 in ./.venv/lib/python3.10/site-packages (from pandas) (1.26.4)\n",
      "Requirement already satisfied: python-dateutil>=2.8.2 in ./.venv/lib/python3.10/site-packages (from pandas) (2.9.0.post0)\n",
      "Requirement already satisfied: pytz>=2020.1 in ./.venv/lib/python3.10/site-packages (from pandas) (2025.1)\n",
      "Requirement already satisfied: tzdata>=2022.7 in ./.venv/lib/python3.10/site-packages (from pandas) (2025.1)\n",
      "Requirement already satisfied: six>=1.5 in ./.venv/lib/python3.10/site-packages (from python-dateutil>=2.8.2->pandas) (1.17.0)\n"
     ]
    }
   ],
   "source": [
    "!pip install requests beautifulsoup4 pandas lxml"
   ]
  },
  {
   "cell_type": "code",
   "execution_count": 3,
   "id": "72b20106",
   "metadata": {},
   "outputs": [
    {
     "name": "stdout",
     "output_type": "stream",
     "text": [
      "Website loaded successfully!\n",
      "Page title: প্রথম আলো | বাংলা নিউজ পেপার\n"
     ]
    }
   ],
   "source": [
    "import requests\n",
    "from bs4 import BeautifulSoup\n",
    "import pandas as pd\n",
    "import time\n",
    "\n",
    "# Step 1: Get the webpage\n",
    "url = \"https://www.prothomalo.com/\"  # Replace with actual URL\n",
    "#using ubontu\n",
    "headers = {\n",
    "    'User-Agent': 'Mozilla/5.0 (Windows NT 10.0; Win64; x64) AppleWebKit/537.36 (KHTML, like Gecko) Chrome/58.0.3029.110 Safari/537.3'\n",
    "}\n",
    "try:\n",
    "    response = requests.get(url, headers=headers)\n",
    "    response.raise_for_status()  # Check if request was successful\n",
    "    print(\"Website loaded successfully!\")\n",
    "except requests.exceptions.RequestException as e:\n",
    "    print(f\"Error loading website: {e}\")\n",
    "    exit()\n",
    "\n",
    "# Step 2: Parse the HTML\n",
    "soup = BeautifulSoup(response.content, 'html.parser')\n",
    "print(f\"Page title: {soup.title.string}\")"
   ]
  },
  {
   "cell_type": "code",
   "execution_count": 12,
   "id": "9407924a",
   "metadata": {},
   "outputs": [
    {
     "name": "stdout",
     "output_type": "stream",
     "text": [
      "<!DOCTYPE html>\n",
      "<html lang=\"bn\">\n",
      " <head>\n",
      "  <meta charset=\"utf-8\"/>\n",
      "  <title>\n",
      "   প্রথম আলো | বাংলা নিউজ পেপার\n",
      "  </title>\n",
      "  <meta content=\"প্রথম আলো | বাংলা নিউজ পেপার\" name=\"title\">\n",
      "   <meta content=\"বাংলাদেশসহ বিশ্বের সর্বশেষ সংবাদ শিরোনাম, প্রতিবেদন, বিশ্লেষণ, খেলা, বিনোদন, চাকরি, রাজনীতি ও বাণিজ্যের বাংলা নিউজ পড়তে ভিজিট করুন।\" name=\"description\"/>\n",
      "   <meta content=\"Prothom Alo, bangla news, current News, bangla newspaper, bangladesh newspaper, online paper, bangladeshi newspaper, bangla news paper, bangladesh newspapers, newspaper, all bangla news paper, bd news paper, news paper, bangladesh news paper, daily, bangla newspaper, daily news paper, bangladeshi news paper, bangla paper, all bangla newspaper, bangladesh news, daily newspaper, অনলাইন, পত্রিকা, বাংলাদেশ, আজকের পত্রিকা, আন্তর্জাতিক, অর্থনীতি, খেলা, বিনোদন, ফিচার, বিজ্ঞান ও প্রযুক্তি, চলচ্চিত্র, ঢালিউড, বলিউড, হলিউড, বাংলা গান, মঞ্চ, টেলিভিশন, নকশা, রস+আলো, ছুটির দিনে, অধুনা, স্বপ্ন নিয়ে, আনন্দ, অন্য আলো, সাহিত্য, গোল্লাছুট, প্রজন্ম ডট কম, বন্ধুসভা,কম্পিউটার, মোবাইল ফোন, অটোমোবাইল, মহাকাশ, গেমস, মাল্টিমিডিয়া, রাজনীতি, সরকার, অপরাধ, দুর্নীতি, আইন ও বিচার, পরিবেশ, দুর্ঘটনা, সংসদ, রাজধানী, শেয়ার বাজার, বাণিজ্য, পোশাক শিল্প, ক্রিকেট, ফুটবল, লাইভ স্কোর\" name=\"keywords\"/>\n",
      "   <meta content=\"website\" property=\"og:type\"/>\n",
      "   <meta content=\"প্রথম আলো | বাংলা নিউজ পেপার\" property=\"og:title\"/>\n",
      "   <meta content=\"বাংলাদেশসহ বিশ্বের সর্বশেষ সংবাদ শিরোনাম, প্রতিবেদন, বিশ্লেষণ, খেলা, বিনোদন, চাকরি, রাজনীতি ও বাণিজ্যের বাংলা নিউজ পড়তে ভিজিট করুন।\" property=\"og:description\"/>\n",
      "   <meta content=\"summary_large_image\" name=\"twitter:card\"/>\n",
      "   <meta content=\"প্রথম আলো | বাংলা নিউজ পেপার\" name=\"twitter:title\"/>\n",
      "   <meta content=\"বাংলাদেশসহ বিশ্বের সর্বশেষ সংবাদ শিরোনাম, প্রতিবেদন, বিশ্লেষণ, খেলা, বিনোদন, চাকরি, রাজনীতি ও বাণিজ্যের বাংলা নিউজ পড়তে ভিজিট করুন।\" name=\"twitter:description\"/>\n",
      "   <meta content=\"https://media.prothomalo.com/prothomalo-bangla/2021-01/1d75151c-eff9-4e9f-ac28-aebc4618d00f/palo_bangla_og.png\" name=\"twitter:image\"/>\n",
      "   <meta content=\"https://media.prothomalo.com/prothomalo-bangla/2021-01/1d75151c-eff9-4e9f-ac28-aebc4618d00f/palo_bangla_og.png\" property=\"og:image\"/>\n",
      "   <meta content=\"1200\" property=\"og:image:width\"/>\n",
      "   <meta content=\"https://www.prothomalo.com\" name=\"twitter:domain\"/>\n",
      "   <meta content=\"1499138263726489\" property=\"fb:app_id\"/>\n",
      "   <meta content=\"প্রথম আলো\" name=\"brand_name\"/>\n",
      "   <script type=\"application/ld+json\">\n",
      "    {\"@type\":\"Organization\",\"@context\":\"http://schema.org\"}\n",
      "   </script>\n",
      "   <script type=\"application/ld+json\">\n",
      "    {\"@context\":\"http://schema.org\",\"@type\":\"BreadcrumbList\",\"itemListElement\":[{\"@type\":\"ListItem\",\"position\":1,\"name\":\"Home\",\"item\":\"https://www.prothomalo.com\"}]}\n",
      "   </script>\n",
      "   <script data-schema=\"Organization\" type=\"application/ld+json\">\n",
      "    {\"@context\":\"http://schema.org\",\"@type\":\"Organization\",\"name\":\"প্রথম আলো\",\"alternateName\":\"Prothom Alo\",\"foundingDate\":\"1998-11-04\",\"url\":\"https://www.prothomalo.com\",\"sameAs\":[\"https://www.facebook.com/DailyProthomAlo\",\"https://twitter.com/ProthomAlo\",\"https://www.youtube.com/c/ProthomAlo\",\"https://www.pinterest.com/ProthomAlo/\",\"https://www.instagram.com/prothomalo/\"],\"logo\":{\"@type\":\"ImageObject\",\"url\":\"https://paloimages.prothom-alo.com/contents/themes/public/style/images/Prothom-Alo.png\"},\"image\":\"https://paloimages.prothom-alo.com/contents/themes/public/style/images/Prothom-Alo.png\",\"contactPoint\":[{\"@type\":\"ContactPoint\",\"telephone\":\"+88-02-8180078\",\"contactType\":\"customer service\"},{\"@type\":\"ContactPoint\",\"telephone\":\"+88-02-8180079\",\"contactType\":\"customer service\"},{\"@type\":\"ContactPoint\",\"telephone\":\"+88-02-8180080\",\"contactType\":\"customer service\"},{\"@type\":\"ContactPoint\",\"telephone\":\"+88-02-8180081\",\"contactType\":\"customer service\"}],\"potentialAction\":{\"@type\":\"SearchAction\",\"target\":\"https://www.prothomalo.com/search?q={search_term_string}\"},\"email\":\"mailto:info@prothomalo.com\",\"telephone\":\"+88-02-8180078-81\",\"address\":{\"@type\":\"PostalAddress\",\"description\":\"বাংলাদেশসহ বিশ্বের সর্বশেষ সংবাদ শিরোনাম, প্রতিবেদন, বিশ্লেষণ, খেলা, বিনোদন, চাকরি, রাজনীতি ও বাণিজ্যের বাংলা নিউজ পড়তে ভিজিট করুন।\",\"postalCode\":\"1215\"}}\n",
      "   </script>\n",
      "   <script data-schema=\"Organization\" type=\"application/ld+json\">\n",
      "    {\"@type\":\"Website\",\"url\":\"https://www.prothomalo.com\",\"interactivityType\":\"mixed\",\"name\":\"প্রথম আলো\",\"headline\":\"প্রথম আলো | বাংলা নিউজ পেপার\",\"keywords\":\"Prothom Alo, bangla news, current News, bangla newspaper, bangladesh newspaper, online paper, bangladeshi newspaper, bangla news paper, bangladesh newspapers, newspaper, all bangla news paper, bd news paper, news paper, bangladesh news paper, daily, bangla newspaper, daily news paper, bangladeshi news paper, bangla paper, all bangla newspaper, bangladesh news, daily newspaper, অনলাইন, পত্রিকা, বাংলাদেশ, আজকের পত্রিকা, আন্তর্জাতিক, অর্থনীতি, খেলা, বিনোদন, ফিচার, বিজ্ঞান ও প্রযুক্তি, চলচ্চিত্র, ঢালিউড, বলিউড, হলিউড, বাংলা গান, মঞ্চ, টেলিভিশন, নকশা, রস+আলো, ছুটির দিনে, অধুনা, স্বপ্ন নিয়ে, আনন্দ, অন্য আলো, সাহিত্য, গোল্লাছুট, প্রজন্ম ডট কম, বন্ধুসভা,কম্পিউটার, মোবাইল ফোন, অটোমোবাইল, মহাকাশ, গেমস, মাল্টিমিডিয়া, রাজনীতি, সরকার, অপরাধ, দুর্নীতি, আইন ও বিচার, পরিবেশ, দুর্ঘটনা, সংসদ, রাজধানী, শেয়ার বাজার, বাণিজ্য, পোশাক শিল্প, ক্রিকেট, ফুটবল, লাইভ স্কোর\",\"copyrightHolder\":{\"@type\":\"NewsMediaOrganization\",\"name\":\"প্রথম আলো\"},\"potentialAction\":{\"@type\":\"SearchAction\",\"target\":\"https://www.prothomalo.com/search?q={q}\",\"query-input\":\"required name=q\"},\"mainEntityOfPage\":{\"@type\":\"WebPage\",\"@id\":\"https://www.prothomalo.com\"},\"@context\":\"http://schema.org\"}\n",
      "   </script>\n",
      "   <link href=\"https://www.prothomalo.com\" rel=\"canonical\"/>\n",
      "   <meta content=\"https://www.prothomalo.com\" property=\"og:url\"/>\n",
      "   <meta content=\"https://www.prothomalo.com\" name=\"twitter:url\"/>\n",
      "   <meta content=\"163059227060505\" property=\"fb:pages\"/>\n",
      "   <meta content=\"Prothomalo\" property=\"og:site_name\"/>\n",
      "   <meta content=\"@Prothomalo\" name=\"twitter:site\"/>\n",
      "   <meta content=\"প্রথম আলো\" name=\"apple-mobile-web-app-title\"/>\n",
      "   <link href=\"/manifest.json\" rel=\"manifest\"/>\n",
      "   <meta content=\"width=device-width,height=device-height,initial-scale=1.0,maximum-scale=2.0,minimum-scale=1.0\" name=\"viewport\"/>\n",
      "   <meta content=\"yes\" name=\"apple-mobile-web-app-capable\"/>\n",
      "   <meta content=\"black\" name=\"apple-mobile-web-app-status-bar-style\"/>\n",
      "   <link crossorigin=\"\" href=\"https://fonts.gstatic.com/\" rel=\"preconnect dns-prefetch\">\n",
      "    <link href=\"//www.google.com/\" rel=\"preconnect dns-prefetch\"/>\n",
      "    <link href=\"//www.googletagservices.com/\" rel=\"preconnect dns-prefetch\"/>\n",
      "    <link href=\"//securepubads.g.doubleclick.net/\" rel=\"preconnect dns-prefetch\"/>\n",
      "    <link href=\"//tpc.googlesyndication.com/\" rel=\"preconnect dns-prefetch\"/>\n",
      "    <link href=\"//pagead2.googlesyndication.com\" rel=\"preconnect dns-prefetch\"/>\n",
      "    <link href=\"//googleads.g.doubleclick.net/\" rel=\"preconnect dns-prefetch\"/>\n",
      "    <link href=\"//www.googletagmanager.com/\" rel=\"preconnect dns-prefetch\"/>\n",
      "    <link href=\"//www.google-analytics.com/\" rel=\"preconnect dns-prefetch\"/>\n",
      "    <link href=\"//adservice.google.com\" rel=\"preconnect dns-prefetch\"/>\n",
      "    <link href=\"//media.prothomalo.com\" rel=\"preconnect dns-prefetch\"/>\n",
      "    <link href=\"//assets.prothomalo.com\" rel=\"preconnect dns-prefetch\"/>\n",
      "    <link href=\"//clientcdn.pushengage.com\" rel=\"preconnect dns-prefetch\"/>\n",
      "    <link href=\"//anymind360.com\" rel=\"preconnect dns-prefetch\"/>\n",
      "    <meta content=\"#ffffff\" name=\"theme-color\">\n",
      "     <link as=\"image\" fetchpriority=\"high\" href=\"https://www.prothomalo.com/media-placeholder.svg\" rel=\"preload\" type=\"image/svg+xml\"/>\n",
      "     <link href=\"/default.svg\" rel=\"icon\" type=\"image/svg+xml\">\n",
      "      <link href=\"/favicons/favicon-192x192.png\" rel=\"apple-touch-icon\" sizes=\"192x92\"/>\n",
      "      <link href=\"/favicons/favicon-192x192.png\" rel=\"icon\" sizes=\"192x92\" type=\"image/png\"/>\n",
      "      <link href=\"/favicons/favicon-57x57.png\" rel=\"apple-touch-icon\" sizes=\"57x57\"/>\n",
      "      <link href=\"/favicons/favicon-60x60.png\" rel=\"apple-touch-icon\" sizes=\"60x60\"/>\n",
      "      <link href=\"/favicons/favicon-72x72.png\" rel=\"apple-touch-icon\" sizes=\"72x72\"/>\n",
      "      <link href=\"/favicons/favicon-76x76.png\" rel=\"apple-touch-icon\" sizes=\"76x76\"/>\n",
      "      <link href=\"/favicons/favicon-114x114.png\" rel=\"apple-touch-icon\" sizes=\"114x114\"/>\n",
      "      <link href=\"/favicons/favicon-120x120.png\" rel=\"apple-touch-icon\" sizes=\"120x120\"/>\n",
      "      <link href=\"/favicons/favicon-144x144.png\" rel=\"apple-touch-icon\" sizes=\"144x144\"/>\n",
      "      <link href=\"/favicons/favicon-152x152.png\" rel=\"apple-touch-icon\" sizes=\"152x152\"/>\n",
      "      <link href=\"/favicons/favicon-180x180.png\" rel=\"apple-touch-icon\" sizes=\"180x180\"/>\n",
      "      <link href=\"/favicons/favicon-16x16.png\" rel=\"icon\" sizes=\"16x16\" type=\"image/png\"/>\n",
      "      <link href=\"/favicons/favicon-32x32.png\" rel=\"icon\" sizes=\"32x32\" type=\"image/png\"/>\n",
      "      <link href=\"/favicons/favicon-36x36.png\" rel=\"icon\" sizes=\"36x36\" type=\"image/png\"/>\n",
      "      <link href=\"/favicons/favicon-48x48.png\" rel=\"icon\" sizes=\"48x48\" type=\"image/png\"/>\n",
      "      <link href=\"/favicons/favicon-96x96.png\" rel=\"icon\" sizes=\"96x96\" type=\"image/png\"/>\n",
      "      <link href=\"/favicons/favicon-128x128.png\" rel=\"icon\" sizes=\"128x128\" type=\"image/png\"/>\n",
      "      <link href=\"/favicons/favicon-512x512.png\" rel=\"icon\" sizes=\"512x512\" type=\"image/png\"/>\n",
      "      <style>\n",
      "       html {\n",
      "          font-size: 112.5%;\n",
      "        }\n",
      "\n",
      "        @font-face {\n",
      "          font-family: \"Shurjo\";\n",
      "          font-display: swap;\n",
      "          font-style: normal;\n",
      "          font-weight: 400;\n",
      "          src: url(https://assets.prothomalo.com/prothomalo/assets/ShurjoWeb_400_v5_1.woff2) format('woff2'),\n",
      "               url(https://assets.prothomalo.com/prothomalo/assets/ShurjoWeb_400_v5_1.woff) format(\"woff\");\n",
      "        }\n",
      "        @font-face {\n",
      "          font-family: \"Shurjo\";\n",
      "          font-display: swap;\n",
      "          font-style: normal;\n",
      "          font-weight: 700;\n",
      "          src: url(https://assets.prothomalo.com/prothomalo/assets/ShurjoWeb_700_v5_1.woff2) format('woff2'),\n",
      "               url(https://assets.prothomalo.com/prothomalo/assets/ShurjoWeb_40\n"
     ]
    }
   ],
   "source": [
    "# Add this to your script to see the structure\n",
    "print(soup.prettify()[:10000])  # Print first 1000 characters"
   ]
  },
  {
   "cell_type": "code",
   "execution_count": null,
   "id": "53700c03",
   "metadata": {},
   "outputs": [],
   "source": []
  }
 ],
 "metadata": {
  "kernelspec": {
   "display_name": ".venv",
   "language": "python",
   "name": "python3"
  },
  "language_info": {
   "codemirror_mode": {
    "name": "ipython",
    "version": 3
   },
   "file_extension": ".py",
   "mimetype": "text/x-python",
   "name": "python",
   "nbconvert_exporter": "python",
   "pygments_lexer": "ipython3",
   "version": "3.10.12"
  }
 },
 "nbformat": 4,
 "nbformat_minor": 5
}
