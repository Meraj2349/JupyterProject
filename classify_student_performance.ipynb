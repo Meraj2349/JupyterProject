{
 "cells": [
  {
   "cell_type": "code",
   "execution_count": 1,
   "id": "9d59c2cb",
   "metadata": {},
   "outputs": [],
   "source": [
    "import pandas as pd\n",
    "import numpy as np\n",
    "\n",
    "import matplotlib.pyplot as plt\n",
    "import seaborn as sns\n",
    "\n"
   ]
  },
  {
   "cell_type": "code",
   "execution_count": 2,
   "id": "37c9ed38",
   "metadata": {},
   "outputs": [
    {
     "data": {
      "application/vnd.microsoft.datawrangler.viewer.v0+json": {
       "columns": [
        {
         "name": "index",
         "rawType": "int64",
         "type": "integer"
        },
        {
         "name": "Student ID",
         "rawType": "float64",
         "type": "float"
        },
        {
         "name": "Name",
         "rawType": "object",
         "type": "unknown"
        },
        {
         "name": "Class",
         "rawType": "float64",
         "type": "float"
        },
        {
         "name": "Subject",
         "rawType": "object",
         "type": "unknown"
        },
        {
         "name": "Exam Category",
         "rawType": "object",
         "type": "unknown"
        },
        {
         "name": "Exam Date",
         "rawType": "object",
         "type": "unknown"
        },
        {
         "name": "Score",
         "rawType": "object",
         "type": "unknown"
        },
        {
         "name": "Attendance (%)",
         "rawType": "object",
         "type": "unknown"
        },
        {
         "name": "Participation",
         "rawType": "object",
         "type": "unknown"
        },
        {
         "name": "Behavior Score",
         "rawType": "object",
         "type": "unknown"
        },
        {
         "name": "Final Grade",
         "rawType": "object",
         "type": "unknown"
        }
       ],
       "ref": "9fb00f43-9a72-41a8-ab3e-4f17b3e1998d",
       "rows": [
        [
         "0",
         "202.0",
         "Mehedi Hasan",
         "10.0",
         "Biology",
         "Class Test",
         "2025-01-01",
         "53",
         "93%",
         null,
         "10",
         "A"
        ],
        [
         "1",
         "535.0",
         "Nusrat Hossain",
         "10.0",
         "Computer",
         "Final Exam",
         "2025-01-02",
         "48",
         "60%",
         "Low",
         "7",
         "C"
        ],
        [
         "2",
         "960.0",
         "Tanvir Alam",
         "10.0",
         "Physics",
         "Final Exam",
         "2025-01-03",
         "66",
         "64%",
         null,
         "8",
         "F"
        ],
        [
         "3",
         "370.0",
         "Tanvir Alam",
         "10.0",
         "Physics",
         "Mid Exam",
         "2025-01-04",
         "37",
         "65%",
         null,
         "10",
         "F"
        ],
        [
         "4",
         "206.0",
         "Nusrat Hossain",
         "10.0",
         "Bangla",
         "Final Exam",
         "2025-01-05",
         "57",
         null,
         null,
         "9",
         "D"
        ],
        [
         "5",
         "171.0",
         "Ayesha Rahman",
         "10.0",
         "Computer",
         "Mid Exam",
         "2025-01-06",
         "34",
         "ninety",
         "Low",
         "9",
         null
        ],
        [
         "6",
         "800.0",
         "Sakib Khan",
         "10.0",
         "English",
         "Class Test",
         "2025-01-07",
         "46",
         "51%",
         "Medium",
         "5",
         "C"
        ],
        [
         "7",
         "120.0",
         "Tania Jahan",
         "10.0",
         "Computer",
         "Final Exam",
         "2025-01-08",
         "65",
         "99%",
         "High",
         "8",
         "C"
        ],
        [
         "8",
         "714.0",
         "Mehedi Hasan",
         "10.0",
         "English",
         "Class Test",
         "2025-01-09",
         "48",
         "61%",
         "Medium",
         "8",
         "A+"
        ],
        [
         "9",
         "221.0",
         "Tania Jahan",
         "10.0",
         "Computer",
         "Final Exam",
         "2025-01-10",
         "93",
         "100%",
         "Medium",
         "6",
         "F"
        ],
        [
         "10",
         "566.0",
         "Nusrat Hossain",
         "10.0",
         "UnkownSubject",
         "Class Test",
         "2025-01-11",
         "40",
         "75%",
         "Medium",
         "6",
         "A+"
        ],
        [
         "11",
         "314.0",
         "Sakib Khan",
         "10.0",
         "Math",
         "Final Exam",
         "2025-01-12",
         "83",
         "72%",
         "Low",
         "10",
         "A+"
        ],
        [
         "12",
         "430.0",
         "Mehedi Hasan",
         "10.0",
         "Physics",
         "Class Test",
         "2025-01-13",
         "74",
         "67%",
         "Medium",
         "10",
         "C"
        ],
        [
         "13",
         "558.0",
         "Nusrat Hossain",
         "10.0",
         "Computer",
         "Class Test",
         "2025-01-14",
         "76",
         "81%",
         null,
         "6",
         null
        ],
        [
         "14",
         "187.0",
         "Ayesha Rahman",
         "10.0",
         "Bangla",
         "Final Exam",
         "2025-01-15",
         "41",
         "98%",
         "Low",
         "10",
         "B+"
        ],
        [
         "15",
         "472.0",
         "Tanvir Alam",
         "10.0",
         "Computer",
         "Class Test",
         "32-13-2025",
         "50",
         "87%",
         "High",
         "7",
         null
        ],
        [
         "16",
         "199.0",
         "Tania Jahan",
         "10.0",
         "Biology",
         "Class Test",
         "2025-01-17",
         "40",
         "96%",
         "High",
         "6",
         "F"
        ],
        [
         "17",
         "971.0",
         "Mim Akter",
         "10.0",
         "Physics",
         "Class Test",
         "2025-01-18",
         "34",
         "52%",
         null,
         "8",
         "D"
        ],
        [
         "18",
         "763.0",
         "Mim Akter",
         "10.0",
         "Biology",
         "Final Exam",
         "2025-01-19",
         "85",
         "87%",
         "Low",
         "7",
         "F"
        ],
        [
         "19",
         "230.0",
         "Sakib Khan",
         "10.0",
         "Physics",
         "Final Exam",
         "2025-01-20",
         "49",
         "52%",
         "High",
         "10",
         "A"
        ],
        [
         "20",
         "761.0",
         "Ayesha Rahman",
         "10.0",
         "Biology",
         "Class Test",
         "2025-01-21",
         "70",
         "79%",
         "Medium",
         "9",
         "Excelent"
        ],
        [
         "21",
         "408.0",
         "Tania Jahan",
         "10.0",
         "Computer",
         "Class Test",
         "2025-01-22",
         "75",
         "50%",
         "Medium",
         "5",
         "B+"
        ],
        [
         "22",
         "869.0",
         "Ayesha Rahman",
         "10.0",
         "Computer",
         "Final Exam",
         "2025-01-23",
         "41",
         "79%",
         "Low",
         "6",
         "B"
        ],
        [
         "23",
         "443.0",
         "Tania Jahan",
         "10.0",
         "Math",
         "Final Exam",
         "2025-01-24",
         "99",
         "94%",
         "Medium",
         "9",
         "A+"
        ],
        [
         "24",
         "591.0",
         "Sakib Khan",
         "10.0",
         "Bangla",
         "Class Test",
         "2025-01-25",
         "46",
         "81%",
         "High",
         "10",
         "A+"
        ],
        [
         "25",
         "513.0",
         "Sakib Khan",
         "10.0",
         "Biology",
         "Class Test",
         "2025-01-26",
         "Eighty",
         "77%",
         "Low",
         "8",
         "B+"
        ],
        [
         "26",
         "905.0",
         "Mim Akter",
         "10.0",
         "English",
         "Class Test",
         "2025-01-27",
         "55",
         "70%",
         "High",
         "5",
         "F"
        ],
        [
         "27",
         "485.0",
         "Ayesha Rahman",
         "10.0",
         "Math",
         "Mid Exam",
         "2025-01-28",
         "77",
         "95%",
         null,
         "9",
         "A"
        ],
        [
         "28",
         "291.0",
         "Mehedi Hasan",
         "10.0",
         "Biology",
         "Final Exam",
         "2025-01-29",
         "81",
         null,
         "High",
         "5",
         "F"
        ],
        [
         "29",
         "376.0",
         "Mim Akter",
         "10.0",
         "Biology",
         "Mid Exam",
         "2025-01-30",
         "99",
         "76%",
         null,
         "6",
         "D"
        ],
        [
         "30",
         "260.0",
         "Ayesha Rahman",
         "10.0",
         "Math",
         "Final Exam",
         "2025-01-31",
         "84",
         "85%",
         "Medium",
         "Nine",
         "B"
        ],
        [
         "31",
         "559.0",
         "Mim Akter",
         "10.0",
         "Computer",
         "Final Exam",
         "2025-02-01",
         "62",
         "56%",
         null,
         "8",
         "B+"
        ],
        [
         "32",
         "413.0",
         "Mehedi Hasan",
         "10.0",
         "Biology",
         "Final Exam",
         "2025-02-02",
         "91",
         "71%",
         "High",
         "10",
         "A+"
        ],
        [
         "33",
         "121.0",
         "Tanvir Alam",
         "10.0",
         "Computer",
         "Final Exam",
         "2025-02-03",
         "52",
         "59%",
         "Low",
         "5",
         null
        ],
        [
         "34",
         "352.0",
         "Tanvir Alam",
         "10.0",
         "Math",
         "Final Exam",
         "2025-02-04",
         "44",
         "88%",
         "Low",
         "9",
         "F"
        ],
        [
         "35",
         "847.0",
         "Tanvir Alam",
         "10.0",
         "Computer",
         "Final Exam",
         "2025-02-05",
         "56",
         null,
         null,
         "6",
         null
        ],
        [
         "36",
         "956.0",
         "Tanvir Alam",
         "10.0",
         "Physics",
         "Final Exam",
         "2025-02-06",
         "93",
         "64%",
         "Medium",
         "6",
         "C"
        ],
        [
         "37",
         "660.0",
         "Nusrat Hossain",
         "10.0",
         "English",
         "Mid Exam",
         "2025-02-07",
         "80",
         "53%",
         "Low",
         "10",
         "D"
        ],
        [
         "38",
         "574.0",
         "Tania Jahan",
         "10.0",
         "Biology",
         "Class Test",
         "2025-02-08",
         "82",
         "81%",
         "High",
         "9",
         "B+"
        ],
        [
         "39",
         "158.0",
         "Nusrat Hossain",
         "10.0",
         "Bangla",
         "Class Test",
         "2025-02-09",
         "80",
         null,
         "Medium",
         "9",
         "F"
        ],
        [
         "40",
         "610.0",
         "Nusrat Hossain",
         "10.0",
         "English",
         "Mid Exam",
         "2025-02-10",
         "76",
         "55%",
         "High",
         "5",
         "A+"
        ],
        [
         "41",
         "781.0",
         "Nusrat Hossain",
         "10.0",
         "Computer",
         "Mid Exam",
         "2025-02-11",
         "33",
         "73%",
         "Low",
         "10",
         "F"
        ],
        [
         "42",
         "575.0",
         "Tanvir Alam",
         "10.0",
         "Biology",
         "Mid Exam",
         "2025-02-12",
         "36",
         "69%",
         null,
         "10",
         "B"
        ],
        [
         "43",
         "799.0",
         "Mehedi Hasan",
         "10.0",
         "Computer",
         "Mid Exam",
         "2025-02-13",
         "64",
         "86%",
         "Medium",
         "7",
         "C"
        ],
        [
         "44",
         "882.0",
         "Sakib Khan",
         "10.0",
         "Physics",
         "Final Exam",
         "2025-02-14",
         "77",
         null,
         "Low",
         "10",
         "B"
        ],
        [
         "45",
         "289.0",
         "Sakib Khan",
         "10.0",
         "Math",
         "Class Test",
         "2025-02-15",
         "74",
         "61%",
         "Medium",
         "6",
         "D"
        ],
        [
         "46",
         "786.0",
         "Tania Jahan",
         "10.0",
         "Biology",
         "Final Exam",
         "2025-02-16",
         "48",
         "82%",
         "Low",
         "5",
         "A+"
        ],
        [
         "47",
         "662.0",
         "Tanvir Alam",
         "10.0",
         "Physics",
         "Class Test",
         "2025-02-17",
         "92",
         "77%",
         null,
         "9",
         "C"
        ],
        [
         "48",
         "975.0",
         "Tanvir Alam",
         "10.0",
         "Physics",
         "Class Test",
         "2025-02-18",
         "67",
         "57%",
         "Low",
         "10",
         "D"
        ],
        [
         "49",
         "666.0",
         "Tanvir Alam",
         "10.0",
         "Biology",
         "Mid Exam",
         "2025-02-19",
         "96",
         null,
         null,
         "5",
         null
        ]
       ],
       "shape": {
        "columns": 11,
        "rows": 1002
       }
      },
      "text/html": [
       "<div>\n",
       "<style scoped>\n",
       "    .dataframe tbody tr th:only-of-type {\n",
       "        vertical-align: middle;\n",
       "    }\n",
       "\n",
       "    .dataframe tbody tr th {\n",
       "        vertical-align: top;\n",
       "    }\n",
       "\n",
       "    .dataframe thead th {\n",
       "        text-align: right;\n",
       "    }\n",
       "</style>\n",
       "<table border=\"1\" class=\"dataframe\">\n",
       "  <thead>\n",
       "    <tr style=\"text-align: right;\">\n",
       "      <th></th>\n",
       "      <th>Student ID</th>\n",
       "      <th>Name</th>\n",
       "      <th>Class</th>\n",
       "      <th>Subject</th>\n",
       "      <th>Exam Category</th>\n",
       "      <th>Exam Date</th>\n",
       "      <th>Score</th>\n",
       "      <th>Attendance (%)</th>\n",
       "      <th>Participation</th>\n",
       "      <th>Behavior Score</th>\n",
       "      <th>Final Grade</th>\n",
       "    </tr>\n",
       "  </thead>\n",
       "  <tbody>\n",
       "    <tr>\n",
       "      <th>0</th>\n",
       "      <td>202.0</td>\n",
       "      <td>Mehedi Hasan</td>\n",
       "      <td>10.0</td>\n",
       "      <td>Biology</td>\n",
       "      <td>Class Test</td>\n",
       "      <td>2025-01-01</td>\n",
       "      <td>53</td>\n",
       "      <td>93%</td>\n",
       "      <td>NaN</td>\n",
       "      <td>10</td>\n",
       "      <td>A</td>\n",
       "    </tr>\n",
       "    <tr>\n",
       "      <th>1</th>\n",
       "      <td>535.0</td>\n",
       "      <td>Nusrat Hossain</td>\n",
       "      <td>10.0</td>\n",
       "      <td>Computer</td>\n",
       "      <td>Final Exam</td>\n",
       "      <td>2025-01-02</td>\n",
       "      <td>48</td>\n",
       "      <td>60%</td>\n",
       "      <td>Low</td>\n",
       "      <td>7</td>\n",
       "      <td>C</td>\n",
       "    </tr>\n",
       "    <tr>\n",
       "      <th>2</th>\n",
       "      <td>960.0</td>\n",
       "      <td>Tanvir Alam</td>\n",
       "      <td>10.0</td>\n",
       "      <td>Physics</td>\n",
       "      <td>Final Exam</td>\n",
       "      <td>2025-01-03</td>\n",
       "      <td>66</td>\n",
       "      <td>64%</td>\n",
       "      <td>NaN</td>\n",
       "      <td>8</td>\n",
       "      <td>F</td>\n",
       "    </tr>\n",
       "    <tr>\n",
       "      <th>3</th>\n",
       "      <td>370.0</td>\n",
       "      <td>Tanvir Alam</td>\n",
       "      <td>10.0</td>\n",
       "      <td>Physics</td>\n",
       "      <td>Mid Exam</td>\n",
       "      <td>2025-01-04</td>\n",
       "      <td>37</td>\n",
       "      <td>65%</td>\n",
       "      <td>NaN</td>\n",
       "      <td>10</td>\n",
       "      <td>F</td>\n",
       "    </tr>\n",
       "    <tr>\n",
       "      <th>4</th>\n",
       "      <td>206.0</td>\n",
       "      <td>Nusrat Hossain</td>\n",
       "      <td>10.0</td>\n",
       "      <td>Bangla</td>\n",
       "      <td>Final Exam</td>\n",
       "      <td>2025-01-05</td>\n",
       "      <td>57</td>\n",
       "      <td>NaN</td>\n",
       "      <td>NaN</td>\n",
       "      <td>9</td>\n",
       "      <td>D</td>\n",
       "    </tr>\n",
       "    <tr>\n",
       "      <th>...</th>\n",
       "      <td>...</td>\n",
       "      <td>...</td>\n",
       "      <td>...</td>\n",
       "      <td>...</td>\n",
       "      <td>...</td>\n",
       "      <td>...</td>\n",
       "      <td>...</td>\n",
       "      <td>...</td>\n",
       "      <td>...</td>\n",
       "      <td>...</td>\n",
       "      <td>...</td>\n",
       "    </tr>\n",
       "    <tr>\n",
       "      <th>997</th>\n",
       "      <td>405.0</td>\n",
       "      <td>Sakib Khan</td>\n",
       "      <td>10.0</td>\n",
       "      <td>Physics</td>\n",
       "      <td>Final Exam</td>\n",
       "      <td>2027-09-25</td>\n",
       "      <td>88</td>\n",
       "      <td>68%</td>\n",
       "      <td>Low</td>\n",
       "      <td>8</td>\n",
       "      <td>B</td>\n",
       "    </tr>\n",
       "    <tr>\n",
       "      <th>998</th>\n",
       "      <td>197.0</td>\n",
       "      <td>Nusrat Hossain</td>\n",
       "      <td>10.0</td>\n",
       "      <td>Physics</td>\n",
       "      <td>Class Test</td>\n",
       "      <td>2027-09-26</td>\n",
       "      <td>31</td>\n",
       "      <td>62%</td>\n",
       "      <td>High</td>\n",
       "      <td>8</td>\n",
       "      <td>A</td>\n",
       "    </tr>\n",
       "    <tr>\n",
       "      <th>999</th>\n",
       "      <td>949.0</td>\n",
       "      <td>Mehedi Hasan</td>\n",
       "      <td>10.0</td>\n",
       "      <td>Physics</td>\n",
       "      <td>Class Test</td>\n",
       "      <td>2027-09-27</td>\n",
       "      <td>39</td>\n",
       "      <td>91%</td>\n",
       "      <td>High</td>\n",
       "      <td>9</td>\n",
       "      <td>A+</td>\n",
       "    </tr>\n",
       "    <tr>\n",
       "      <th>1000</th>\n",
       "      <td>202.0</td>\n",
       "      <td>Mehedi Hasan</td>\n",
       "      <td>10.0</td>\n",
       "      <td>Biology</td>\n",
       "      <td>Class Test</td>\n",
       "      <td>2025-01-01</td>\n",
       "      <td>53</td>\n",
       "      <td>93%</td>\n",
       "      <td>NaN</td>\n",
       "      <td>10</td>\n",
       "      <td>A</td>\n",
       "    </tr>\n",
       "    <tr>\n",
       "      <th>1001</th>\n",
       "      <td>NaN</td>\n",
       "      <td>NaN</td>\n",
       "      <td>NaN</td>\n",
       "      <td>NaN</td>\n",
       "      <td>NaN</td>\n",
       "      <td>NaN</td>\n",
       "      <td>NaN</td>\n",
       "      <td>NaN</td>\n",
       "      <td>NaN</td>\n",
       "      <td>NaN</td>\n",
       "      <td>NaN</td>\n",
       "    </tr>\n",
       "  </tbody>\n",
       "</table>\n",
       "<p>1002 rows × 11 columns</p>\n",
       "</div>"
      ],
      "text/plain": [
       "      Student ID            Name  Class   Subject Exam Category   Exam Date  \\\n",
       "0          202.0    Mehedi Hasan   10.0   Biology    Class Test  2025-01-01   \n",
       "1          535.0  Nusrat Hossain   10.0  Computer    Final Exam  2025-01-02   \n",
       "2          960.0     Tanvir Alam   10.0   Physics    Final Exam  2025-01-03   \n",
       "3          370.0     Tanvir Alam   10.0   Physics      Mid Exam  2025-01-04   \n",
       "4          206.0  Nusrat Hossain   10.0    Bangla    Final Exam  2025-01-05   \n",
       "...          ...             ...    ...       ...           ...         ...   \n",
       "997        405.0      Sakib Khan   10.0   Physics    Final Exam  2027-09-25   \n",
       "998        197.0  Nusrat Hossain   10.0   Physics    Class Test  2027-09-26   \n",
       "999        949.0    Mehedi Hasan   10.0   Physics    Class Test  2027-09-27   \n",
       "1000       202.0    Mehedi Hasan   10.0   Biology    Class Test  2025-01-01   \n",
       "1001         NaN             NaN    NaN       NaN           NaN         NaN   \n",
       "\n",
       "     Score Attendance (%) Participation Behavior Score Final Grade  \n",
       "0       53            93%           NaN             10           A  \n",
       "1       48            60%           Low              7           C  \n",
       "2       66            64%           NaN              8           F  \n",
       "3       37            65%           NaN             10           F  \n",
       "4       57            NaN           NaN              9           D  \n",
       "...    ...            ...           ...            ...         ...  \n",
       "997     88            68%           Low              8           B  \n",
       "998     31            62%          High              8           A  \n",
       "999     39            91%          High              9          A+  \n",
       "1000    53            93%           NaN             10           A  \n",
       "1001   NaN            NaN           NaN            NaN         NaN  \n",
       "\n",
       "[1002 rows x 11 columns]"
      ]
     },
     "execution_count": 2,
     "metadata": {},
     "output_type": "execute_result"
    }
   ],
   "source": [
    "students_data = pd.read_csv(\"noisy_student_performance_data.csv\")\n",
    "students_data "
   ]
  },
  {
   "cell_type": "code",
   "execution_count": 3,
   "id": "47db9468",
   "metadata": {},
   "outputs": [
    {
     "data": {
      "application/vnd.microsoft.datawrangler.viewer.v0+json": {
       "columns": [
        {
         "name": "index",
         "rawType": "int64",
         "type": "integer"
        },
        {
         "name": "Attendance (%)",
         "rawType": "object",
         "type": "unknown"
        }
       ],
       "ref": "0712aa96-21b6-4279-809b-e673fd558d08",
       "rows": [
        [
         "0",
         "93%"
        ],
        [
         "1",
         "60%"
        ],
        [
         "2",
         "64%"
        ],
        [
         "3",
         "65%"
        ],
        [
         "4",
         null
        ],
        [
         "5",
         "ninety"
        ],
        [
         "6",
         "51%"
        ],
        [
         "7",
         "99%"
        ],
        [
         "8",
         "61%"
        ],
        [
         "9",
         "100%"
        ],
        [
         "10",
         "75%"
        ],
        [
         "11",
         "72%"
        ],
        [
         "12",
         "67%"
        ],
        [
         "13",
         "81%"
        ],
        [
         "14",
         "98%"
        ],
        [
         "15",
         "87%"
        ],
        [
         "16",
         "96%"
        ],
        [
         "17",
         "52%"
        ],
        [
         "18",
         "87%"
        ],
        [
         "19",
         "52%"
        ],
        [
         "20",
         "79%"
        ],
        [
         "21",
         "50%"
        ],
        [
         "22",
         "79%"
        ],
        [
         "23",
         "94%"
        ],
        [
         "24",
         "81%"
        ],
        [
         "25",
         "77%"
        ],
        [
         "26",
         "70%"
        ],
        [
         "27",
         "95%"
        ],
        [
         "28",
         null
        ],
        [
         "29",
         "76%"
        ],
        [
         "30",
         "85%"
        ],
        [
         "31",
         "56%"
        ],
        [
         "32",
         "71%"
        ],
        [
         "33",
         "59%"
        ],
        [
         "34",
         "88%"
        ],
        [
         "35",
         null
        ],
        [
         "36",
         "64%"
        ],
        [
         "37",
         "53%"
        ],
        [
         "38",
         "81%"
        ],
        [
         "39",
         null
        ],
        [
         "40",
         "55%"
        ],
        [
         "41",
         "73%"
        ],
        [
         "42",
         "69%"
        ],
        [
         "43",
         "86%"
        ],
        [
         "44",
         null
        ],
        [
         "45",
         "61%"
        ],
        [
         "46",
         "82%"
        ],
        [
         "47",
         "77%"
        ],
        [
         "48",
         "57%"
        ],
        [
         "49",
         null
        ]
       ],
       "shape": {
        "columns": 1,
        "rows": 1002
       }
      },
      "text/plain": [
       "0       93%\n",
       "1       60%\n",
       "2       64%\n",
       "3       65%\n",
       "4       NaN\n",
       "       ... \n",
       "997     68%\n",
       "998     62%\n",
       "999     91%\n",
       "1000    93%\n",
       "1001    NaN\n",
       "Name: Attendance (%), Length: 1002, dtype: object"
      ]
     },
     "execution_count": 3,
     "metadata": {},
     "output_type": "execute_result"
    }
   ],
   "source": [
    "students_data[\"Attendance (%)\"]"
   ]
  },
  {
   "cell_type": "code",
   "execution_count": 4,
   "id": "894d478b",
   "metadata": {},
   "outputs": [
    {
     "data": {
      "application/vnd.microsoft.datawrangler.viewer.v0+json": {
       "columns": [
        {
         "name": "index",
         "rawType": "int64",
         "type": "integer"
        },
        {
         "name": "Student ID",
         "rawType": "float64",
         "type": "float"
        },
        {
         "name": "Name",
         "rawType": "object",
         "type": "string"
        },
        {
         "name": "Class",
         "rawType": "float64",
         "type": "float"
        },
        {
         "name": "Subject",
         "rawType": "object",
         "type": "string"
        },
        {
         "name": "Exam Category",
         "rawType": "object",
         "type": "string"
        },
        {
         "name": "Exam Date",
         "rawType": "object",
         "type": "string"
        },
        {
         "name": "Score",
         "rawType": "object",
         "type": "string"
        },
        {
         "name": "Attendance (%)",
         "rawType": "object",
         "type": "string"
        },
        {
         "name": "Participation",
         "rawType": "object",
         "type": "unknown"
        },
        {
         "name": "Behavior Score",
         "rawType": "object",
         "type": "string"
        },
        {
         "name": "Final Grade",
         "rawType": "object",
         "type": "unknown"
        }
       ],
       "ref": "7f44269d-b344-4f82-8e23-e9c7cd757267",
       "rows": [
        [
         "0",
         "202.0",
         "Mehedi Hasan",
         "10.0",
         "Biology",
         "Class Test",
         "2025-01-01",
         "53",
         "93%",
         null,
         "10",
         "A"
        ],
        [
         "5",
         "171.0",
         "Ayesha Rahman",
         "10.0",
         "Computer",
         "Mid Exam",
         "2025-01-06",
         "34",
         "ninety",
         "Low",
         "9",
         null
        ],
        [
         "7",
         "120.0",
         "Tania Jahan",
         "10.0",
         "Computer",
         "Final Exam",
         "2025-01-08",
         "65",
         "99%",
         "High",
         "8",
         "C"
        ],
        [
         "13",
         "558.0",
         "Nusrat Hossain",
         "10.0",
         "Computer",
         "Class Test",
         "2025-01-14",
         "76",
         "81%",
         null,
         "6",
         null
        ],
        [
         "14",
         "187.0",
         "Ayesha Rahman",
         "10.0",
         "Bangla",
         "Final Exam",
         "2025-01-15",
         "41",
         "98%",
         "Low",
         "10",
         "B+"
        ],
        [
         "15",
         "472.0",
         "Tanvir Alam",
         "10.0",
         "Computer",
         "Class Test",
         "32-13-2025",
         "50",
         "87%",
         "High",
         "7",
         null
        ],
        [
         "16",
         "199.0",
         "Tania Jahan",
         "10.0",
         "Biology",
         "Class Test",
         "2025-01-17",
         "40",
         "96%",
         "High",
         "6",
         "F"
        ],
        [
         "18",
         "763.0",
         "Mim Akter",
         "10.0",
         "Biology",
         "Final Exam",
         "2025-01-19",
         "85",
         "87%",
         "Low",
         "7",
         "F"
        ],
        [
         "23",
         "443.0",
         "Tania Jahan",
         "10.0",
         "Math",
         "Final Exam",
         "2025-01-24",
         "99",
         "94%",
         "Medium",
         "9",
         "A+"
        ],
        [
         "24",
         "591.0",
         "Sakib Khan",
         "10.0",
         "Bangla",
         "Class Test",
         "2025-01-25",
         "46",
         "81%",
         "High",
         "10",
         "A+"
        ],
        [
         "27",
         "485.0",
         "Ayesha Rahman",
         "10.0",
         "Math",
         "Mid Exam",
         "2025-01-28",
         "77",
         "95%",
         null,
         "9",
         "A"
        ],
        [
         "30",
         "260.0",
         "Ayesha Rahman",
         "10.0",
         "Math",
         "Final Exam",
         "2025-01-31",
         "84",
         "85%",
         "Medium",
         "Nine",
         "B"
        ],
        [
         "34",
         "352.0",
         "Tanvir Alam",
         "10.0",
         "Math",
         "Final Exam",
         "2025-02-04",
         "44",
         "88%",
         "Low",
         "9",
         "F"
        ],
        [
         "38",
         "574.0",
         "Tania Jahan",
         "10.0",
         "Biology",
         "Class Test",
         "2025-02-08",
         "82",
         "81%",
         "High",
         "9",
         "B+"
        ],
        [
         "43",
         "799.0",
         "Mehedi Hasan",
         "10.0",
         "Computer",
         "Mid Exam",
         "2025-02-13",
         "64",
         "86%",
         "Medium",
         "7",
         "C"
        ],
        [
         "46",
         "786.0",
         "Tania Jahan",
         "10.0",
         "Biology",
         "Final Exam",
         "2025-02-16",
         "48",
         "82%",
         "Low",
         "5",
         "A+"
        ],
        [
         "50",
         "343.0",
         "Mim Akter",
         "10.0",
         "Computer",
         "Final Exam",
         "2025-02-20",
         "88",
         "86%",
         "High",
         "10",
         "B"
        ],
        [
         "54",
         "584.0",
         "Tanvir Alam",
         "10.0",
         "Physics",
         "Mid Exam",
         "2025-02-24",
         "90",
         "81%",
         "Medium",
         "9",
         "B+"
        ],
        [
         "55",
         "918.0",
         "Tanvir Alam",
         "10.0",
         "Bangla",
         "Mid Exam",
         "2025-02-25",
         "60",
         "84%",
         "High",
         "9",
         "D"
        ],
        [
         "58",
         "940.0",
         "Ayesha Rahman",
         "10.0",
         "English",
         "Class Test",
         "2025-02-28",
         "96",
         "95%",
         "Low",
         "9",
         "A"
        ],
        [
         "59",
         "266.0",
         "Sakib Khan",
         "10.0",
         "Physics",
         "Mid Exam",
         "2025-03-01",
         "83",
         "99%",
         "Low",
         "6",
         "A+"
        ],
        [
         "60",
         "373.0",
         "Ayesha Rahman",
         "10.0",
         "Computer",
         "Final Exam",
         "2025-03-02",
         "39",
         "97%",
         null,
         "6",
         "B+"
        ],
        [
         "63",
         "415.0",
         "Mim Akter",
         "10.0",
         "Math",
         "Mid Exam",
         "2025-03-05",
         "50",
         "95%",
         "Low",
         "5",
         "A+"
        ],
        [
         "64",
         "113.0",
         "Mehedi Hasan",
         "10.0",
         "Math",
         "Mid Exam",
         "2025-03-06",
         "95",
         "89%",
         "Medium",
         "6",
         "D"
        ],
        [
         "67",
         "445.0",
         "Tania Jahan",
         "10.0",
         "English",
         "Mid Exam",
         "2025-03-09",
         "64",
         "89%",
         "Medium",
         "9",
         "F"
        ],
        [
         "69",
         "997.0",
         "Ayesha Rahman",
         "10.0",
         "Biology",
         "Class Test",
         "2025-03-11",
         "59",
         "87%",
         "Low",
         "10",
         "A+"
        ],
        [
         "74",
         "527.0",
         "Ayesha Rahman",
         "10.0",
         "Math",
         "Mid Exam",
         "2025-03-16",
         "37",
         "82%",
         "High",
         "9",
         "B"
        ],
        [
         "75",
         "608.0",
         "Mim Akter",
         "10.0",
         "Physics",
         "Final Exam",
         "2025-03-17",
         "55",
         "87%",
         "Low",
         "8",
         "B"
        ],
        [
         "76",
         "875.0",
         "Tanvir Alam",
         "10.0",
         "English",
         "Class Test",
         "2025-03-18",
         "100",
         "97%",
         null,
         "7",
         "C"
        ],
        [
         "81",
         "971.0",
         "Tania Jahan",
         "10.0",
         "Bangla",
         "Final Exam",
         "2025-03-23",
         "65",
         "80%",
         "High",
         "6",
         "C"
        ],
        [
         "83",
         "101.0",
         "Nusrat Hossain",
         "10.0",
         "English",
         "Mid Exam",
         "2025-03-25",
         "66",
         "81%",
         "High",
         "6",
         "B"
        ],
        [
         "88",
         "921.0",
         "Tania Jahan",
         "10.0",
         "Math",
         "Class Test",
         "2025-03-30",
         "37",
         "84%",
         "High",
         "10",
         "A+"
        ],
        [
         "89",
         "576.0",
         "Ayesha Rahman",
         "10.0",
         "English",
         "Final Exam",
         "2025-03-31",
         "34",
         "80%",
         "Low",
         "10",
         "A"
        ],
        [
         "93",
         "655.0",
         "Tanvir Alam",
         "10.0",
         "Bangla",
         "Final Exam",
         "2025-04-04",
         "64",
         "98%",
         "Medium",
         "7",
         "D"
        ],
        [
         "94",
         "261.0",
         "Mim Akter",
         "10.0",
         "Math",
         "Mid Exam",
         "2025-04-05",
         "95",
         "84%",
         "High",
         "10",
         "F"
        ],
        [
         "100",
         "555.0",
         "Mehedi Hasan",
         "10.0",
         "Bangla",
         "Final Exam",
         "2025-04-11",
         "33",
         "97%",
         "Low",
         "8",
         "B"
        ],
        [
         "101",
         "561.0",
         "Ayesha Rahman",
         "10.0",
         "Computer",
         "Mid Exam",
         "2025-04-12",
         "59",
         "84%",
         "High",
         "8",
         "A"
        ],
        [
         "103",
         "351.0",
         "Nusrat Hossain",
         "10.0",
         "English",
         "Class Test",
         "2025-04-14",
         "43",
         "87%",
         "Medium",
         "6",
         "F"
        ],
        [
         "104",
         "801.0",
         "Mehedi Hasan",
         "10.0",
         "Biology",
         "Mid Exam",
         "2025-04-15",
         "89",
         "80%",
         "High",
         "7",
         "A+"
        ],
        [
         "108",
         "848.0",
         "Mehedi Hasan",
         "10.0",
         "English",
         "Mid Exam",
         "2025-04-19",
         "90",
         "98%",
         "Low",
         "8",
         null
        ],
        [
         "109",
         "437.0",
         "Tanvir Alam",
         "10.0",
         "Computer",
         "Final Exam",
         "2025-04-20",
         "45",
         "81%",
         "Medium",
         "6",
         "F"
        ],
        [
         "110",
         "978.0",
         "Tanvir Alam",
         "10.0",
         "Biology",
         "Final Exam",
         "2025-04-21",
         "95",
         "85%",
         "Medium",
         "5",
         "D"
        ],
        [
         "111",
         "152.0",
         "Nusrat Hossain",
         "10.0",
         "Math",
         "Final Exam",
         "2025-04-22",
         "69",
         "81%",
         "Medium",
         "8",
         "A"
        ],
        [
         "113",
         "316.0",
         "Nusrat Hossain",
         "10.0",
         "Biology",
         "Mid Exam",
         "2025-04-24",
         "63",
         "92%",
         "Low",
         "10",
         "B"
        ],
        [
         "114",
         "863.0",
         "Nusrat Hossain",
         "10.0",
         "Biology",
         "Final Exam",
         "2025-04-25",
         "45",
         "84%",
         "Low",
         "10",
         "A"
        ],
        [
         "125",
         "620.0",
         "Nusrat Hossain",
         "10.0",
         "Math",
         "Mid Exam",
         "2025-05-06",
         "84",
         "92%",
         "Low",
         "7",
         "B+"
        ],
        [
         "131",
         "238.0",
         "Nusrat Hossain",
         "10.0",
         "Bangla",
         "Mid Exam",
         "2025-05-12",
         "59",
         "97%",
         null,
         "7",
         "B"
        ],
        [
         "136",
         "518.0",
         "Ayesha Rahman",
         "10.0",
         "Biology",
         "Final Exam",
         "2025-05-17",
         "82",
         "95%",
         "Low",
         "8",
         "B"
        ],
        [
         "137",
         "388.0",
         "Mehedi Hasan",
         "10.0",
         "Math",
         "Final Exam",
         "2025-05-18",
         "48",
         "83%",
         "Medium",
         "7",
         "A"
        ],
        [
         "144",
         "234.0",
         "Sakib Khan",
         "10.0",
         "Biology",
         "Final Exam",
         "2025-05-25",
         "91",
         "99%",
         "Low",
         "8",
         "C"
        ]
       ],
       "shape": {
        "columns": 11,
        "rows": 364
       }
      },
      "text/html": [
       "<div>\n",
       "<style scoped>\n",
       "    .dataframe tbody tr th:only-of-type {\n",
       "        vertical-align: middle;\n",
       "    }\n",
       "\n",
       "    .dataframe tbody tr th {\n",
       "        vertical-align: top;\n",
       "    }\n",
       "\n",
       "    .dataframe thead th {\n",
       "        text-align: right;\n",
       "    }\n",
       "</style>\n",
       "<table border=\"1\" class=\"dataframe\">\n",
       "  <thead>\n",
       "    <tr style=\"text-align: right;\">\n",
       "      <th></th>\n",
       "      <th>Student ID</th>\n",
       "      <th>Name</th>\n",
       "      <th>Class</th>\n",
       "      <th>Subject</th>\n",
       "      <th>Exam Category</th>\n",
       "      <th>Exam Date</th>\n",
       "      <th>Score</th>\n",
       "      <th>Attendance (%)</th>\n",
       "      <th>Participation</th>\n",
       "      <th>Behavior Score</th>\n",
       "      <th>Final Grade</th>\n",
       "    </tr>\n",
       "  </thead>\n",
       "  <tbody>\n",
       "    <tr>\n",
       "      <th>0</th>\n",
       "      <td>202.0</td>\n",
       "      <td>Mehedi Hasan</td>\n",
       "      <td>10.0</td>\n",
       "      <td>Biology</td>\n",
       "      <td>Class Test</td>\n",
       "      <td>2025-01-01</td>\n",
       "      <td>53</td>\n",
       "      <td>93%</td>\n",
       "      <td>NaN</td>\n",
       "      <td>10</td>\n",
       "      <td>A</td>\n",
       "    </tr>\n",
       "    <tr>\n",
       "      <th>5</th>\n",
       "      <td>171.0</td>\n",
       "      <td>Ayesha Rahman</td>\n",
       "      <td>10.0</td>\n",
       "      <td>Computer</td>\n",
       "      <td>Mid Exam</td>\n",
       "      <td>2025-01-06</td>\n",
       "      <td>34</td>\n",
       "      <td>ninety</td>\n",
       "      <td>Low</td>\n",
       "      <td>9</td>\n",
       "      <td>NaN</td>\n",
       "    </tr>\n",
       "    <tr>\n",
       "      <th>7</th>\n",
       "      <td>120.0</td>\n",
       "      <td>Tania Jahan</td>\n",
       "      <td>10.0</td>\n",
       "      <td>Computer</td>\n",
       "      <td>Final Exam</td>\n",
       "      <td>2025-01-08</td>\n",
       "      <td>65</td>\n",
       "      <td>99%</td>\n",
       "      <td>High</td>\n",
       "      <td>8</td>\n",
       "      <td>C</td>\n",
       "    </tr>\n",
       "    <tr>\n",
       "      <th>13</th>\n",
       "      <td>558.0</td>\n",
       "      <td>Nusrat Hossain</td>\n",
       "      <td>10.0</td>\n",
       "      <td>Computer</td>\n",
       "      <td>Class Test</td>\n",
       "      <td>2025-01-14</td>\n",
       "      <td>76</td>\n",
       "      <td>81%</td>\n",
       "      <td>NaN</td>\n",
       "      <td>6</td>\n",
       "      <td>NaN</td>\n",
       "    </tr>\n",
       "    <tr>\n",
       "      <th>14</th>\n",
       "      <td>187.0</td>\n",
       "      <td>Ayesha Rahman</td>\n",
       "      <td>10.0</td>\n",
       "      <td>Bangla</td>\n",
       "      <td>Final Exam</td>\n",
       "      <td>2025-01-15</td>\n",
       "      <td>41</td>\n",
       "      <td>98%</td>\n",
       "      <td>Low</td>\n",
       "      <td>10</td>\n",
       "      <td>B+</td>\n",
       "    </tr>\n",
       "    <tr>\n",
       "      <th>...</th>\n",
       "      <td>...</td>\n",
       "      <td>...</td>\n",
       "      <td>...</td>\n",
       "      <td>...</td>\n",
       "      <td>...</td>\n",
       "      <td>...</td>\n",
       "      <td>...</td>\n",
       "      <td>...</td>\n",
       "      <td>...</td>\n",
       "      <td>...</td>\n",
       "      <td>...</td>\n",
       "    </tr>\n",
       "    <tr>\n",
       "      <th>994</th>\n",
       "      <td>863.0</td>\n",
       "      <td>Tanvir Alam</td>\n",
       "      <td>10.0</td>\n",
       "      <td>English</td>\n",
       "      <td>Final Exam</td>\n",
       "      <td>2027-09-22</td>\n",
       "      <td>88</td>\n",
       "      <td>85%</td>\n",
       "      <td>High</td>\n",
       "      <td>10</td>\n",
       "      <td>A</td>\n",
       "    </tr>\n",
       "    <tr>\n",
       "      <th>995</th>\n",
       "      <td>837.0</td>\n",
       "      <td>Tanvir Alam</td>\n",
       "      <td>10.0</td>\n",
       "      <td>Computer</td>\n",
       "      <td>Mid Exam</td>\n",
       "      <td>2027-09-23</td>\n",
       "      <td>86</td>\n",
       "      <td>96%</td>\n",
       "      <td>Low</td>\n",
       "      <td>9</td>\n",
       "      <td>B+</td>\n",
       "    </tr>\n",
       "    <tr>\n",
       "      <th>996</th>\n",
       "      <td>905.0</td>\n",
       "      <td>Ayesha Rahman</td>\n",
       "      <td>10.0</td>\n",
       "      <td>Math</td>\n",
       "      <td>Final Exam</td>\n",
       "      <td>2027-09-24</td>\n",
       "      <td>69</td>\n",
       "      <td>95%</td>\n",
       "      <td>High</td>\n",
       "      <td>8</td>\n",
       "      <td>A+</td>\n",
       "    </tr>\n",
       "    <tr>\n",
       "      <th>999</th>\n",
       "      <td>949.0</td>\n",
       "      <td>Mehedi Hasan</td>\n",
       "      <td>10.0</td>\n",
       "      <td>Physics</td>\n",
       "      <td>Class Test</td>\n",
       "      <td>2027-09-27</td>\n",
       "      <td>39</td>\n",
       "      <td>91%</td>\n",
       "      <td>High</td>\n",
       "      <td>9</td>\n",
       "      <td>A+</td>\n",
       "    </tr>\n",
       "    <tr>\n",
       "      <th>1000</th>\n",
       "      <td>202.0</td>\n",
       "      <td>Mehedi Hasan</td>\n",
       "      <td>10.0</td>\n",
       "      <td>Biology</td>\n",
       "      <td>Class Test</td>\n",
       "      <td>2025-01-01</td>\n",
       "      <td>53</td>\n",
       "      <td>93%</td>\n",
       "      <td>NaN</td>\n",
       "      <td>10</td>\n",
       "      <td>A</td>\n",
       "    </tr>\n",
       "  </tbody>\n",
       "</table>\n",
       "<p>364 rows × 11 columns</p>\n",
       "</div>"
      ],
      "text/plain": [
       "      Student ID            Name  Class   Subject Exam Category   Exam Date  \\\n",
       "0          202.0    Mehedi Hasan   10.0   Biology    Class Test  2025-01-01   \n",
       "5          171.0   Ayesha Rahman   10.0  Computer      Mid Exam  2025-01-06   \n",
       "7          120.0     Tania Jahan   10.0  Computer    Final Exam  2025-01-08   \n",
       "13         558.0  Nusrat Hossain   10.0  Computer    Class Test  2025-01-14   \n",
       "14         187.0   Ayesha Rahman   10.0    Bangla    Final Exam  2025-01-15   \n",
       "...          ...             ...    ...       ...           ...         ...   \n",
       "994        863.0     Tanvir Alam   10.0   English    Final Exam  2027-09-22   \n",
       "995        837.0     Tanvir Alam   10.0  Computer      Mid Exam  2027-09-23   \n",
       "996        905.0   Ayesha Rahman   10.0      Math    Final Exam  2027-09-24   \n",
       "999        949.0    Mehedi Hasan   10.0   Physics    Class Test  2027-09-27   \n",
       "1000       202.0    Mehedi Hasan   10.0   Biology    Class Test  2025-01-01   \n",
       "\n",
       "     Score Attendance (%) Participation Behavior Score Final Grade  \n",
       "0       53            93%           NaN             10           A  \n",
       "5       34         ninety           Low              9         NaN  \n",
       "7       65            99%          High              8           C  \n",
       "13      76            81%           NaN              6         NaN  \n",
       "14      41            98%           Low             10          B+  \n",
       "...    ...            ...           ...            ...         ...  \n",
       "994     88            85%          High             10           A  \n",
       "995     86            96%           Low              9          B+  \n",
       "996     69            95%          High              8          A+  \n",
       "999     39            91%          High              9          A+  \n",
       "1000    53            93%           NaN             10           A  \n",
       "\n",
       "[364 rows x 11 columns]"
      ]
     },
     "execution_count": 4,
     "metadata": {},
     "output_type": "execute_result"
    }
   ],
   "source": [
    "students_data[students_data[\"Attendance (%)\"] >= \"80%\"]"
   ]
  },
  {
   "cell_type": "code",
   "execution_count": 5,
   "id": "9d960147",
   "metadata": {},
   "outputs": [
    {
     "data": {
      "application/vnd.microsoft.datawrangler.viewer.v0+json": {
       "columns": [
        {
         "name": "index",
         "rawType": "int64",
         "type": "integer"
        },
        {
         "name": "Student ID",
         "rawType": "float64",
         "type": "float"
        },
        {
         "name": "Name",
         "rawType": "object",
         "type": "unknown"
        },
        {
         "name": "Class",
         "rawType": "float64",
         "type": "float"
        },
        {
         "name": "Subject",
         "rawType": "object",
         "type": "unknown"
        },
        {
         "name": "Exam Category",
         "rawType": "object",
         "type": "unknown"
        },
        {
         "name": "Exam Date",
         "rawType": "object",
         "type": "unknown"
        },
        {
         "name": "Score",
         "rawType": "object",
         "type": "unknown"
        },
        {
         "name": "Attendance (%)",
         "rawType": "object",
         "type": "unknown"
        },
        {
         "name": "Participation",
         "rawType": "object",
         "type": "unknown"
        },
        {
         "name": "Behavior Score",
         "rawType": "object",
         "type": "unknown"
        },
        {
         "name": "Final Grade",
         "rawType": "object",
         "type": "unknown"
        }
       ],
       "ref": "81da1a27-b704-48cf-888f-4841ca1abcdc",
       "rows": [
        [
         "4",
         "206.0",
         "Nusrat Hossain",
         "10.0",
         "Bangla",
         "Final Exam",
         "2025-01-05",
         "57",
         null,
         null,
         "9",
         "D"
        ],
        [
         "28",
         "291.0",
         "Mehedi Hasan",
         "10.0",
         "Biology",
         "Final Exam",
         "2025-01-29",
         "81",
         null,
         "High",
         "5",
         "F"
        ],
        [
         "35",
         "847.0",
         "Tanvir Alam",
         "10.0",
         "Computer",
         "Final Exam",
         "2025-02-05",
         "56",
         null,
         null,
         "6",
         null
        ],
        [
         "39",
         "158.0",
         "Nusrat Hossain",
         "10.0",
         "Bangla",
         "Class Test",
         "2025-02-09",
         "80",
         null,
         "Medium",
         "9",
         "F"
        ],
        [
         "44",
         "882.0",
         "Sakib Khan",
         "10.0",
         "Physics",
         "Final Exam",
         "2025-02-14",
         "77",
         null,
         "Low",
         "10",
         "B"
        ],
        [
         "49",
         "666.0",
         "Tanvir Alam",
         "10.0",
         "Biology",
         "Mid Exam",
         "2025-02-19",
         "96",
         null,
         null,
         "5",
         null
        ],
        [
         "68",
         "664.0",
         "Sakib Khan",
         "10.0",
         "Computer",
         "Mid Exam",
         "2025-03-10",
         "85",
         null,
         "Medium",
         "6",
         "A+"
        ],
        [
         "79",
         "180.0",
         "Tania Jahan",
         "10.0",
         "Computer",
         "Class Test",
         "2025-03-21",
         "96",
         null,
         "High",
         "5",
         "B+"
        ],
        [
         "80",
         "661.0",
         "Nusrat Hossain",
         "10.0",
         "Computer",
         "Class Test",
         "2025-03-22",
         "94",
         null,
         null,
         "9",
         "B+"
        ],
        [
         "86",
         "205.0",
         "Nusrat Hossain",
         "10.0",
         "English",
         "Mid Exam",
         "2025-03-28",
         "66",
         null,
         "High",
         "8",
         "A+"
        ],
        [
         "107",
         "819.0",
         "Ayesha Rahman",
         "10.0",
         "Computer",
         "Mid Exam",
         "2025-04-18",
         "74",
         null,
         "Medium",
         "5",
         "B"
        ],
        [
         "116",
         "479.0",
         "Tanvir Alam",
         "10.0",
         "Physics",
         "Mid Exam",
         "2025-04-27",
         "95",
         null,
         "Medium",
         "6",
         "D"
        ],
        [
         "123",
         "956.0",
         "Tanvir Alam",
         "10.0",
         "Biology",
         "Final Exam",
         "2025-05-04",
         "96",
         null,
         null,
         "5",
         "F"
        ],
        [
         "126",
         "443.0",
         "Tania Jahan",
         "10.0",
         "Computer",
         "Final Exam",
         "2025-05-07",
         "56",
         null,
         "Medium",
         "9",
         "A"
        ],
        [
         "128",
         "747.0",
         "Mim Akter",
         "10.0",
         "Biology",
         "Final Exam",
         "2025-05-09",
         "68",
         null,
         "Medium",
         "5",
         "D"
        ],
        [
         "170",
         "970.0",
         "Mim Akter",
         "10.0",
         "Computer",
         "Mid Exam",
         "2025-06-20",
         "37",
         null,
         "Medium",
         "5",
         "A"
        ],
        [
         "173",
         "306.0",
         "Mim Akter",
         "10.0",
         "Physics",
         "Mid Exam",
         "2025-06-23",
         "98",
         null,
         "Low",
         "10",
         "F"
        ],
        [
         "174",
         "114.0",
         "Mehedi Hasan",
         "10.0",
         "English",
         "Class Test",
         "2025-06-24",
         "73",
         null,
         "Low",
         "10",
         "D"
        ],
        [
         "181",
         "963.0",
         "Tanvir Alam",
         "10.0",
         "Biology",
         "Final Exam",
         "2025-07-01",
         "38",
         null,
         "Low",
         "7",
         null
        ],
        [
         "184",
         "663.0",
         "Mehedi Hasan",
         "10.0",
         "Math",
         "Final Exam",
         "2025-07-04",
         "73",
         null,
         null,
         "6",
         null
        ],
        [
         "188",
         "506.0",
         "Nusrat Hossain",
         "10.0",
         "Bangla",
         "Mid Exam",
         "2025-07-08",
         "42",
         null,
         "High",
         "6",
         "A"
        ],
        [
         "194",
         "135.0",
         "Nusrat Hossain",
         "10.0",
         "Math",
         "Mid Exam",
         "2025-07-14",
         "46",
         null,
         "High",
         "10",
         "D"
        ],
        [
         "196",
         "259.0",
         "Ayesha Rahman",
         "10.0",
         "Bangla",
         "Mid Exam",
         "2025-07-16",
         "58",
         null,
         "Low",
         "7",
         "A"
        ],
        [
         "199",
         "342.0",
         "Tanvir Alam",
         "10.0",
         "Computer",
         "Final Exam",
         "2025-07-19",
         "84",
         null,
         "High",
         "6",
         "B+"
        ],
        [
         "211",
         "439.0",
         "Nusrat Hossain",
         "10.0",
         "Computer",
         "Final Exam",
         "2025-07-31",
         "54",
         null,
         "High",
         "5",
         null
        ],
        [
         "217",
         "572.0",
         "Mim Akter",
         "10.0",
         "Biology",
         "Mid Exam",
         "2025-08-06",
         "77",
         null,
         "Low",
         "9",
         "B"
        ],
        [
         "221",
         "484.0",
         "Sakib Khan",
         "10.0",
         "Math",
         "Final Exam",
         "2025-08-10",
         "47",
         null,
         "Medium",
         "5",
         "A"
        ],
        [
         "237",
         "333.0",
         "Sakib Khan",
         "10.0",
         "Math",
         "Class Test",
         "2025-08-26",
         "65",
         null,
         "High",
         "7",
         "F"
        ],
        [
         "258",
         "712.0",
         "Tania Jahan",
         "10.0",
         "Biology",
         "Mid Exam",
         "2025-09-16",
         "75",
         null,
         "Low",
         "5",
         "B"
        ],
        [
         "259",
         "724.0",
         "Tanvir Alam",
         "10.0",
         "Bangla",
         "Final Exam",
         "2025-09-17",
         "42",
         null,
         "Low",
         "6",
         "B"
        ],
        [
         "260",
         "180.0",
         "Nusrat Hossain",
         "10.0",
         "Math",
         "Final Exam",
         "2025-09-18",
         "66",
         null,
         "Medium",
         "9",
         "B+"
        ],
        [
         "266",
         "665.0",
         "Tania Jahan",
         "10.0",
         "Physics",
         "Mid Exam",
         "2025-09-24",
         "54",
         null,
         "High",
         "9",
         "F"
        ],
        [
         "283",
         "302.0",
         "Mim Akter",
         "10.0",
         "Bangla",
         "Mid Exam",
         "2025-10-11",
         "71",
         null,
         "Medium",
         "5",
         "A"
        ],
        [
         "287",
         "866.0",
         "Mehedi Hasan",
         "10.0",
         "English",
         "Final Exam",
         "2025-10-15",
         "66",
         null,
         "Medium",
         "6",
         "C"
        ],
        [
         "295",
         "851.0",
         "Tanvir Alam",
         "10.0",
         "Bangla",
         "Mid Exam",
         "2025-10-23",
         "86",
         null,
         "High",
         "6",
         "C"
        ],
        [
         "303",
         "448.0",
         "Tania Jahan",
         "10.0",
         "Bangla",
         "Class Test",
         "2025-10-31",
         "74",
         null,
         "High",
         "5",
         "C"
        ],
        [
         "304",
         "870.0",
         "Ayesha Rahman",
         "10.0",
         "Physics",
         "Mid Exam",
         "2025-11-01",
         "88",
         null,
         "Medium",
         "5",
         "F"
        ],
        [
         "341",
         "259.0",
         "Sakib Khan",
         "10.0",
         "English",
         "Final Exam",
         "2025-12-08",
         "75",
         null,
         "Low",
         "5",
         "A"
        ],
        [
         "345",
         "758.0",
         "Tania Jahan",
         "10.0",
         "Bangla",
         "Final Exam",
         "2025-12-12",
         "83",
         null,
         "Medium",
         "10",
         "A"
        ],
        [
         "347",
         "307.0",
         "Mim Akter",
         "10.0",
         "Biology",
         "Mid Exam",
         "2025-12-14",
         "79",
         null,
         "Low",
         "8",
         null
        ],
        [
         "350",
         "251.0",
         "Tania Jahan",
         "10.0",
         "Bangla",
         "Class Test",
         "2025-12-17",
         "44",
         null,
         "Medium",
         "9",
         "D"
        ],
        [
         "363",
         "211.0",
         "Nusrat Hossain",
         "10.0",
         "English",
         "Class Test",
         "2025-12-30",
         "37",
         null,
         "Medium",
         "6",
         "B+"
        ],
        [
         "366",
         "198.0",
         "Mim Akter",
         "10.0",
         "Physics",
         "Class Test",
         "2026-01-02",
         "79",
         null,
         "Low",
         "9",
         "A"
        ],
        [
         "373",
         "921.0",
         "Sakib Khan",
         "10.0",
         "Bangla",
         "Class Test",
         "2026-01-09",
         "77",
         null,
         "Medium",
         "8",
         "B"
        ],
        [
         "397",
         "849.0",
         "Tanvir Alam",
         "10.0",
         "Bangla",
         "Class Test",
         "2026-02-02",
         "88",
         null,
         "Low",
         "6",
         "A"
        ],
        [
         "402",
         "662.0",
         "Ayesha Rahman",
         "10.0",
         "English",
         "Mid Exam",
         "2026-02-07",
         "57",
         null,
         "Low",
         "8",
         "D"
        ],
        [
         "408",
         "376.0",
         "Sakib Khan",
         "10.0",
         "Biology",
         "Final Exam",
         "2026-02-13",
         "77",
         null,
         "Low",
         "5",
         null
        ],
        [
         "416",
         "915.0",
         "Tania Jahan",
         "10.0",
         "Biology",
         "Final Exam",
         "2026-02-21",
         "83",
         null,
         "Medium",
         "10",
         "B+"
        ],
        [
         "428",
         "145.0",
         "Nusrat Hossain",
         "10.0",
         "Computer",
         "Class Test",
         "2026-03-05",
         "82",
         null,
         "Low",
         "8",
         "F"
        ],
        [
         "432",
         "991.0",
         "Mim Akter",
         "10.0",
         "Physics",
         "Class Test",
         "2026-03-09",
         "87",
         null,
         "High",
         "10",
         "F"
        ]
       ],
       "shape": {
        "columns": 11,
        "rows": 101
       }
      },
      "text/html": [
       "<div>\n",
       "<style scoped>\n",
       "    .dataframe tbody tr th:only-of-type {\n",
       "        vertical-align: middle;\n",
       "    }\n",
       "\n",
       "    .dataframe tbody tr th {\n",
       "        vertical-align: top;\n",
       "    }\n",
       "\n",
       "    .dataframe thead th {\n",
       "        text-align: right;\n",
       "    }\n",
       "</style>\n",
       "<table border=\"1\" class=\"dataframe\">\n",
       "  <thead>\n",
       "    <tr style=\"text-align: right;\">\n",
       "      <th></th>\n",
       "      <th>Student ID</th>\n",
       "      <th>Name</th>\n",
       "      <th>Class</th>\n",
       "      <th>Subject</th>\n",
       "      <th>Exam Category</th>\n",
       "      <th>Exam Date</th>\n",
       "      <th>Score</th>\n",
       "      <th>Attendance (%)</th>\n",
       "      <th>Participation</th>\n",
       "      <th>Behavior Score</th>\n",
       "      <th>Final Grade</th>\n",
       "    </tr>\n",
       "  </thead>\n",
       "  <tbody>\n",
       "    <tr>\n",
       "      <th>4</th>\n",
       "      <td>206.0</td>\n",
       "      <td>Nusrat Hossain</td>\n",
       "      <td>10.0</td>\n",
       "      <td>Bangla</td>\n",
       "      <td>Final Exam</td>\n",
       "      <td>2025-01-05</td>\n",
       "      <td>57</td>\n",
       "      <td>NaN</td>\n",
       "      <td>NaN</td>\n",
       "      <td>9</td>\n",
       "      <td>D</td>\n",
       "    </tr>\n",
       "    <tr>\n",
       "      <th>28</th>\n",
       "      <td>291.0</td>\n",
       "      <td>Mehedi Hasan</td>\n",
       "      <td>10.0</td>\n",
       "      <td>Biology</td>\n",
       "      <td>Final Exam</td>\n",
       "      <td>2025-01-29</td>\n",
       "      <td>81</td>\n",
       "      <td>NaN</td>\n",
       "      <td>High</td>\n",
       "      <td>5</td>\n",
       "      <td>F</td>\n",
       "    </tr>\n",
       "    <tr>\n",
       "      <th>35</th>\n",
       "      <td>847.0</td>\n",
       "      <td>Tanvir Alam</td>\n",
       "      <td>10.0</td>\n",
       "      <td>Computer</td>\n",
       "      <td>Final Exam</td>\n",
       "      <td>2025-02-05</td>\n",
       "      <td>56</td>\n",
       "      <td>NaN</td>\n",
       "      <td>NaN</td>\n",
       "      <td>6</td>\n",
       "      <td>NaN</td>\n",
       "    </tr>\n",
       "    <tr>\n",
       "      <th>39</th>\n",
       "      <td>158.0</td>\n",
       "      <td>Nusrat Hossain</td>\n",
       "      <td>10.0</td>\n",
       "      <td>Bangla</td>\n",
       "      <td>Class Test</td>\n",
       "      <td>2025-02-09</td>\n",
       "      <td>80</td>\n",
       "      <td>NaN</td>\n",
       "      <td>Medium</td>\n",
       "      <td>9</td>\n",
       "      <td>F</td>\n",
       "    </tr>\n",
       "    <tr>\n",
       "      <th>44</th>\n",
       "      <td>882.0</td>\n",
       "      <td>Sakib Khan</td>\n",
       "      <td>10.0</td>\n",
       "      <td>Physics</td>\n",
       "      <td>Final Exam</td>\n",
       "      <td>2025-02-14</td>\n",
       "      <td>77</td>\n",
       "      <td>NaN</td>\n",
       "      <td>Low</td>\n",
       "      <td>10</td>\n",
       "      <td>B</td>\n",
       "    </tr>\n",
       "    <tr>\n",
       "      <th>...</th>\n",
       "      <td>...</td>\n",
       "      <td>...</td>\n",
       "      <td>...</td>\n",
       "      <td>...</td>\n",
       "      <td>...</td>\n",
       "      <td>...</td>\n",
       "      <td>...</td>\n",
       "      <td>...</td>\n",
       "      <td>...</td>\n",
       "      <td>...</td>\n",
       "      <td>...</td>\n",
       "    </tr>\n",
       "    <tr>\n",
       "      <th>961</th>\n",
       "      <td>133.0</td>\n",
       "      <td>Tanvir Alam</td>\n",
       "      <td>10.0</td>\n",
       "      <td>English</td>\n",
       "      <td>Class Test</td>\n",
       "      <td>2027-08-20</td>\n",
       "      <td>77</td>\n",
       "      <td>NaN</td>\n",
       "      <td>High</td>\n",
       "      <td>6</td>\n",
       "      <td>C</td>\n",
       "    </tr>\n",
       "    <tr>\n",
       "      <th>972</th>\n",
       "      <td>990.0</td>\n",
       "      <td>Tania Jahan</td>\n",
       "      <td>10.0</td>\n",
       "      <td>English</td>\n",
       "      <td>Final Exam</td>\n",
       "      <td>2027-08-31</td>\n",
       "      <td>58</td>\n",
       "      <td>NaN</td>\n",
       "      <td>High</td>\n",
       "      <td>10</td>\n",
       "      <td>F</td>\n",
       "    </tr>\n",
       "    <tr>\n",
       "      <th>986</th>\n",
       "      <td>328.0</td>\n",
       "      <td>Tania Jahan</td>\n",
       "      <td>10.0</td>\n",
       "      <td>Computer</td>\n",
       "      <td>Final Exam</td>\n",
       "      <td>2027-09-14</td>\n",
       "      <td>71</td>\n",
       "      <td>NaN</td>\n",
       "      <td>Medium</td>\n",
       "      <td>7</td>\n",
       "      <td>D</td>\n",
       "    </tr>\n",
       "    <tr>\n",
       "      <th>993</th>\n",
       "      <td>803.0</td>\n",
       "      <td>Mim Akter</td>\n",
       "      <td>10.0</td>\n",
       "      <td>Physics</td>\n",
       "      <td>Class Test</td>\n",
       "      <td>2027-09-21</td>\n",
       "      <td>37</td>\n",
       "      <td>NaN</td>\n",
       "      <td>NaN</td>\n",
       "      <td>9</td>\n",
       "      <td>A</td>\n",
       "    </tr>\n",
       "    <tr>\n",
       "      <th>1001</th>\n",
       "      <td>NaN</td>\n",
       "      <td>NaN</td>\n",
       "      <td>NaN</td>\n",
       "      <td>NaN</td>\n",
       "      <td>NaN</td>\n",
       "      <td>NaN</td>\n",
       "      <td>NaN</td>\n",
       "      <td>NaN</td>\n",
       "      <td>NaN</td>\n",
       "      <td>NaN</td>\n",
       "      <td>NaN</td>\n",
       "    </tr>\n",
       "  </tbody>\n",
       "</table>\n",
       "<p>101 rows × 11 columns</p>\n",
       "</div>"
      ],
      "text/plain": [
       "      Student ID            Name  Class   Subject Exam Category   Exam Date  \\\n",
       "4          206.0  Nusrat Hossain   10.0    Bangla    Final Exam  2025-01-05   \n",
       "28         291.0    Mehedi Hasan   10.0   Biology    Final Exam  2025-01-29   \n",
       "35         847.0     Tanvir Alam   10.0  Computer    Final Exam  2025-02-05   \n",
       "39         158.0  Nusrat Hossain   10.0    Bangla    Class Test  2025-02-09   \n",
       "44         882.0      Sakib Khan   10.0   Physics    Final Exam  2025-02-14   \n",
       "...          ...             ...    ...       ...           ...         ...   \n",
       "961        133.0     Tanvir Alam   10.0   English    Class Test  2027-08-20   \n",
       "972        990.0     Tania Jahan   10.0   English    Final Exam  2027-08-31   \n",
       "986        328.0     Tania Jahan   10.0  Computer    Final Exam  2027-09-14   \n",
       "993        803.0       Mim Akter   10.0   Physics    Class Test  2027-09-21   \n",
       "1001         NaN             NaN    NaN       NaN           NaN         NaN   \n",
       "\n",
       "     Score Attendance (%) Participation Behavior Score Final Grade  \n",
       "4       57            NaN           NaN              9           D  \n",
       "28      81            NaN          High              5           F  \n",
       "35      56            NaN           NaN              6         NaN  \n",
       "39      80            NaN        Medium              9           F  \n",
       "44      77            NaN           Low             10           B  \n",
       "...    ...            ...           ...            ...         ...  \n",
       "961     77            NaN          High              6           C  \n",
       "972     58            NaN          High             10           F  \n",
       "986     71            NaN        Medium              7           D  \n",
       "993     37            NaN           NaN              9           A  \n",
       "1001   NaN            NaN           NaN            NaN         NaN  \n",
       "\n",
       "[101 rows x 11 columns]"
      ]
     },
     "execution_count": 5,
     "metadata": {},
     "output_type": "execute_result"
    }
   ],
   "source": [
    "students_data[students_data[\"Attendance (%)\"].isna()]"
   ]
  },
  {
   "cell_type": "code",
   "execution_count": 6,
   "id": "1dd37622",
   "metadata": {},
   "outputs": [
    {
     "data": {
      "application/vnd.microsoft.datawrangler.viewer.v0+json": {
       "columns": [
        {
         "name": "index",
         "rawType": "int64",
         "type": "integer"
        },
        {
         "name": "Student ID",
         "rawType": "float64",
         "type": "float"
        },
        {
         "name": "Name",
         "rawType": "object",
         "type": "string"
        },
        {
         "name": "Class",
         "rawType": "float64",
         "type": "float"
        },
        {
         "name": "Subject",
         "rawType": "object",
         "type": "string"
        },
        {
         "name": "Exam Category",
         "rawType": "object",
         "type": "string"
        },
        {
         "name": "Exam Date",
         "rawType": "object",
         "type": "string"
        },
        {
         "name": "Score",
         "rawType": "object",
         "type": "string"
        },
        {
         "name": "Attendance (%)",
         "rawType": "object",
         "type": "string"
        },
        {
         "name": "Participation",
         "rawType": "object",
         "type": "unknown"
        },
        {
         "name": "Behavior Score",
         "rawType": "object",
         "type": "string"
        },
        {
         "name": "Final Grade",
         "rawType": "object",
         "type": "unknown"
        }
       ],
       "ref": "bf60dc36-c0ac-44b0-ad2b-a3ddd8e6ff46",
       "rows": [
        [
         "0",
         "202.0",
         "Mehedi Hasan",
         "10.0",
         "Biology",
         "Class Test",
         "2025-01-01",
         "53",
         "93%",
         null,
         "10",
         "A"
        ],
        [
         "1",
         "535.0",
         "Nusrat Hossain",
         "10.0",
         "Computer",
         "Final Exam",
         "2025-01-02",
         "48",
         "60%",
         "Low",
         "7",
         "C"
        ],
        [
         "2",
         "960.0",
         "Tanvir Alam",
         "10.0",
         "Physics",
         "Final Exam",
         "2025-01-03",
         "66",
         "64%",
         null,
         "8",
         "F"
        ],
        [
         "3",
         "370.0",
         "Tanvir Alam",
         "10.0",
         "Physics",
         "Mid Exam",
         "2025-01-04",
         "37",
         "65%",
         null,
         "10",
         "F"
        ],
        [
         "5",
         "171.0",
         "Ayesha Rahman",
         "10.0",
         "Computer",
         "Mid Exam",
         "2025-01-06",
         "34",
         "ninety",
         "Low",
         "9",
         null
        ],
        [
         "6",
         "800.0",
         "Sakib Khan",
         "10.0",
         "English",
         "Class Test",
         "2025-01-07",
         "46",
         "51%",
         "Medium",
         "5",
         "C"
        ],
        [
         "7",
         "120.0",
         "Tania Jahan",
         "10.0",
         "Computer",
         "Final Exam",
         "2025-01-08",
         "65",
         "99%",
         "High",
         "8",
         "C"
        ],
        [
         "8",
         "714.0",
         "Mehedi Hasan",
         "10.0",
         "English",
         "Class Test",
         "2025-01-09",
         "48",
         "61%",
         "Medium",
         "8",
         "A+"
        ],
        [
         "9",
         "221.0",
         "Tania Jahan",
         "10.0",
         "Computer",
         "Final Exam",
         "2025-01-10",
         "93",
         "100%",
         "Medium",
         "6",
         "F"
        ],
        [
         "10",
         "566.0",
         "Nusrat Hossain",
         "10.0",
         "UnkownSubject",
         "Class Test",
         "2025-01-11",
         "40",
         "75%",
         "Medium",
         "6",
         "A+"
        ],
        [
         "11",
         "314.0",
         "Sakib Khan",
         "10.0",
         "Math",
         "Final Exam",
         "2025-01-12",
         "83",
         "72%",
         "Low",
         "10",
         "A+"
        ],
        [
         "12",
         "430.0",
         "Mehedi Hasan",
         "10.0",
         "Physics",
         "Class Test",
         "2025-01-13",
         "74",
         "67%",
         "Medium",
         "10",
         "C"
        ],
        [
         "13",
         "558.0",
         "Nusrat Hossain",
         "10.0",
         "Computer",
         "Class Test",
         "2025-01-14",
         "76",
         "81%",
         null,
         "6",
         null
        ],
        [
         "14",
         "187.0",
         "Ayesha Rahman",
         "10.0",
         "Bangla",
         "Final Exam",
         "2025-01-15",
         "41",
         "98%",
         "Low",
         "10",
         "B+"
        ],
        [
         "15",
         "472.0",
         "Tanvir Alam",
         "10.0",
         "Computer",
         "Class Test",
         "32-13-2025",
         "50",
         "87%",
         "High",
         "7",
         null
        ],
        [
         "16",
         "199.0",
         "Tania Jahan",
         "10.0",
         "Biology",
         "Class Test",
         "2025-01-17",
         "40",
         "96%",
         "High",
         "6",
         "F"
        ],
        [
         "17",
         "971.0",
         "Mim Akter",
         "10.0",
         "Physics",
         "Class Test",
         "2025-01-18",
         "34",
         "52%",
         null,
         "8",
         "D"
        ],
        [
         "18",
         "763.0",
         "Mim Akter",
         "10.0",
         "Biology",
         "Final Exam",
         "2025-01-19",
         "85",
         "87%",
         "Low",
         "7",
         "F"
        ],
        [
         "19",
         "230.0",
         "Sakib Khan",
         "10.0",
         "Physics",
         "Final Exam",
         "2025-01-20",
         "49",
         "52%",
         "High",
         "10",
         "A"
        ],
        [
         "20",
         "761.0",
         "Ayesha Rahman",
         "10.0",
         "Biology",
         "Class Test",
         "2025-01-21",
         "70",
         "79%",
         "Medium",
         "9",
         "Excelent"
        ],
        [
         "21",
         "408.0",
         "Tania Jahan",
         "10.0",
         "Computer",
         "Class Test",
         "2025-01-22",
         "75",
         "50%",
         "Medium",
         "5",
         "B+"
        ],
        [
         "22",
         "869.0",
         "Ayesha Rahman",
         "10.0",
         "Computer",
         "Final Exam",
         "2025-01-23",
         "41",
         "79%",
         "Low",
         "6",
         "B"
        ],
        [
         "23",
         "443.0",
         "Tania Jahan",
         "10.0",
         "Math",
         "Final Exam",
         "2025-01-24",
         "99",
         "94%",
         "Medium",
         "9",
         "A+"
        ],
        [
         "24",
         "591.0",
         "Sakib Khan",
         "10.0",
         "Bangla",
         "Class Test",
         "2025-01-25",
         "46",
         "81%",
         "High",
         "10",
         "A+"
        ],
        [
         "25",
         "513.0",
         "Sakib Khan",
         "10.0",
         "Biology",
         "Class Test",
         "2025-01-26",
         "Eighty",
         "77%",
         "Low",
         "8",
         "B+"
        ],
        [
         "26",
         "905.0",
         "Mim Akter",
         "10.0",
         "English",
         "Class Test",
         "2025-01-27",
         "55",
         "70%",
         "High",
         "5",
         "F"
        ],
        [
         "27",
         "485.0",
         "Ayesha Rahman",
         "10.0",
         "Math",
         "Mid Exam",
         "2025-01-28",
         "77",
         "95%",
         null,
         "9",
         "A"
        ],
        [
         "29",
         "376.0",
         "Mim Akter",
         "10.0",
         "Biology",
         "Mid Exam",
         "2025-01-30",
         "99",
         "76%",
         null,
         "6",
         "D"
        ],
        [
         "30",
         "260.0",
         "Ayesha Rahman",
         "10.0",
         "Math",
         "Final Exam",
         "2025-01-31",
         "84",
         "85%",
         "Medium",
         "Nine",
         "B"
        ],
        [
         "31",
         "559.0",
         "Mim Akter",
         "10.0",
         "Computer",
         "Final Exam",
         "2025-02-01",
         "62",
         "56%",
         null,
         "8",
         "B+"
        ],
        [
         "32",
         "413.0",
         "Mehedi Hasan",
         "10.0",
         "Biology",
         "Final Exam",
         "2025-02-02",
         "91",
         "71%",
         "High",
         "10",
         "A+"
        ],
        [
         "33",
         "121.0",
         "Tanvir Alam",
         "10.0",
         "Computer",
         "Final Exam",
         "2025-02-03",
         "52",
         "59%",
         "Low",
         "5",
         null
        ],
        [
         "34",
         "352.0",
         "Tanvir Alam",
         "10.0",
         "Math",
         "Final Exam",
         "2025-02-04",
         "44",
         "88%",
         "Low",
         "9",
         "F"
        ],
        [
         "36",
         "956.0",
         "Tanvir Alam",
         "10.0",
         "Physics",
         "Final Exam",
         "2025-02-06",
         "93",
         "64%",
         "Medium",
         "6",
         "C"
        ],
        [
         "37",
         "660.0",
         "Nusrat Hossain",
         "10.0",
         "English",
         "Mid Exam",
         "2025-02-07",
         "80",
         "53%",
         "Low",
         "10",
         "D"
        ],
        [
         "38",
         "574.0",
         "Tania Jahan",
         "10.0",
         "Biology",
         "Class Test",
         "2025-02-08",
         "82",
         "81%",
         "High",
         "9",
         "B+"
        ],
        [
         "40",
         "610.0",
         "Nusrat Hossain",
         "10.0",
         "English",
         "Mid Exam",
         "2025-02-10",
         "76",
         "55%",
         "High",
         "5",
         "A+"
        ],
        [
         "41",
         "781.0",
         "Nusrat Hossain",
         "10.0",
         "Computer",
         "Mid Exam",
         "2025-02-11",
         "33",
         "73%",
         "Low",
         "10",
         "F"
        ],
        [
         "42",
         "575.0",
         "Tanvir Alam",
         "10.0",
         "Biology",
         "Mid Exam",
         "2025-02-12",
         "36",
         "69%",
         null,
         "10",
         "B"
        ],
        [
         "43",
         "799.0",
         "Mehedi Hasan",
         "10.0",
         "Computer",
         "Mid Exam",
         "2025-02-13",
         "64",
         "86%",
         "Medium",
         "7",
         "C"
        ],
        [
         "45",
         "289.0",
         "Sakib Khan",
         "10.0",
         "Math",
         "Class Test",
         "2025-02-15",
         "74",
         "61%",
         "Medium",
         "6",
         "D"
        ],
        [
         "46",
         "786.0",
         "Tania Jahan",
         "10.0",
         "Biology",
         "Final Exam",
         "2025-02-16",
         "48",
         "82%",
         "Low",
         "5",
         "A+"
        ],
        [
         "47",
         "662.0",
         "Tanvir Alam",
         "10.0",
         "Physics",
         "Class Test",
         "2025-02-17",
         "92",
         "77%",
         null,
         "9",
         "C"
        ],
        [
         "48",
         "975.0",
         "Tanvir Alam",
         "10.0",
         "Physics",
         "Class Test",
         "2025-02-18",
         "67",
         "57%",
         "Low",
         "10",
         "D"
        ],
        [
         "50",
         "343.0",
         "Mim Akter",
         "10.0",
         "Computer",
         "Final Exam",
         "2025-02-20",
         "88",
         "86%",
         "High",
         "10",
         "B"
        ],
        [
         "51",
         "931.0",
         "Ayesha Rahman",
         "10.0",
         "Bangla",
         "Mid Exam",
         "2025-02-21",
         "98",
         "71%",
         "High",
         "9",
         "C"
        ],
        [
         "52",
         "604.0",
         "Mim Akter",
         "10.0",
         "Physics",
         "Final Exam",
         "2025-02-22",
         "42",
         "55%",
         "High",
         "8",
         "A+"
        ],
        [
         "53",
         "230.0",
         "Ayesha Rahman",
         "10.0",
         "English",
         "Class Test",
         "2025-02-23",
         "76",
         "70%",
         "Medium",
         "9",
         "B"
        ],
        [
         "54",
         "584.0",
         "Tanvir Alam",
         "10.0",
         "Physics",
         "Mid Exam",
         "2025-02-24",
         "90",
         "81%",
         "Medium",
         "9",
         "B+"
        ],
        [
         "55",
         "918.0",
         "Tanvir Alam",
         "10.0",
         "Bangla",
         "Mid Exam",
         "2025-02-25",
         "60",
         "84%",
         "High",
         "9",
         "D"
        ]
       ],
       "shape": {
        "columns": 11,
        "rows": 901
       }
      },
      "text/html": [
       "<div>\n",
       "<style scoped>\n",
       "    .dataframe tbody tr th:only-of-type {\n",
       "        vertical-align: middle;\n",
       "    }\n",
       "\n",
       "    .dataframe tbody tr th {\n",
       "        vertical-align: top;\n",
       "    }\n",
       "\n",
       "    .dataframe thead th {\n",
       "        text-align: right;\n",
       "    }\n",
       "</style>\n",
       "<table border=\"1\" class=\"dataframe\">\n",
       "  <thead>\n",
       "    <tr style=\"text-align: right;\">\n",
       "      <th></th>\n",
       "      <th>Student ID</th>\n",
       "      <th>Name</th>\n",
       "      <th>Class</th>\n",
       "      <th>Subject</th>\n",
       "      <th>Exam Category</th>\n",
       "      <th>Exam Date</th>\n",
       "      <th>Score</th>\n",
       "      <th>Attendance (%)</th>\n",
       "      <th>Participation</th>\n",
       "      <th>Behavior Score</th>\n",
       "      <th>Final Grade</th>\n",
       "    </tr>\n",
       "  </thead>\n",
       "  <tbody>\n",
       "    <tr>\n",
       "      <th>0</th>\n",
       "      <td>202.0</td>\n",
       "      <td>Mehedi Hasan</td>\n",
       "      <td>10.0</td>\n",
       "      <td>Biology</td>\n",
       "      <td>Class Test</td>\n",
       "      <td>2025-01-01</td>\n",
       "      <td>53</td>\n",
       "      <td>93%</td>\n",
       "      <td>NaN</td>\n",
       "      <td>10</td>\n",
       "      <td>A</td>\n",
       "    </tr>\n",
       "    <tr>\n",
       "      <th>1</th>\n",
       "      <td>535.0</td>\n",
       "      <td>Nusrat Hossain</td>\n",
       "      <td>10.0</td>\n",
       "      <td>Computer</td>\n",
       "      <td>Final Exam</td>\n",
       "      <td>2025-01-02</td>\n",
       "      <td>48</td>\n",
       "      <td>60%</td>\n",
       "      <td>Low</td>\n",
       "      <td>7</td>\n",
       "      <td>C</td>\n",
       "    </tr>\n",
       "    <tr>\n",
       "      <th>2</th>\n",
       "      <td>960.0</td>\n",
       "      <td>Tanvir Alam</td>\n",
       "      <td>10.0</td>\n",
       "      <td>Physics</td>\n",
       "      <td>Final Exam</td>\n",
       "      <td>2025-01-03</td>\n",
       "      <td>66</td>\n",
       "      <td>64%</td>\n",
       "      <td>NaN</td>\n",
       "      <td>8</td>\n",
       "      <td>F</td>\n",
       "    </tr>\n",
       "    <tr>\n",
       "      <th>3</th>\n",
       "      <td>370.0</td>\n",
       "      <td>Tanvir Alam</td>\n",
       "      <td>10.0</td>\n",
       "      <td>Physics</td>\n",
       "      <td>Mid Exam</td>\n",
       "      <td>2025-01-04</td>\n",
       "      <td>37</td>\n",
       "      <td>65%</td>\n",
       "      <td>NaN</td>\n",
       "      <td>10</td>\n",
       "      <td>F</td>\n",
       "    </tr>\n",
       "    <tr>\n",
       "      <th>5</th>\n",
       "      <td>171.0</td>\n",
       "      <td>Ayesha Rahman</td>\n",
       "      <td>10.0</td>\n",
       "      <td>Computer</td>\n",
       "      <td>Mid Exam</td>\n",
       "      <td>2025-01-06</td>\n",
       "      <td>34</td>\n",
       "      <td>ninety</td>\n",
       "      <td>Low</td>\n",
       "      <td>9</td>\n",
       "      <td>NaN</td>\n",
       "    </tr>\n",
       "    <tr>\n",
       "      <th>...</th>\n",
       "      <td>...</td>\n",
       "      <td>...</td>\n",
       "      <td>...</td>\n",
       "      <td>...</td>\n",
       "      <td>...</td>\n",
       "      <td>...</td>\n",
       "      <td>...</td>\n",
       "      <td>...</td>\n",
       "      <td>...</td>\n",
       "      <td>...</td>\n",
       "      <td>...</td>\n",
       "    </tr>\n",
       "    <tr>\n",
       "      <th>996</th>\n",
       "      <td>905.0</td>\n",
       "      <td>Ayesha Rahman</td>\n",
       "      <td>10.0</td>\n",
       "      <td>Math</td>\n",
       "      <td>Final Exam</td>\n",
       "      <td>2027-09-24</td>\n",
       "      <td>69</td>\n",
       "      <td>95%</td>\n",
       "      <td>High</td>\n",
       "      <td>8</td>\n",
       "      <td>A+</td>\n",
       "    </tr>\n",
       "    <tr>\n",
       "      <th>997</th>\n",
       "      <td>405.0</td>\n",
       "      <td>Sakib Khan</td>\n",
       "      <td>10.0</td>\n",
       "      <td>Physics</td>\n",
       "      <td>Final Exam</td>\n",
       "      <td>2027-09-25</td>\n",
       "      <td>88</td>\n",
       "      <td>68%</td>\n",
       "      <td>Low</td>\n",
       "      <td>8</td>\n",
       "      <td>B</td>\n",
       "    </tr>\n",
       "    <tr>\n",
       "      <th>998</th>\n",
       "      <td>197.0</td>\n",
       "      <td>Nusrat Hossain</td>\n",
       "      <td>10.0</td>\n",
       "      <td>Physics</td>\n",
       "      <td>Class Test</td>\n",
       "      <td>2027-09-26</td>\n",
       "      <td>31</td>\n",
       "      <td>62%</td>\n",
       "      <td>High</td>\n",
       "      <td>8</td>\n",
       "      <td>A</td>\n",
       "    </tr>\n",
       "    <tr>\n",
       "      <th>999</th>\n",
       "      <td>949.0</td>\n",
       "      <td>Mehedi Hasan</td>\n",
       "      <td>10.0</td>\n",
       "      <td>Physics</td>\n",
       "      <td>Class Test</td>\n",
       "      <td>2027-09-27</td>\n",
       "      <td>39</td>\n",
       "      <td>91%</td>\n",
       "      <td>High</td>\n",
       "      <td>9</td>\n",
       "      <td>A+</td>\n",
       "    </tr>\n",
       "    <tr>\n",
       "      <th>1000</th>\n",
       "      <td>202.0</td>\n",
       "      <td>Mehedi Hasan</td>\n",
       "      <td>10.0</td>\n",
       "      <td>Biology</td>\n",
       "      <td>Class Test</td>\n",
       "      <td>2025-01-01</td>\n",
       "      <td>53</td>\n",
       "      <td>93%</td>\n",
       "      <td>NaN</td>\n",
       "      <td>10</td>\n",
       "      <td>A</td>\n",
       "    </tr>\n",
       "  </tbody>\n",
       "</table>\n",
       "<p>901 rows × 11 columns</p>\n",
       "</div>"
      ],
      "text/plain": [
       "      Student ID            Name  Class   Subject Exam Category   Exam Date  \\\n",
       "0          202.0    Mehedi Hasan   10.0   Biology    Class Test  2025-01-01   \n",
       "1          535.0  Nusrat Hossain   10.0  Computer    Final Exam  2025-01-02   \n",
       "2          960.0     Tanvir Alam   10.0   Physics    Final Exam  2025-01-03   \n",
       "3          370.0     Tanvir Alam   10.0   Physics      Mid Exam  2025-01-04   \n",
       "5          171.0   Ayesha Rahman   10.0  Computer      Mid Exam  2025-01-06   \n",
       "...          ...             ...    ...       ...           ...         ...   \n",
       "996        905.0   Ayesha Rahman   10.0      Math    Final Exam  2027-09-24   \n",
       "997        405.0      Sakib Khan   10.0   Physics    Final Exam  2027-09-25   \n",
       "998        197.0  Nusrat Hossain   10.0   Physics    Class Test  2027-09-26   \n",
       "999        949.0    Mehedi Hasan   10.0   Physics    Class Test  2027-09-27   \n",
       "1000       202.0    Mehedi Hasan   10.0   Biology    Class Test  2025-01-01   \n",
       "\n",
       "     Score Attendance (%) Participation Behavior Score Final Grade  \n",
       "0       53            93%           NaN             10           A  \n",
       "1       48            60%           Low              7           C  \n",
       "2       66            64%           NaN              8           F  \n",
       "3       37            65%           NaN             10           F  \n",
       "5       34         ninety           Low              9         NaN  \n",
       "...    ...            ...           ...            ...         ...  \n",
       "996     69            95%          High              8          A+  \n",
       "997     88            68%           Low              8           B  \n",
       "998     31            62%          High              8           A  \n",
       "999     39            91%          High              9          A+  \n",
       "1000    53            93%           NaN             10           A  \n",
       "\n",
       "[901 rows x 11 columns]"
      ]
     },
     "execution_count": 6,
     "metadata": {},
     "output_type": "execute_result"
    }
   ],
   "source": [
    "students_data[~students_data[\"Attendance (%)\"].isna()]"
   ]
  },
  {
   "cell_type": "code",
   "execution_count": 7,
   "id": "7e1e462e",
   "metadata": {},
   "outputs": [
    {
     "name": "stdout",
     "output_type": "stream",
     "text": [
      "Requirement already satisfied: word2number in ./.venv/lib/python3.10/site-packages (1.1)\n"
     ]
    }
   ],
   "source": [
    "! pip install word2number"
   ]
  },
  {
   "cell_type": "code",
   "execution_count": 8,
   "id": "576916b3",
   "metadata": {},
   "outputs": [],
   "source": [
    "import word2number as w2n\n",
    "\n",
    "def clean_attendence_text(value):\n",
    "    try:\n",
    "        if isinstance(value,str) and '%' in value:\n",
    "            return float(value.replace('%','')) \n",
    "        else:\n",
    "            return float(w2n.word_to_number(value))\n",
    "    except:\n",
    "        return None\n",
    "    \n",
    "students_data[\"Attendance (%)\"]=students_data[\"Attendance (%)\"].apply(clean_attendence_text)"
   ]
  },
  {
   "cell_type": "code",
   "execution_count": 9,
   "id": "fdce9cff",
   "metadata": {},
   "outputs": [
    {
     "data": {
      "application/vnd.microsoft.datawrangler.viewer.v0+json": {
       "columns": [
        {
         "name": "index",
         "rawType": "int64",
         "type": "integer"
        },
        {
         "name": "Attendance (%)",
         "rawType": "float64",
         "type": "float"
        }
       ],
       "ref": "457b22bd-6094-46c5-92b0-c05441eb2fbf",
       "rows": [
        [
         "0",
         "93.0"
        ],
        [
         "1",
         "60.0"
        ],
        [
         "2",
         "64.0"
        ],
        [
         "3",
         "65.0"
        ],
        [
         "4",
         null
        ],
        [
         "5",
         null
        ],
        [
         "6",
         "51.0"
        ],
        [
         "7",
         "99.0"
        ],
        [
         "8",
         "61.0"
        ],
        [
         "9",
         "100.0"
        ],
        [
         "10",
         "75.0"
        ],
        [
         "11",
         "72.0"
        ],
        [
         "12",
         "67.0"
        ],
        [
         "13",
         "81.0"
        ],
        [
         "14",
         "98.0"
        ],
        [
         "15",
         "87.0"
        ],
        [
         "16",
         "96.0"
        ],
        [
         "17",
         "52.0"
        ],
        [
         "18",
         "87.0"
        ],
        [
         "19",
         "52.0"
        ],
        [
         "20",
         "79.0"
        ],
        [
         "21",
         "50.0"
        ],
        [
         "22",
         "79.0"
        ],
        [
         "23",
         "94.0"
        ],
        [
         "24",
         "81.0"
        ],
        [
         "25",
         "77.0"
        ],
        [
         "26",
         "70.0"
        ],
        [
         "27",
         "95.0"
        ],
        [
         "28",
         null
        ],
        [
         "29",
         "76.0"
        ],
        [
         "30",
         "85.0"
        ],
        [
         "31",
         "56.0"
        ],
        [
         "32",
         "71.0"
        ],
        [
         "33",
         "59.0"
        ],
        [
         "34",
         "88.0"
        ],
        [
         "35",
         null
        ],
        [
         "36",
         "64.0"
        ],
        [
         "37",
         "53.0"
        ],
        [
         "38",
         "81.0"
        ],
        [
         "39",
         null
        ],
        [
         "40",
         "55.0"
        ],
        [
         "41",
         "73.0"
        ],
        [
         "42",
         "69.0"
        ],
        [
         "43",
         "86.0"
        ],
        [
         "44",
         null
        ],
        [
         "45",
         "61.0"
        ],
        [
         "46",
         "82.0"
        ],
        [
         "47",
         "77.0"
        ],
        [
         "48",
         "57.0"
        ],
        [
         "49",
         null
        ]
       ],
       "shape": {
        "columns": 1,
        "rows": 1002
       }
      },
      "text/plain": [
       "0       93.0\n",
       "1       60.0\n",
       "2       64.0\n",
       "3       65.0\n",
       "4        NaN\n",
       "        ... \n",
       "997     68.0\n",
       "998     62.0\n",
       "999     91.0\n",
       "1000    93.0\n",
       "1001     NaN\n",
       "Name: Attendance (%), Length: 1002, dtype: float64"
      ]
     },
     "execution_count": 9,
     "metadata": {},
     "output_type": "execute_result"
    }
   ],
   "source": [
    "students_data[\"Attendance (%)\"]"
   ]
  },
  {
   "cell_type": "code",
   "execution_count": null,
   "id": "6ec07bf6",
   "metadata": {},
   "outputs": [],
   "source": [
    "\n",
    "students_data[\"Attendance (%)\"].fillna(60.0,inplace=True)\n",
    "\n"
   ]
  },
  {
   "cell_type": "code",
   "execution_count": 11,
   "id": "9646a0b6",
   "metadata": {},
   "outputs": [
    {
     "data": {
      "application/vnd.microsoft.datawrangler.viewer.v0+json": {
       "columns": [
        {
         "name": "index",
         "rawType": "int64",
         "type": "integer"
        },
        {
         "name": "Attendance (%)",
         "rawType": "float64",
         "type": "float"
        }
       ],
       "ref": "8732523f-9686-438f-b617-324a8b7a593c",
       "rows": [
        [
         "0",
         "93.0"
        ],
        [
         "1",
         "60.0"
        ],
        [
         "2",
         "64.0"
        ],
        [
         "3",
         "65.0"
        ],
        [
         "4",
         "60.0"
        ],
        [
         "5",
         "60.0"
        ],
        [
         "6",
         "51.0"
        ],
        [
         "7",
         "99.0"
        ],
        [
         "8",
         "61.0"
        ],
        [
         "9",
         "100.0"
        ],
        [
         "10",
         "75.0"
        ],
        [
         "11",
         "72.0"
        ],
        [
         "12",
         "67.0"
        ],
        [
         "13",
         "81.0"
        ],
        [
         "14",
         "98.0"
        ],
        [
         "15",
         "87.0"
        ],
        [
         "16",
         "96.0"
        ],
        [
         "17",
         "52.0"
        ],
        [
         "18",
         "87.0"
        ],
        [
         "19",
         "52.0"
        ],
        [
         "20",
         "79.0"
        ],
        [
         "21",
         "50.0"
        ],
        [
         "22",
         "79.0"
        ],
        [
         "23",
         "94.0"
        ],
        [
         "24",
         "81.0"
        ],
        [
         "25",
         "77.0"
        ],
        [
         "26",
         "70.0"
        ],
        [
         "27",
         "95.0"
        ],
        [
         "28",
         "60.0"
        ],
        [
         "29",
         "76.0"
        ],
        [
         "30",
         "85.0"
        ],
        [
         "31",
         "56.0"
        ],
        [
         "32",
         "71.0"
        ],
        [
         "33",
         "59.0"
        ],
        [
         "34",
         "88.0"
        ],
        [
         "35",
         "60.0"
        ],
        [
         "36",
         "64.0"
        ],
        [
         "37",
         "53.0"
        ],
        [
         "38",
         "81.0"
        ],
        [
         "39",
         "60.0"
        ],
        [
         "40",
         "55.0"
        ],
        [
         "41",
         "73.0"
        ],
        [
         "42",
         "69.0"
        ],
        [
         "43",
         "86.0"
        ],
        [
         "44",
         "60.0"
        ],
        [
         "45",
         "61.0"
        ],
        [
         "46",
         "82.0"
        ],
        [
         "47",
         "77.0"
        ],
        [
         "48",
         "57.0"
        ],
        [
         "49",
         "60.0"
        ]
       ],
       "shape": {
        "columns": 1,
        "rows": 1002
       }
      },
      "text/plain": [
       "0       93.0\n",
       "1       60.0\n",
       "2       64.0\n",
       "3       65.0\n",
       "4       60.0\n",
       "        ... \n",
       "997     68.0\n",
       "998     62.0\n",
       "999     91.0\n",
       "1000    93.0\n",
       "1001    60.0\n",
       "Name: Attendance (%), Length: 1002, dtype: float64"
      ]
     },
     "execution_count": 11,
     "metadata": {},
     "output_type": "execute_result"
    }
   ],
   "source": [
    "students_data [\"Attendance (%)\"]"
   ]
  },
  {
   "cell_type": "code",
   "execution_count": 12,
   "id": "7cdc4749",
   "metadata": {},
   "outputs": [],
   "source": [
    "students_data[\"Attendance (%)\"]=students_data[\"Attendance (%)\"].astype(int)"
   ]
  },
  {
   "cell_type": "code",
   "execution_count": 13,
   "id": "380a1574",
   "metadata": {},
   "outputs": [
    {
     "data": {
      "application/vnd.microsoft.datawrangler.viewer.v0+json": {
       "columns": [
        {
         "name": "index",
         "rawType": "int64",
         "type": "integer"
        },
        {
         "name": "Attendance (%)",
         "rawType": "int64",
         "type": "integer"
        }
       ],
       "ref": "56d9412a-33fb-4ce8-83b9-7a1730f0b636",
       "rows": [
        [
         "0",
         "93"
        ],
        [
         "1",
         "60"
        ],
        [
         "2",
         "64"
        ],
        [
         "3",
         "65"
        ],
        [
         "4",
         "60"
        ],
        [
         "5",
         "60"
        ],
        [
         "6",
         "51"
        ],
        [
         "7",
         "99"
        ],
        [
         "8",
         "61"
        ],
        [
         "9",
         "100"
        ],
        [
         "10",
         "75"
        ],
        [
         "11",
         "72"
        ],
        [
         "12",
         "67"
        ],
        [
         "13",
         "81"
        ],
        [
         "14",
         "98"
        ],
        [
         "15",
         "87"
        ],
        [
         "16",
         "96"
        ],
        [
         "17",
         "52"
        ],
        [
         "18",
         "87"
        ],
        [
         "19",
         "52"
        ],
        [
         "20",
         "79"
        ],
        [
         "21",
         "50"
        ],
        [
         "22",
         "79"
        ],
        [
         "23",
         "94"
        ],
        [
         "24",
         "81"
        ],
        [
         "25",
         "77"
        ],
        [
         "26",
         "70"
        ],
        [
         "27",
         "95"
        ],
        [
         "28",
         "60"
        ],
        [
         "29",
         "76"
        ],
        [
         "30",
         "85"
        ],
        [
         "31",
         "56"
        ],
        [
         "32",
         "71"
        ],
        [
         "33",
         "59"
        ],
        [
         "34",
         "88"
        ],
        [
         "35",
         "60"
        ],
        [
         "36",
         "64"
        ],
        [
         "37",
         "53"
        ],
        [
         "38",
         "81"
        ],
        [
         "39",
         "60"
        ],
        [
         "40",
         "55"
        ],
        [
         "41",
         "73"
        ],
        [
         "42",
         "69"
        ],
        [
         "43",
         "86"
        ],
        [
         "44",
         "60"
        ],
        [
         "45",
         "61"
        ],
        [
         "46",
         "82"
        ],
        [
         "47",
         "77"
        ],
        [
         "48",
         "57"
        ],
        [
         "49",
         "60"
        ]
       ],
       "shape": {
        "columns": 1,
        "rows": 1002
       }
      },
      "text/plain": [
       "0       93\n",
       "1       60\n",
       "2       64\n",
       "3       65\n",
       "4       60\n",
       "        ..\n",
       "997     68\n",
       "998     62\n",
       "999     91\n",
       "1000    93\n",
       "1001    60\n",
       "Name: Attendance (%), Length: 1002, dtype: int64"
      ]
     },
     "execution_count": 13,
     "metadata": {},
     "output_type": "execute_result"
    }
   ],
   "source": [
    "students_data[\"Attendance (%)\"]"
   ]
  },
  {
   "cell_type": "code",
   "execution_count": 14,
   "id": "8de0fbed",
   "metadata": {},
   "outputs": [],
   "source": [
    "students_data[\"Participation\"]=students_data[\"Participation\"].astype(str).str.lower().str.strip()\n"
   ]
  },
  {
   "cell_type": "code",
   "execution_count": 15,
   "id": "38adc05b",
   "metadata": {},
   "outputs": [],
   "source": [
    "participation_map = {'low': 0, 'medium': 1, 'high': 2}\n",
    "students_data[\"Participation\"]=students_data[\"Participation\"].map(participation_map)\n",
    "\n",
    "\n"
   ]
  },
  {
   "cell_type": "code",
   "execution_count": 16,
   "id": "de3a3bff",
   "metadata": {},
   "outputs": [
    {
     "data": {
      "text/plain": [
       "102"
      ]
     },
     "execution_count": 16,
     "metadata": {},
     "output_type": "execute_result"
    }
   ],
   "source": [
    "students_data['Participation'].isnull().sum()"
   ]
  },
  {
   "cell_type": "code",
   "execution_count": 17,
   "id": "a0f5219b",
   "metadata": {},
   "outputs": [
    {
     "data": {
      "application/vnd.microsoft.datawrangler.viewer.v0+json": {
       "columns": [
        {
         "name": "index",
         "rawType": "int64",
         "type": "integer"
        },
        {
         "name": "Student ID",
         "rawType": "float64",
         "type": "float"
        },
        {
         "name": "Name",
         "rawType": "object",
         "type": "string"
        },
        {
         "name": "Class",
         "rawType": "float64",
         "type": "float"
        },
        {
         "name": "Subject",
         "rawType": "object",
         "type": "string"
        },
        {
         "name": "Exam Category",
         "rawType": "object",
         "type": "string"
        },
        {
         "name": "Exam Date",
         "rawType": "object",
         "type": "string"
        },
        {
         "name": "Score",
         "rawType": "object",
         "type": "string"
        },
        {
         "name": "Attendance (%)",
         "rawType": "int64",
         "type": "integer"
        },
        {
         "name": "Participation",
         "rawType": "float64",
         "type": "float"
        },
        {
         "name": "Behavior Score",
         "rawType": "object",
         "type": "string"
        },
        {
         "name": "Final Grade",
         "rawType": "object",
         "type": "unknown"
        }
       ],
       "ref": "9a275568-82f2-4e42-a65d-2495157fa621",
       "rows": [
        [
         "1",
         "535.0",
         "Nusrat Hossain",
         "10.0",
         "Computer",
         "Final Exam",
         "2025-01-02",
         "48",
         "60",
         "0.0",
         "7",
         "C"
        ],
        [
         "5",
         "171.0",
         "Ayesha Rahman",
         "10.0",
         "Computer",
         "Mid Exam",
         "2025-01-06",
         "34",
         "60",
         "0.0",
         "9",
         null
        ],
        [
         "6",
         "800.0",
         "Sakib Khan",
         "10.0",
         "English",
         "Class Test",
         "2025-01-07",
         "46",
         "51",
         "1.0",
         "5",
         "C"
        ],
        [
         "7",
         "120.0",
         "Tania Jahan",
         "10.0",
         "Computer",
         "Final Exam",
         "2025-01-08",
         "65",
         "99",
         "2.0",
         "8",
         "C"
        ],
        [
         "8",
         "714.0",
         "Mehedi Hasan",
         "10.0",
         "English",
         "Class Test",
         "2025-01-09",
         "48",
         "61",
         "1.0",
         "8",
         "A+"
        ],
        [
         "9",
         "221.0",
         "Tania Jahan",
         "10.0",
         "Computer",
         "Final Exam",
         "2025-01-10",
         "93",
         "100",
         "1.0",
         "6",
         "F"
        ],
        [
         "10",
         "566.0",
         "Nusrat Hossain",
         "10.0",
         "UnkownSubject",
         "Class Test",
         "2025-01-11",
         "40",
         "75",
         "1.0",
         "6",
         "A+"
        ],
        [
         "11",
         "314.0",
         "Sakib Khan",
         "10.0",
         "Math",
         "Final Exam",
         "2025-01-12",
         "83",
         "72",
         "0.0",
         "10",
         "A+"
        ],
        [
         "12",
         "430.0",
         "Mehedi Hasan",
         "10.0",
         "Physics",
         "Class Test",
         "2025-01-13",
         "74",
         "67",
         "1.0",
         "10",
         "C"
        ],
        [
         "14",
         "187.0",
         "Ayesha Rahman",
         "10.0",
         "Bangla",
         "Final Exam",
         "2025-01-15",
         "41",
         "98",
         "0.0",
         "10",
         "B+"
        ],
        [
         "15",
         "472.0",
         "Tanvir Alam",
         "10.0",
         "Computer",
         "Class Test",
         "32-13-2025",
         "50",
         "87",
         "2.0",
         "7",
         null
        ],
        [
         "16",
         "199.0",
         "Tania Jahan",
         "10.0",
         "Biology",
         "Class Test",
         "2025-01-17",
         "40",
         "96",
         "2.0",
         "6",
         "F"
        ],
        [
         "18",
         "763.0",
         "Mim Akter",
         "10.0",
         "Biology",
         "Final Exam",
         "2025-01-19",
         "85",
         "87",
         "0.0",
         "7",
         "F"
        ],
        [
         "19",
         "230.0",
         "Sakib Khan",
         "10.0",
         "Physics",
         "Final Exam",
         "2025-01-20",
         "49",
         "52",
         "2.0",
         "10",
         "A"
        ],
        [
         "20",
         "761.0",
         "Ayesha Rahman",
         "10.0",
         "Biology",
         "Class Test",
         "2025-01-21",
         "70",
         "79",
         "1.0",
         "9",
         "Excelent"
        ],
        [
         "21",
         "408.0",
         "Tania Jahan",
         "10.0",
         "Computer",
         "Class Test",
         "2025-01-22",
         "75",
         "50",
         "1.0",
         "5",
         "B+"
        ],
        [
         "22",
         "869.0",
         "Ayesha Rahman",
         "10.0",
         "Computer",
         "Final Exam",
         "2025-01-23",
         "41",
         "79",
         "0.0",
         "6",
         "B"
        ],
        [
         "23",
         "443.0",
         "Tania Jahan",
         "10.0",
         "Math",
         "Final Exam",
         "2025-01-24",
         "99",
         "94",
         "1.0",
         "9",
         "A+"
        ],
        [
         "24",
         "591.0",
         "Sakib Khan",
         "10.0",
         "Bangla",
         "Class Test",
         "2025-01-25",
         "46",
         "81",
         "2.0",
         "10",
         "A+"
        ],
        [
         "25",
         "513.0",
         "Sakib Khan",
         "10.0",
         "Biology",
         "Class Test",
         "2025-01-26",
         "Eighty",
         "77",
         "0.0",
         "8",
         "B+"
        ],
        [
         "26",
         "905.0",
         "Mim Akter",
         "10.0",
         "English",
         "Class Test",
         "2025-01-27",
         "55",
         "70",
         "2.0",
         "5",
         "F"
        ],
        [
         "28",
         "291.0",
         "Mehedi Hasan",
         "10.0",
         "Biology",
         "Final Exam",
         "2025-01-29",
         "81",
         "60",
         "2.0",
         "5",
         "F"
        ],
        [
         "30",
         "260.0",
         "Ayesha Rahman",
         "10.0",
         "Math",
         "Final Exam",
         "2025-01-31",
         "84",
         "85",
         "1.0",
         "Nine",
         "B"
        ],
        [
         "32",
         "413.0",
         "Mehedi Hasan",
         "10.0",
         "Biology",
         "Final Exam",
         "2025-02-02",
         "91",
         "71",
         "2.0",
         "10",
         "A+"
        ],
        [
         "33",
         "121.0",
         "Tanvir Alam",
         "10.0",
         "Computer",
         "Final Exam",
         "2025-02-03",
         "52",
         "59",
         "0.0",
         "5",
         null
        ],
        [
         "34",
         "352.0",
         "Tanvir Alam",
         "10.0",
         "Math",
         "Final Exam",
         "2025-02-04",
         "44",
         "88",
         "0.0",
         "9",
         "F"
        ],
        [
         "36",
         "956.0",
         "Tanvir Alam",
         "10.0",
         "Physics",
         "Final Exam",
         "2025-02-06",
         "93",
         "64",
         "1.0",
         "6",
         "C"
        ],
        [
         "37",
         "660.0",
         "Nusrat Hossain",
         "10.0",
         "English",
         "Mid Exam",
         "2025-02-07",
         "80",
         "53",
         "0.0",
         "10",
         "D"
        ],
        [
         "38",
         "574.0",
         "Tania Jahan",
         "10.0",
         "Biology",
         "Class Test",
         "2025-02-08",
         "82",
         "81",
         "2.0",
         "9",
         "B+"
        ],
        [
         "39",
         "158.0",
         "Nusrat Hossain",
         "10.0",
         "Bangla",
         "Class Test",
         "2025-02-09",
         "80",
         "60",
         "1.0",
         "9",
         "F"
        ],
        [
         "40",
         "610.0",
         "Nusrat Hossain",
         "10.0",
         "English",
         "Mid Exam",
         "2025-02-10",
         "76",
         "55",
         "2.0",
         "5",
         "A+"
        ],
        [
         "41",
         "781.0",
         "Nusrat Hossain",
         "10.0",
         "Computer",
         "Mid Exam",
         "2025-02-11",
         "33",
         "73",
         "0.0",
         "10",
         "F"
        ],
        [
         "43",
         "799.0",
         "Mehedi Hasan",
         "10.0",
         "Computer",
         "Mid Exam",
         "2025-02-13",
         "64",
         "86",
         "1.0",
         "7",
         "C"
        ],
        [
         "44",
         "882.0",
         "Sakib Khan",
         "10.0",
         "Physics",
         "Final Exam",
         "2025-02-14",
         "77",
         "60",
         "0.0",
         "10",
         "B"
        ],
        [
         "45",
         "289.0",
         "Sakib Khan",
         "10.0",
         "Math",
         "Class Test",
         "2025-02-15",
         "74",
         "61",
         "1.0",
         "6",
         "D"
        ],
        [
         "46",
         "786.0",
         "Tania Jahan",
         "10.0",
         "Biology",
         "Final Exam",
         "2025-02-16",
         "48",
         "82",
         "0.0",
         "5",
         "A+"
        ],
        [
         "48",
         "975.0",
         "Tanvir Alam",
         "10.0",
         "Physics",
         "Class Test",
         "2025-02-18",
         "67",
         "57",
         "0.0",
         "10",
         "D"
        ],
        [
         "50",
         "343.0",
         "Mim Akter",
         "10.0",
         "Computer",
         "Final Exam",
         "2025-02-20",
         "88",
         "86",
         "2.0",
         "10",
         "B"
        ],
        [
         "51",
         "931.0",
         "Ayesha Rahman",
         "10.0",
         "Bangla",
         "Mid Exam",
         "2025-02-21",
         "98",
         "71",
         "2.0",
         "9",
         "C"
        ],
        [
         "52",
         "604.0",
         "Mim Akter",
         "10.0",
         "Physics",
         "Final Exam",
         "2025-02-22",
         "42",
         "55",
         "2.0",
         "8",
         "A+"
        ],
        [
         "53",
         "230.0",
         "Ayesha Rahman",
         "10.0",
         "English",
         "Class Test",
         "2025-02-23",
         "76",
         "70",
         "1.0",
         "9",
         "B"
        ],
        [
         "54",
         "584.0",
         "Tanvir Alam",
         "10.0",
         "Physics",
         "Mid Exam",
         "2025-02-24",
         "90",
         "81",
         "1.0",
         "9",
         "B+"
        ],
        [
         "55",
         "918.0",
         "Tanvir Alam",
         "10.0",
         "Bangla",
         "Mid Exam",
         "2025-02-25",
         "60",
         "84",
         "2.0",
         "9",
         "D"
        ],
        [
         "56",
         "746.0",
         "Mim Akter",
         "10.0",
         "Computer",
         "Class Test",
         "2025-02-26",
         "51",
         "64",
         "2.0",
         "10",
         "C"
        ],
        [
         "57",
         "120.0",
         "Mim Akter",
         "10.0",
         "Computer",
         "Class Test",
         "2025-02-27",
         "72",
         "54",
         "0.0",
         "7",
         null
        ],
        [
         "58",
         "940.0",
         "Ayesha Rahman",
         "10.0",
         "English",
         "Class Test",
         "2025-02-28",
         "96",
         "95",
         "0.0",
         "9",
         "A"
        ],
        [
         "59",
         "266.0",
         "Sakib Khan",
         "10.0",
         "Physics",
         "Mid Exam",
         "2025-03-01",
         "83",
         "99",
         "0.0",
         "6",
         "A+"
        ],
        [
         "61",
         "487.0",
         "Mim Akter",
         "10.0",
         "Bangla",
         "Mid Exam",
         "2025-03-03",
         "71",
         "55",
         "2.0",
         "5",
         "B"
        ],
        [
         "62",
         "700.0",
         "Mehedi Hasan",
         "10.0",
         "Biology",
         "Final Exam",
         "2025-03-04",
         "93",
         "74",
         "2.0",
         "7",
         "A"
        ],
        [
         "63",
         "415.0",
         "Mim Akter",
         "10.0",
         "Math",
         "Mid Exam",
         "2025-03-05",
         "50",
         "95",
         "0.0",
         "5",
         "A+"
        ]
       ],
       "shape": {
        "columns": 11,
        "rows": 900
       }
      },
      "text/html": [
       "<div>\n",
       "<style scoped>\n",
       "    .dataframe tbody tr th:only-of-type {\n",
       "        vertical-align: middle;\n",
       "    }\n",
       "\n",
       "    .dataframe tbody tr th {\n",
       "        vertical-align: top;\n",
       "    }\n",
       "\n",
       "    .dataframe thead th {\n",
       "        text-align: right;\n",
       "    }\n",
       "</style>\n",
       "<table border=\"1\" class=\"dataframe\">\n",
       "  <thead>\n",
       "    <tr style=\"text-align: right;\">\n",
       "      <th></th>\n",
       "      <th>Student ID</th>\n",
       "      <th>Name</th>\n",
       "      <th>Class</th>\n",
       "      <th>Subject</th>\n",
       "      <th>Exam Category</th>\n",
       "      <th>Exam Date</th>\n",
       "      <th>Score</th>\n",
       "      <th>Attendance (%)</th>\n",
       "      <th>Participation</th>\n",
       "      <th>Behavior Score</th>\n",
       "      <th>Final Grade</th>\n",
       "    </tr>\n",
       "  </thead>\n",
       "  <tbody>\n",
       "    <tr>\n",
       "      <th>1</th>\n",
       "      <td>535.0</td>\n",
       "      <td>Nusrat Hossain</td>\n",
       "      <td>10.0</td>\n",
       "      <td>Computer</td>\n",
       "      <td>Final Exam</td>\n",
       "      <td>2025-01-02</td>\n",
       "      <td>48</td>\n",
       "      <td>60</td>\n",
       "      <td>0.0</td>\n",
       "      <td>7</td>\n",
       "      <td>C</td>\n",
       "    </tr>\n",
       "    <tr>\n",
       "      <th>5</th>\n",
       "      <td>171.0</td>\n",
       "      <td>Ayesha Rahman</td>\n",
       "      <td>10.0</td>\n",
       "      <td>Computer</td>\n",
       "      <td>Mid Exam</td>\n",
       "      <td>2025-01-06</td>\n",
       "      <td>34</td>\n",
       "      <td>60</td>\n",
       "      <td>0.0</td>\n",
       "      <td>9</td>\n",
       "      <td>NaN</td>\n",
       "    </tr>\n",
       "    <tr>\n",
       "      <th>6</th>\n",
       "      <td>800.0</td>\n",
       "      <td>Sakib Khan</td>\n",
       "      <td>10.0</td>\n",
       "      <td>English</td>\n",
       "      <td>Class Test</td>\n",
       "      <td>2025-01-07</td>\n",
       "      <td>46</td>\n",
       "      <td>51</td>\n",
       "      <td>1.0</td>\n",
       "      <td>5</td>\n",
       "      <td>C</td>\n",
       "    </tr>\n",
       "    <tr>\n",
       "      <th>7</th>\n",
       "      <td>120.0</td>\n",
       "      <td>Tania Jahan</td>\n",
       "      <td>10.0</td>\n",
       "      <td>Computer</td>\n",
       "      <td>Final Exam</td>\n",
       "      <td>2025-01-08</td>\n",
       "      <td>65</td>\n",
       "      <td>99</td>\n",
       "      <td>2.0</td>\n",
       "      <td>8</td>\n",
       "      <td>C</td>\n",
       "    </tr>\n",
       "    <tr>\n",
       "      <th>8</th>\n",
       "      <td>714.0</td>\n",
       "      <td>Mehedi Hasan</td>\n",
       "      <td>10.0</td>\n",
       "      <td>English</td>\n",
       "      <td>Class Test</td>\n",
       "      <td>2025-01-09</td>\n",
       "      <td>48</td>\n",
       "      <td>61</td>\n",
       "      <td>1.0</td>\n",
       "      <td>8</td>\n",
       "      <td>A+</td>\n",
       "    </tr>\n",
       "    <tr>\n",
       "      <th>...</th>\n",
       "      <td>...</td>\n",
       "      <td>...</td>\n",
       "      <td>...</td>\n",
       "      <td>...</td>\n",
       "      <td>...</td>\n",
       "      <td>...</td>\n",
       "      <td>...</td>\n",
       "      <td>...</td>\n",
       "      <td>...</td>\n",
       "      <td>...</td>\n",
       "      <td>...</td>\n",
       "    </tr>\n",
       "    <tr>\n",
       "      <th>995</th>\n",
       "      <td>837.0</td>\n",
       "      <td>Tanvir Alam</td>\n",
       "      <td>10.0</td>\n",
       "      <td>Computer</td>\n",
       "      <td>Mid Exam</td>\n",
       "      <td>2027-09-23</td>\n",
       "      <td>86</td>\n",
       "      <td>96</td>\n",
       "      <td>0.0</td>\n",
       "      <td>9</td>\n",
       "      <td>B+</td>\n",
       "    </tr>\n",
       "    <tr>\n",
       "      <th>996</th>\n",
       "      <td>905.0</td>\n",
       "      <td>Ayesha Rahman</td>\n",
       "      <td>10.0</td>\n",
       "      <td>Math</td>\n",
       "      <td>Final Exam</td>\n",
       "      <td>2027-09-24</td>\n",
       "      <td>69</td>\n",
       "      <td>95</td>\n",
       "      <td>2.0</td>\n",
       "      <td>8</td>\n",
       "      <td>A+</td>\n",
       "    </tr>\n",
       "    <tr>\n",
       "      <th>997</th>\n",
       "      <td>405.0</td>\n",
       "      <td>Sakib Khan</td>\n",
       "      <td>10.0</td>\n",
       "      <td>Physics</td>\n",
       "      <td>Final Exam</td>\n",
       "      <td>2027-09-25</td>\n",
       "      <td>88</td>\n",
       "      <td>68</td>\n",
       "      <td>0.0</td>\n",
       "      <td>8</td>\n",
       "      <td>B</td>\n",
       "    </tr>\n",
       "    <tr>\n",
       "      <th>998</th>\n",
       "      <td>197.0</td>\n",
       "      <td>Nusrat Hossain</td>\n",
       "      <td>10.0</td>\n",
       "      <td>Physics</td>\n",
       "      <td>Class Test</td>\n",
       "      <td>2027-09-26</td>\n",
       "      <td>31</td>\n",
       "      <td>62</td>\n",
       "      <td>2.0</td>\n",
       "      <td>8</td>\n",
       "      <td>A</td>\n",
       "    </tr>\n",
       "    <tr>\n",
       "      <th>999</th>\n",
       "      <td>949.0</td>\n",
       "      <td>Mehedi Hasan</td>\n",
       "      <td>10.0</td>\n",
       "      <td>Physics</td>\n",
       "      <td>Class Test</td>\n",
       "      <td>2027-09-27</td>\n",
       "      <td>39</td>\n",
       "      <td>91</td>\n",
       "      <td>2.0</td>\n",
       "      <td>9</td>\n",
       "      <td>A+</td>\n",
       "    </tr>\n",
       "  </tbody>\n",
       "</table>\n",
       "<p>900 rows × 11 columns</p>\n",
       "</div>"
      ],
      "text/plain": [
       "     Student ID            Name  Class   Subject Exam Category   Exam Date  \\\n",
       "1         535.0  Nusrat Hossain   10.0  Computer    Final Exam  2025-01-02   \n",
       "5         171.0   Ayesha Rahman   10.0  Computer      Mid Exam  2025-01-06   \n",
       "6         800.0      Sakib Khan   10.0   English    Class Test  2025-01-07   \n",
       "7         120.0     Tania Jahan   10.0  Computer    Final Exam  2025-01-08   \n",
       "8         714.0    Mehedi Hasan   10.0   English    Class Test  2025-01-09   \n",
       "..          ...             ...    ...       ...           ...         ...   \n",
       "995       837.0     Tanvir Alam   10.0  Computer      Mid Exam  2027-09-23   \n",
       "996       905.0   Ayesha Rahman   10.0      Math    Final Exam  2027-09-24   \n",
       "997       405.0      Sakib Khan   10.0   Physics    Final Exam  2027-09-25   \n",
       "998       197.0  Nusrat Hossain   10.0   Physics    Class Test  2027-09-26   \n",
       "999       949.0    Mehedi Hasan   10.0   Physics    Class Test  2027-09-27   \n",
       "\n",
       "    Score  Attendance (%)  Participation Behavior Score Final Grade  \n",
       "1      48              60            0.0              7           C  \n",
       "5      34              60            0.0              9         NaN  \n",
       "6      46              51            1.0              5           C  \n",
       "7      65              99            2.0              8           C  \n",
       "8      48              61            1.0              8          A+  \n",
       "..    ...             ...            ...            ...         ...  \n",
       "995    86              96            0.0              9          B+  \n",
       "996    69              95            2.0              8          A+  \n",
       "997    88              68            0.0              8           B  \n",
       "998    31              62            2.0              8           A  \n",
       "999    39              91            2.0              9          A+  \n",
       "\n",
       "[900 rows x 11 columns]"
      ]
     },
     "execution_count": 17,
     "metadata": {},
     "output_type": "execute_result"
    }
   ],
   "source": [
    "students_data [~students_data[\"Participation\"].isnull()]"
   ]
  },
  {
   "cell_type": "code",
   "execution_count": null,
   "id": "a4572a27",
   "metadata": {},
   "outputs": [
    {
     "data": {
      "application/vnd.microsoft.datawrangler.viewer.v0+json": {
       "columns": [
        {
         "name": "index",
         "rawType": "int64",
         "type": "integer"
        },
        {
         "name": "Student ID",
         "rawType": "float64",
         "type": "float"
        },
        {
         "name": "Name",
         "rawType": "object",
         "type": "unknown"
        },
        {
         "name": "Class",
         "rawType": "float64",
         "type": "float"
        },
        {
         "name": "Subject",
         "rawType": "object",
         "type": "unknown"
        },
        {
         "name": "Exam Category",
         "rawType": "object",
         "type": "unknown"
        },
        {
         "name": "Exam Date",
         "rawType": "object",
         "type": "unknown"
        },
        {
         "name": "Score",
         "rawType": "object",
         "type": "unknown"
        },
        {
         "name": "Attendance (%)",
         "rawType": "int64",
         "type": "integer"
        },
        {
         "name": "Participation",
         "rawType": "float64",
         "type": "float"
        },
        {
         "name": "Behavior Score",
         "rawType": "object",
         "type": "unknown"
        },
        {
         "name": "Final Grade",
         "rawType": "object",
         "type": "unknown"
        }
       ],
       "ref": "7c4b4417-4fee-4053-9f98-60a3b72bbe96",
       "rows": [
        [
         "0",
         "202.0",
         "Mehedi Hasan",
         "10.0",
         "Biology",
         "Class Test",
         "2025-01-01",
         "53",
         "93",
         null,
         "10",
         "A"
        ],
        [
         "2",
         "960.0",
         "Tanvir Alam",
         "10.0",
         "Physics",
         "Final Exam",
         "2025-01-03",
         "66",
         "64",
         null,
         "8",
         "F"
        ],
        [
         "3",
         "370.0",
         "Tanvir Alam",
         "10.0",
         "Physics",
         "Mid Exam",
         "2025-01-04",
         "37",
         "65",
         null,
         "10",
         "F"
        ],
        [
         "4",
         "206.0",
         "Nusrat Hossain",
         "10.0",
         "Bangla",
         "Final Exam",
         "2025-01-05",
         "57",
         "60",
         null,
         "9",
         "D"
        ],
        [
         "13",
         "558.0",
         "Nusrat Hossain",
         "10.0",
         "Computer",
         "Class Test",
         "2025-01-14",
         "76",
         "81",
         null,
         "6",
         null
        ],
        [
         "17",
         "971.0",
         "Mim Akter",
         "10.0",
         "Physics",
         "Class Test",
         "2025-01-18",
         "34",
         "52",
         null,
         "8",
         "D"
        ],
        [
         "27",
         "485.0",
         "Ayesha Rahman",
         "10.0",
         "Math",
         "Mid Exam",
         "2025-01-28",
         "77",
         "95",
         null,
         "9",
         "A"
        ],
        [
         "29",
         "376.0",
         "Mim Akter",
         "10.0",
         "Biology",
         "Mid Exam",
         "2025-01-30",
         "99",
         "76",
         null,
         "6",
         "D"
        ],
        [
         "31",
         "559.0",
         "Mim Akter",
         "10.0",
         "Computer",
         "Final Exam",
         "2025-02-01",
         "62",
         "56",
         null,
         "8",
         "B+"
        ],
        [
         "35",
         "847.0",
         "Tanvir Alam",
         "10.0",
         "Computer",
         "Final Exam",
         "2025-02-05",
         "56",
         "60",
         null,
         "6",
         null
        ],
        [
         "42",
         "575.0",
         "Tanvir Alam",
         "10.0",
         "Biology",
         "Mid Exam",
         "2025-02-12",
         "36",
         "69",
         null,
         "10",
         "B"
        ],
        [
         "47",
         "662.0",
         "Tanvir Alam",
         "10.0",
         "Physics",
         "Class Test",
         "2025-02-17",
         "92",
         "77",
         null,
         "9",
         "C"
        ],
        [
         "49",
         "666.0",
         "Tanvir Alam",
         "10.0",
         "Biology",
         "Mid Exam",
         "2025-02-19",
         "96",
         "60",
         null,
         "5",
         null
        ],
        [
         "60",
         "373.0",
         "Ayesha Rahman",
         "10.0",
         "Computer",
         "Final Exam",
         "2025-03-02",
         "39",
         "97",
         null,
         "6",
         "B+"
        ],
        [
         "71",
         "191.0",
         "Ayesha Rahman",
         "10.0",
         "Biology",
         "Final Exam",
         "2025-03-13",
         "76",
         "51",
         null,
         "5",
         "B"
        ],
        [
         "76",
         "875.0",
         "Tanvir Alam",
         "10.0",
         "English",
         "Class Test",
         "2025-03-18",
         "100",
         "97",
         null,
         "7",
         "C"
        ],
        [
         "80",
         "661.0",
         "Nusrat Hossain",
         "10.0",
         "Computer",
         "Class Test",
         "2025-03-22",
         "94",
         "60",
         null,
         "9",
         "B+"
        ],
        [
         "123",
         "956.0",
         "Tanvir Alam",
         "10.0",
         "Biology",
         "Final Exam",
         "2025-05-04",
         "96",
         "60",
         null,
         "5",
         "F"
        ],
        [
         "124",
         "938.0",
         "Tanvir Alam",
         "10.0",
         "Computer",
         "Final Exam",
         "2025-05-05",
         "37",
         "68",
         null,
         "9",
         "B+"
        ],
        [
         "131",
         "238.0",
         "Nusrat Hossain",
         "10.0",
         "Bangla",
         "Mid Exam",
         "2025-05-12",
         "59",
         "97",
         null,
         "7",
         "B"
        ],
        [
         "141",
         "330.0",
         "Mim Akter",
         "10.0",
         "Computer",
         "Class Test",
         "2025-05-22",
         "84",
         "100",
         null,
         "10",
         "F"
        ],
        [
         "153",
         "827.0",
         "Mehedi Hasan",
         "10.0",
         "Physics",
         "Class Test",
         "2025-06-03",
         "82",
         "81",
         null,
         "10",
         "F"
        ],
        [
         "164",
         "868.0",
         "Ayesha Rahman",
         "10.0",
         "Biology",
         "Final Exam",
         "2025-06-14",
         "78",
         "90",
         null,
         "5",
         "A"
        ],
        [
         "184",
         "663.0",
         "Mehedi Hasan",
         "10.0",
         "Math",
         "Final Exam",
         "2025-07-04",
         "73",
         "60",
         null,
         "6",
         null
        ],
        [
         "187",
         "584.0",
         "Tania Jahan",
         "10.0",
         "Math",
         "Class Test",
         "2025-07-07",
         "80",
         "99",
         null,
         "6",
         "C"
        ],
        [
         "193",
         "640.0",
         "Sakib Khan",
         "10.0",
         "Bangla",
         "Final Exam",
         "2025-07-13",
         "66",
         "89",
         null,
         "10",
         "F"
        ],
        [
         "208",
         "127.0",
         "Mehedi Hasan",
         "10.0",
         "Bangla",
         "Final Exam",
         "2025-07-28",
         "46",
         "85",
         null,
         "9",
         "C"
        ],
        [
         "240",
         "926.0",
         "Tanvir Alam",
         "10.0",
         "Math",
         "Mid Exam",
         "2025-08-29",
         "57",
         "91",
         null,
         "6",
         "C"
        ],
        [
         "244",
         "571.0",
         "Ayesha Rahman",
         "10.0",
         "Bangla",
         "Final Exam",
         "2025-09-02",
         "57",
         "57",
         null,
         "8",
         "C"
        ],
        [
         "264",
         "741.0",
         "Mehedi Hasan",
         "10.0",
         "Physics",
         "Class Test",
         "2025-09-22",
         "39",
         "83",
         null,
         "5",
         "F"
        ],
        [
         "268",
         "835.0",
         "Mehedi Hasan",
         "10.0",
         "Bangla",
         "Final Exam",
         "2025-09-26",
         "46",
         "73",
         null,
         "5",
         "B+"
        ],
        [
         "293",
         "297.0",
         "Mim Akter",
         "10.0",
         "Physics",
         "Mid Exam",
         "2025-10-21",
         "87",
         "81",
         null,
         "8",
         "D"
        ],
        [
         "299",
         "223.0",
         "Sakib Khan",
         "10.0",
         "Computer",
         "Final Exam",
         "2025-10-27",
         "36",
         "80",
         null,
         "8",
         "A"
        ],
        [
         "305",
         "759.0",
         "Nusrat Hossain",
         "10.0",
         "Biology",
         "Class Test",
         "2025-11-02",
         "33",
         "51",
         null,
         "6",
         "C"
        ],
        [
         "306",
         "863.0",
         "Mehedi Hasan",
         "10.0",
         "Bangla",
         "Mid Exam",
         "2025-11-03",
         "96",
         "80",
         null,
         "7",
         "A"
        ],
        [
         "313",
         "810.0",
         "Nusrat Hossain",
         "10.0",
         "Biology",
         "Mid Exam",
         "2025-11-10",
         "34",
         "59",
         null,
         "8",
         "A"
        ],
        [
         "315",
         "588.0",
         "Tania Jahan",
         "10.0",
         "Computer",
         "Mid Exam",
         "2025-11-12",
         "79",
         "95",
         null,
         "10",
         "B"
        ],
        [
         "317",
         "650.0",
         "Tania Jahan",
         "10.0",
         "Bangla",
         "Final Exam",
         "2025-11-14",
         "61",
         "84",
         null,
         "6",
         "F"
        ],
        [
         "321",
         "878.0",
         "Mehedi Hasan",
         "10.0",
         "Bangla",
         "Mid Exam",
         "2025-11-18",
         "88",
         "66",
         null,
         "6",
         "D"
        ],
        [
         "349",
         "503.0",
         "Nusrat Hossain",
         "10.0",
         "Physics",
         "Mid Exam",
         "2025-12-16",
         "56",
         "75",
         null,
         "5",
         "C"
        ],
        [
         "357",
         "519.0",
         "Tanvir Alam",
         "10.0",
         "Math",
         "Final Exam",
         "2025-12-24",
         "91",
         "93",
         null,
         "6",
         "B"
        ],
        [
         "360",
         "951.0",
         "Mehedi Hasan",
         "10.0",
         "English",
         "Class Test",
         "2025-12-27",
         "42",
         "56",
         null,
         "9",
         "A+"
        ],
        [
         "384",
         "995.0",
         "Tanvir Alam",
         "10.0",
         "Math",
         "Class Test",
         "2026-01-20",
         "33",
         "74",
         null,
         "7",
         "A"
        ],
        [
         "429",
         "472.0",
         "Tania Jahan",
         "10.0",
         "English",
         "Class Test",
         "2026-03-06",
         "97",
         "85",
         null,
         "10",
         "A"
        ],
        [
         "476",
         "858.0",
         "Tania Jahan",
         "10.0",
         "Computer",
         "Class Test",
         "2026-04-22",
         "90",
         "59",
         null,
         "7",
         null
        ],
        [
         "481",
         "624.0",
         "Tania Jahan",
         "10.0",
         "Math",
         "Mid Exam",
         "2026-04-27",
         "96",
         "82",
         null,
         "8",
         "B"
        ],
        [
         "484",
         "924.0",
         "Nusrat Hossain",
         "10.0",
         "Physics",
         "Class Test",
         "2026-04-30",
         "78",
         "60",
         null,
         "6",
         "D"
        ],
        [
         "492",
         "753.0",
         "Nusrat Hossain",
         "10.0",
         "Biology",
         "Class Test",
         "2026-05-08",
         "89",
         "64",
         null,
         "6",
         "F"
        ],
        [
         "493",
         "982.0",
         "Tania Jahan",
         "10.0",
         "Math",
         "Class Test",
         "2026-05-09",
         "83",
         "61",
         null,
         "8",
         "C"
        ],
        [
         "498",
         "933.0",
         "Mehedi Hasan",
         "10.0",
         "Biology",
         "Mid Exam",
         "2026-05-14",
         "36",
         "57",
         null,
         "9",
         "D"
        ]
       ],
       "shape": {
        "columns": 11,
        "rows": 102
       }
      },
      "text/html": [
       "<div>\n",
       "<style scoped>\n",
       "    .dataframe tbody tr th:only-of-type {\n",
       "        vertical-align: middle;\n",
       "    }\n",
       "\n",
       "    .dataframe tbody tr th {\n",
       "        vertical-align: top;\n",
       "    }\n",
       "\n",
       "    .dataframe thead th {\n",
       "        text-align: right;\n",
       "    }\n",
       "</style>\n",
       "<table border=\"1\" class=\"dataframe\">\n",
       "  <thead>\n",
       "    <tr style=\"text-align: right;\">\n",
       "      <th></th>\n",
       "      <th>Student ID</th>\n",
       "      <th>Name</th>\n",
       "      <th>Class</th>\n",
       "      <th>Subject</th>\n",
       "      <th>Exam Category</th>\n",
       "      <th>Exam Date</th>\n",
       "      <th>Score</th>\n",
       "      <th>Attendance (%)</th>\n",
       "      <th>Participation</th>\n",
       "      <th>Behavior Score</th>\n",
       "      <th>Final Grade</th>\n",
       "    </tr>\n",
       "  </thead>\n",
       "  <tbody>\n",
       "    <tr>\n",
       "      <th>0</th>\n",
       "      <td>202.0</td>\n",
       "      <td>Mehedi Hasan</td>\n",
       "      <td>10.0</td>\n",
       "      <td>Biology</td>\n",
       "      <td>Class Test</td>\n",
       "      <td>2025-01-01</td>\n",
       "      <td>53</td>\n",
       "      <td>93</td>\n",
       "      <td>NaN</td>\n",
       "      <td>10</td>\n",
       "      <td>A</td>\n",
       "    </tr>\n",
       "    <tr>\n",
       "      <th>2</th>\n",
       "      <td>960.0</td>\n",
       "      <td>Tanvir Alam</td>\n",
       "      <td>10.0</td>\n",
       "      <td>Physics</td>\n",
       "      <td>Final Exam</td>\n",
       "      <td>2025-01-03</td>\n",
       "      <td>66</td>\n",
       "      <td>64</td>\n",
       "      <td>NaN</td>\n",
       "      <td>8</td>\n",
       "      <td>F</td>\n",
       "    </tr>\n",
       "    <tr>\n",
       "      <th>3</th>\n",
       "      <td>370.0</td>\n",
       "      <td>Tanvir Alam</td>\n",
       "      <td>10.0</td>\n",
       "      <td>Physics</td>\n",
       "      <td>Mid Exam</td>\n",
       "      <td>2025-01-04</td>\n",
       "      <td>37</td>\n",
       "      <td>65</td>\n",
       "      <td>NaN</td>\n",
       "      <td>10</td>\n",
       "      <td>F</td>\n",
       "    </tr>\n",
       "    <tr>\n",
       "      <th>4</th>\n",
       "      <td>206.0</td>\n",
       "      <td>Nusrat Hossain</td>\n",
       "      <td>10.0</td>\n",
       "      <td>Bangla</td>\n",
       "      <td>Final Exam</td>\n",
       "      <td>2025-01-05</td>\n",
       "      <td>57</td>\n",
       "      <td>60</td>\n",
       "      <td>NaN</td>\n",
       "      <td>9</td>\n",
       "      <td>D</td>\n",
       "    </tr>\n",
       "    <tr>\n",
       "      <th>13</th>\n",
       "      <td>558.0</td>\n",
       "      <td>Nusrat Hossain</td>\n",
       "      <td>10.0</td>\n",
       "      <td>Computer</td>\n",
       "      <td>Class Test</td>\n",
       "      <td>2025-01-14</td>\n",
       "      <td>76</td>\n",
       "      <td>81</td>\n",
       "      <td>NaN</td>\n",
       "      <td>6</td>\n",
       "      <td>NaN</td>\n",
       "    </tr>\n",
       "    <tr>\n",
       "      <th>...</th>\n",
       "      <td>...</td>\n",
       "      <td>...</td>\n",
       "      <td>...</td>\n",
       "      <td>...</td>\n",
       "      <td>...</td>\n",
       "      <td>...</td>\n",
       "      <td>...</td>\n",
       "      <td>...</td>\n",
       "      <td>...</td>\n",
       "      <td>...</td>\n",
       "      <td>...</td>\n",
       "    </tr>\n",
       "    <tr>\n",
       "      <th>963</th>\n",
       "      <td>194.0</td>\n",
       "      <td>Ayesha Rahman</td>\n",
       "      <td>10.0</td>\n",
       "      <td>Biology</td>\n",
       "      <td>Class Test</td>\n",
       "      <td>2027-08-22</td>\n",
       "      <td>65</td>\n",
       "      <td>96</td>\n",
       "      <td>NaN</td>\n",
       "      <td>5</td>\n",
       "      <td>A+</td>\n",
       "    </tr>\n",
       "    <tr>\n",
       "      <th>988</th>\n",
       "      <td>677.0</td>\n",
       "      <td>Sakib Khan</td>\n",
       "      <td>10.0</td>\n",
       "      <td>Math</td>\n",
       "      <td>Final Exam</td>\n",
       "      <td>2027-09-16</td>\n",
       "      <td>90</td>\n",
       "      <td>56</td>\n",
       "      <td>NaN</td>\n",
       "      <td>9</td>\n",
       "      <td>A+</td>\n",
       "    </tr>\n",
       "    <tr>\n",
       "      <th>993</th>\n",
       "      <td>803.0</td>\n",
       "      <td>Mim Akter</td>\n",
       "      <td>10.0</td>\n",
       "      <td>Physics</td>\n",
       "      <td>Class Test</td>\n",
       "      <td>2027-09-21</td>\n",
       "      <td>37</td>\n",
       "      <td>60</td>\n",
       "      <td>NaN</td>\n",
       "      <td>9</td>\n",
       "      <td>A</td>\n",
       "    </tr>\n",
       "    <tr>\n",
       "      <th>1000</th>\n",
       "      <td>202.0</td>\n",
       "      <td>Mehedi Hasan</td>\n",
       "      <td>10.0</td>\n",
       "      <td>Biology</td>\n",
       "      <td>Class Test</td>\n",
       "      <td>2025-01-01</td>\n",
       "      <td>53</td>\n",
       "      <td>93</td>\n",
       "      <td>NaN</td>\n",
       "      <td>10</td>\n",
       "      <td>A</td>\n",
       "    </tr>\n",
       "    <tr>\n",
       "      <th>1001</th>\n",
       "      <td>NaN</td>\n",
       "      <td>NaN</td>\n",
       "      <td>NaN</td>\n",
       "      <td>NaN</td>\n",
       "      <td>NaN</td>\n",
       "      <td>NaN</td>\n",
       "      <td>NaN</td>\n",
       "      <td>60</td>\n",
       "      <td>NaN</td>\n",
       "      <td>NaN</td>\n",
       "      <td>NaN</td>\n",
       "    </tr>\n",
       "  </tbody>\n",
       "</table>\n",
       "<p>102 rows × 11 columns</p>\n",
       "</div>"
      ],
      "text/plain": [
       "      Student ID            Name  Class   Subject Exam Category   Exam Date  \\\n",
       "0          202.0    Mehedi Hasan   10.0   Biology    Class Test  2025-01-01   \n",
       "2          960.0     Tanvir Alam   10.0   Physics    Final Exam  2025-01-03   \n",
       "3          370.0     Tanvir Alam   10.0   Physics      Mid Exam  2025-01-04   \n",
       "4          206.0  Nusrat Hossain   10.0    Bangla    Final Exam  2025-01-05   \n",
       "13         558.0  Nusrat Hossain   10.0  Computer    Class Test  2025-01-14   \n",
       "...          ...             ...    ...       ...           ...         ...   \n",
       "963        194.0   Ayesha Rahman   10.0   Biology    Class Test  2027-08-22   \n",
       "988        677.0      Sakib Khan   10.0      Math    Final Exam  2027-09-16   \n",
       "993        803.0       Mim Akter   10.0   Physics    Class Test  2027-09-21   \n",
       "1000       202.0    Mehedi Hasan   10.0   Biology    Class Test  2025-01-01   \n",
       "1001         NaN             NaN    NaN       NaN           NaN         NaN   \n",
       "\n",
       "     Score  Attendance (%)  Participation Behavior Score Final Grade  \n",
       "0       53              93            NaN             10           A  \n",
       "2       66              64            NaN              8           F  \n",
       "3       37              65            NaN             10           F  \n",
       "4       57              60            NaN              9           D  \n",
       "13      76              81            NaN              6         NaN  \n",
       "...    ...             ...            ...            ...         ...  \n",
       "963     65              96            NaN              5          A+  \n",
       "988     90              56            NaN              9          A+  \n",
       "993     37              60            NaN              9           A  \n",
       "1000    53              93            NaN             10           A  \n",
       "1001   NaN              60            NaN            NaN         NaN  \n",
       "\n",
       "[102 rows x 11 columns]"
      ]
     },
     "execution_count": 18,
     "metadata": {},
     "output_type": "execute_result"
    }
   ],
   "source": [
    "\n",
    "missing_participation= students_data[students_data[\"Participation\"].isnull()]\n",
    "participation= students_data[students_data[\"Participation\"].notnull()]\n",
    "\n",
    "missing_participation\n"
   ]
  },
  {
   "cell_type": "code",
   "execution_count": 19,
   "id": "fcdead0e",
   "metadata": {},
   "outputs": [
    {
     "data": {
      "text/html": [
       "<style>#sk-container-id-1 {\n",
       "  /* Definition of color scheme common for light and dark mode */\n",
       "  --sklearn-color-text: #000;\n",
       "  --sklearn-color-text-muted: #666;\n",
       "  --sklearn-color-line: gray;\n",
       "  /* Definition of color scheme for unfitted estimators */\n",
       "  --sklearn-color-unfitted-level-0: #fff5e6;\n",
       "  --sklearn-color-unfitted-level-1: #f6e4d2;\n",
       "  --sklearn-color-unfitted-level-2: #ffe0b3;\n",
       "  --sklearn-color-unfitted-level-3: chocolate;\n",
       "  /* Definition of color scheme for fitted estimators */\n",
       "  --sklearn-color-fitted-level-0: #f0f8ff;\n",
       "  --sklearn-color-fitted-level-1: #d4ebff;\n",
       "  --sklearn-color-fitted-level-2: #b3dbfd;\n",
       "  --sklearn-color-fitted-level-3: cornflowerblue;\n",
       "\n",
       "  /* Specific color for light theme */\n",
       "  --sklearn-color-text-on-default-background: var(--sg-text-color, var(--theme-code-foreground, var(--jp-content-font-color1, black)));\n",
       "  --sklearn-color-background: var(--sg-background-color, var(--theme-background, var(--jp-layout-color0, white)));\n",
       "  --sklearn-color-border-box: var(--sg-text-color, var(--theme-code-foreground, var(--jp-content-font-color1, black)));\n",
       "  --sklearn-color-icon: #696969;\n",
       "\n",
       "  @media (prefers-color-scheme: dark) {\n",
       "    /* Redefinition of color scheme for dark theme */\n",
       "    --sklearn-color-text-on-default-background: var(--sg-text-color, var(--theme-code-foreground, var(--jp-content-font-color1, white)));\n",
       "    --sklearn-color-background: var(--sg-background-color, var(--theme-background, var(--jp-layout-color0, #111)));\n",
       "    --sklearn-color-border-box: var(--sg-text-color, var(--theme-code-foreground, var(--jp-content-font-color1, white)));\n",
       "    --sklearn-color-icon: #878787;\n",
       "  }\n",
       "}\n",
       "\n",
       "#sk-container-id-1 {\n",
       "  color: var(--sklearn-color-text);\n",
       "}\n",
       "\n",
       "#sk-container-id-1 pre {\n",
       "  padding: 0;\n",
       "}\n",
       "\n",
       "#sk-container-id-1 input.sk-hidden--visually {\n",
       "  border: 0;\n",
       "  clip: rect(1px 1px 1px 1px);\n",
       "  clip: rect(1px, 1px, 1px, 1px);\n",
       "  height: 1px;\n",
       "  margin: -1px;\n",
       "  overflow: hidden;\n",
       "  padding: 0;\n",
       "  position: absolute;\n",
       "  width: 1px;\n",
       "}\n",
       "\n",
       "#sk-container-id-1 div.sk-dashed-wrapped {\n",
       "  border: 1px dashed var(--sklearn-color-line);\n",
       "  margin: 0 0.4em 0.5em 0.4em;\n",
       "  box-sizing: border-box;\n",
       "  padding-bottom: 0.4em;\n",
       "  background-color: var(--sklearn-color-background);\n",
       "}\n",
       "\n",
       "#sk-container-id-1 div.sk-container {\n",
       "  /* jupyter's `normalize.less` sets `[hidden] { display: none; }`\n",
       "     but bootstrap.min.css set `[hidden] { display: none !important; }`\n",
       "     so we also need the `!important` here to be able to override the\n",
       "     default hidden behavior on the sphinx rendered scikit-learn.org.\n",
       "     See: https://github.com/scikit-learn/scikit-learn/issues/21755 */\n",
       "  display: inline-block !important;\n",
       "  position: relative;\n",
       "}\n",
       "\n",
       "#sk-container-id-1 div.sk-text-repr-fallback {\n",
       "  display: none;\n",
       "}\n",
       "\n",
       "div.sk-parallel-item,\n",
       "div.sk-serial,\n",
       "div.sk-item {\n",
       "  /* draw centered vertical line to link estimators */\n",
       "  background-image: linear-gradient(var(--sklearn-color-text-on-default-background), var(--sklearn-color-text-on-default-background));\n",
       "  background-size: 2px 100%;\n",
       "  background-repeat: no-repeat;\n",
       "  background-position: center center;\n",
       "}\n",
       "\n",
       "/* Parallel-specific style estimator block */\n",
       "\n",
       "#sk-container-id-1 div.sk-parallel-item::after {\n",
       "  content: \"\";\n",
       "  width: 100%;\n",
       "  border-bottom: 2px solid var(--sklearn-color-text-on-default-background);\n",
       "  flex-grow: 1;\n",
       "}\n",
       "\n",
       "#sk-container-id-1 div.sk-parallel {\n",
       "  display: flex;\n",
       "  align-items: stretch;\n",
       "  justify-content: center;\n",
       "  background-color: var(--sklearn-color-background);\n",
       "  position: relative;\n",
       "}\n",
       "\n",
       "#sk-container-id-1 div.sk-parallel-item {\n",
       "  display: flex;\n",
       "  flex-direction: column;\n",
       "}\n",
       "\n",
       "#sk-container-id-1 div.sk-parallel-item:first-child::after {\n",
       "  align-self: flex-end;\n",
       "  width: 50%;\n",
       "}\n",
       "\n",
       "#sk-container-id-1 div.sk-parallel-item:last-child::after {\n",
       "  align-self: flex-start;\n",
       "  width: 50%;\n",
       "}\n",
       "\n",
       "#sk-container-id-1 div.sk-parallel-item:only-child::after {\n",
       "  width: 0;\n",
       "}\n",
       "\n",
       "/* Serial-specific style estimator block */\n",
       "\n",
       "#sk-container-id-1 div.sk-serial {\n",
       "  display: flex;\n",
       "  flex-direction: column;\n",
       "  align-items: center;\n",
       "  background-color: var(--sklearn-color-background);\n",
       "  padding-right: 1em;\n",
       "  padding-left: 1em;\n",
       "}\n",
       "\n",
       "\n",
       "/* Toggleable style: style used for estimator/Pipeline/ColumnTransformer box that is\n",
       "clickable and can be expanded/collapsed.\n",
       "- Pipeline and ColumnTransformer use this feature and define the default style\n",
       "- Estimators will overwrite some part of the style using the `sk-estimator` class\n",
       "*/\n",
       "\n",
       "/* Pipeline and ColumnTransformer style (default) */\n",
       "\n",
       "#sk-container-id-1 div.sk-toggleable {\n",
       "  /* Default theme specific background. It is overwritten whether we have a\n",
       "  specific estimator or a Pipeline/ColumnTransformer */\n",
       "  background-color: var(--sklearn-color-background);\n",
       "}\n",
       "\n",
       "/* Toggleable label */\n",
       "#sk-container-id-1 label.sk-toggleable__label {\n",
       "  cursor: pointer;\n",
       "  display: flex;\n",
       "  width: 100%;\n",
       "  margin-bottom: 0;\n",
       "  padding: 0.5em;\n",
       "  box-sizing: border-box;\n",
       "  text-align: center;\n",
       "  align-items: start;\n",
       "  justify-content: space-between;\n",
       "  gap: 0.5em;\n",
       "}\n",
       "\n",
       "#sk-container-id-1 label.sk-toggleable__label .caption {\n",
       "  font-size: 0.6rem;\n",
       "  font-weight: lighter;\n",
       "  color: var(--sklearn-color-text-muted);\n",
       "}\n",
       "\n",
       "#sk-container-id-1 label.sk-toggleable__label-arrow:before {\n",
       "  /* Arrow on the left of the label */\n",
       "  content: \"▸\";\n",
       "  float: left;\n",
       "  margin-right: 0.25em;\n",
       "  color: var(--sklearn-color-icon);\n",
       "}\n",
       "\n",
       "#sk-container-id-1 label.sk-toggleable__label-arrow:hover:before {\n",
       "  color: var(--sklearn-color-text);\n",
       "}\n",
       "\n",
       "/* Toggleable content - dropdown */\n",
       "\n",
       "#sk-container-id-1 div.sk-toggleable__content {\n",
       "  display: none;\n",
       "  text-align: left;\n",
       "  /* unfitted */\n",
       "  background-color: var(--sklearn-color-unfitted-level-0);\n",
       "}\n",
       "\n",
       "#sk-container-id-1 div.sk-toggleable__content.fitted {\n",
       "  /* fitted */\n",
       "  background-color: var(--sklearn-color-fitted-level-0);\n",
       "}\n",
       "\n",
       "#sk-container-id-1 div.sk-toggleable__content pre {\n",
       "  margin: 0.2em;\n",
       "  border-radius: 0.25em;\n",
       "  color: var(--sklearn-color-text);\n",
       "  /* unfitted */\n",
       "  background-color: var(--sklearn-color-unfitted-level-0);\n",
       "}\n",
       "\n",
       "#sk-container-id-1 div.sk-toggleable__content.fitted pre {\n",
       "  /* unfitted */\n",
       "  background-color: var(--sklearn-color-fitted-level-0);\n",
       "}\n",
       "\n",
       "#sk-container-id-1 input.sk-toggleable__control:checked~div.sk-toggleable__content {\n",
       "  /* Expand drop-down */\n",
       "  display: block;\n",
       "  width: 100%;\n",
       "  overflow: visible;\n",
       "}\n",
       "\n",
       "#sk-container-id-1 input.sk-toggleable__control:checked~label.sk-toggleable__label-arrow:before {\n",
       "  content: \"▾\";\n",
       "}\n",
       "\n",
       "/* Pipeline/ColumnTransformer-specific style */\n",
       "\n",
       "#sk-container-id-1 div.sk-label input.sk-toggleable__control:checked~label.sk-toggleable__label {\n",
       "  color: var(--sklearn-color-text);\n",
       "  background-color: var(--sklearn-color-unfitted-level-2);\n",
       "}\n",
       "\n",
       "#sk-container-id-1 div.sk-label.fitted input.sk-toggleable__control:checked~label.sk-toggleable__label {\n",
       "  background-color: var(--sklearn-color-fitted-level-2);\n",
       "}\n",
       "\n",
       "/* Estimator-specific style */\n",
       "\n",
       "/* Colorize estimator box */\n",
       "#sk-container-id-1 div.sk-estimator input.sk-toggleable__control:checked~label.sk-toggleable__label {\n",
       "  /* unfitted */\n",
       "  background-color: var(--sklearn-color-unfitted-level-2);\n",
       "}\n",
       "\n",
       "#sk-container-id-1 div.sk-estimator.fitted input.sk-toggleable__control:checked~label.sk-toggleable__label {\n",
       "  /* fitted */\n",
       "  background-color: var(--sklearn-color-fitted-level-2);\n",
       "}\n",
       "\n",
       "#sk-container-id-1 div.sk-label label.sk-toggleable__label,\n",
       "#sk-container-id-1 div.sk-label label {\n",
       "  /* The background is the default theme color */\n",
       "  color: var(--sklearn-color-text-on-default-background);\n",
       "}\n",
       "\n",
       "/* On hover, darken the color of the background */\n",
       "#sk-container-id-1 div.sk-label:hover label.sk-toggleable__label {\n",
       "  color: var(--sklearn-color-text);\n",
       "  background-color: var(--sklearn-color-unfitted-level-2);\n",
       "}\n",
       "\n",
       "/* Label box, darken color on hover, fitted */\n",
       "#sk-container-id-1 div.sk-label.fitted:hover label.sk-toggleable__label.fitted {\n",
       "  color: var(--sklearn-color-text);\n",
       "  background-color: var(--sklearn-color-fitted-level-2);\n",
       "}\n",
       "\n",
       "/* Estimator label */\n",
       "\n",
       "#sk-container-id-1 div.sk-label label {\n",
       "  font-family: monospace;\n",
       "  font-weight: bold;\n",
       "  display: inline-block;\n",
       "  line-height: 1.2em;\n",
       "}\n",
       "\n",
       "#sk-container-id-1 div.sk-label-container {\n",
       "  text-align: center;\n",
       "}\n",
       "\n",
       "/* Estimator-specific */\n",
       "#sk-container-id-1 div.sk-estimator {\n",
       "  font-family: monospace;\n",
       "  border: 1px dotted var(--sklearn-color-border-box);\n",
       "  border-radius: 0.25em;\n",
       "  box-sizing: border-box;\n",
       "  margin-bottom: 0.5em;\n",
       "  /* unfitted */\n",
       "  background-color: var(--sklearn-color-unfitted-level-0);\n",
       "}\n",
       "\n",
       "#sk-container-id-1 div.sk-estimator.fitted {\n",
       "  /* fitted */\n",
       "  background-color: var(--sklearn-color-fitted-level-0);\n",
       "}\n",
       "\n",
       "/* on hover */\n",
       "#sk-container-id-1 div.sk-estimator:hover {\n",
       "  /* unfitted */\n",
       "  background-color: var(--sklearn-color-unfitted-level-2);\n",
       "}\n",
       "\n",
       "#sk-container-id-1 div.sk-estimator.fitted:hover {\n",
       "  /* fitted */\n",
       "  background-color: var(--sklearn-color-fitted-level-2);\n",
       "}\n",
       "\n",
       "/* Specification for estimator info (e.g. \"i\" and \"?\") */\n",
       "\n",
       "/* Common style for \"i\" and \"?\" */\n",
       "\n",
       ".sk-estimator-doc-link,\n",
       "a:link.sk-estimator-doc-link,\n",
       "a:visited.sk-estimator-doc-link {\n",
       "  float: right;\n",
       "  font-size: smaller;\n",
       "  line-height: 1em;\n",
       "  font-family: monospace;\n",
       "  background-color: var(--sklearn-color-background);\n",
       "  border-radius: 1em;\n",
       "  height: 1em;\n",
       "  width: 1em;\n",
       "  text-decoration: none !important;\n",
       "  margin-left: 0.5em;\n",
       "  text-align: center;\n",
       "  /* unfitted */\n",
       "  border: var(--sklearn-color-unfitted-level-1) 1pt solid;\n",
       "  color: var(--sklearn-color-unfitted-level-1);\n",
       "}\n",
       "\n",
       ".sk-estimator-doc-link.fitted,\n",
       "a:link.sk-estimator-doc-link.fitted,\n",
       "a:visited.sk-estimator-doc-link.fitted {\n",
       "  /* fitted */\n",
       "  border: var(--sklearn-color-fitted-level-1) 1pt solid;\n",
       "  color: var(--sklearn-color-fitted-level-1);\n",
       "}\n",
       "\n",
       "/* On hover */\n",
       "div.sk-estimator:hover .sk-estimator-doc-link:hover,\n",
       ".sk-estimator-doc-link:hover,\n",
       "div.sk-label-container:hover .sk-estimator-doc-link:hover,\n",
       ".sk-estimator-doc-link:hover {\n",
       "  /* unfitted */\n",
       "  background-color: var(--sklearn-color-unfitted-level-3);\n",
       "  color: var(--sklearn-color-background);\n",
       "  text-decoration: none;\n",
       "}\n",
       "\n",
       "div.sk-estimator.fitted:hover .sk-estimator-doc-link.fitted:hover,\n",
       ".sk-estimator-doc-link.fitted:hover,\n",
       "div.sk-label-container:hover .sk-estimator-doc-link.fitted:hover,\n",
       ".sk-estimator-doc-link.fitted:hover {\n",
       "  /* fitted */\n",
       "  background-color: var(--sklearn-color-fitted-level-3);\n",
       "  color: var(--sklearn-color-background);\n",
       "  text-decoration: none;\n",
       "}\n",
       "\n",
       "/* Span, style for the box shown on hovering the info icon */\n",
       ".sk-estimator-doc-link span {\n",
       "  display: none;\n",
       "  z-index: 9999;\n",
       "  position: relative;\n",
       "  font-weight: normal;\n",
       "  right: .2ex;\n",
       "  padding: .5ex;\n",
       "  margin: .5ex;\n",
       "  width: min-content;\n",
       "  min-width: 20ex;\n",
       "  max-width: 50ex;\n",
       "  color: var(--sklearn-color-text);\n",
       "  box-shadow: 2pt 2pt 4pt #999;\n",
       "  /* unfitted */\n",
       "  background: var(--sklearn-color-unfitted-level-0);\n",
       "  border: .5pt solid var(--sklearn-color-unfitted-level-3);\n",
       "}\n",
       "\n",
       ".sk-estimator-doc-link.fitted span {\n",
       "  /* fitted */\n",
       "  background: var(--sklearn-color-fitted-level-0);\n",
       "  border: var(--sklearn-color-fitted-level-3);\n",
       "}\n",
       "\n",
       ".sk-estimator-doc-link:hover span {\n",
       "  display: block;\n",
       "}\n",
       "\n",
       "/* \"?\"-specific style due to the `<a>` HTML tag */\n",
       "\n",
       "#sk-container-id-1 a.estimator_doc_link {\n",
       "  float: right;\n",
       "  font-size: 1rem;\n",
       "  line-height: 1em;\n",
       "  font-family: monospace;\n",
       "  background-color: var(--sklearn-color-background);\n",
       "  border-radius: 1rem;\n",
       "  height: 1rem;\n",
       "  width: 1rem;\n",
       "  text-decoration: none;\n",
       "  /* unfitted */\n",
       "  color: var(--sklearn-color-unfitted-level-1);\n",
       "  border: var(--sklearn-color-unfitted-level-1) 1pt solid;\n",
       "}\n",
       "\n",
       "#sk-container-id-1 a.estimator_doc_link.fitted {\n",
       "  /* fitted */\n",
       "  border: var(--sklearn-color-fitted-level-1) 1pt solid;\n",
       "  color: var(--sklearn-color-fitted-level-1);\n",
       "}\n",
       "\n",
       "/* On hover */\n",
       "#sk-container-id-1 a.estimator_doc_link:hover {\n",
       "  /* unfitted */\n",
       "  background-color: var(--sklearn-color-unfitted-level-3);\n",
       "  color: var(--sklearn-color-background);\n",
       "  text-decoration: none;\n",
       "}\n",
       "\n",
       "#sk-container-id-1 a.estimator_doc_link.fitted:hover {\n",
       "  /* fitted */\n",
       "  background-color: var(--sklearn-color-fitted-level-3);\n",
       "}\n",
       "\n",
       ".estimator-table summary {\n",
       "    padding: .5rem;\n",
       "    font-family: monospace;\n",
       "    cursor: pointer;\n",
       "}\n",
       "\n",
       ".estimator-table details[open] {\n",
       "    padding-left: 0.1rem;\n",
       "    padding-right: 0.1rem;\n",
       "    padding-bottom: 0.3rem;\n",
       "}\n",
       "\n",
       ".estimator-table .parameters-table {\n",
       "    margin-left: auto !important;\n",
       "    margin-right: auto !important;\n",
       "}\n",
       "\n",
       ".estimator-table .parameters-table tr:nth-child(odd) {\n",
       "    background-color: #fff;\n",
       "}\n",
       "\n",
       ".estimator-table .parameters-table tr:nth-child(even) {\n",
       "    background-color: #f6f6f6;\n",
       "}\n",
       "\n",
       ".estimator-table .parameters-table tr:hover {\n",
       "    background-color: #e0e0e0;\n",
       "}\n",
       "\n",
       ".estimator-table table td {\n",
       "    border: 1px solid rgba(106, 105, 104, 0.232);\n",
       "}\n",
       "\n",
       ".user-set td {\n",
       "    color:rgb(255, 94, 0);\n",
       "    text-align: left;\n",
       "}\n",
       "\n",
       ".user-set td.value pre {\n",
       "    color:rgb(255, 94, 0) !important;\n",
       "    background-color: transparent !important;\n",
       "}\n",
       "\n",
       ".default td {\n",
       "    color: black;\n",
       "    text-align: left;\n",
       "}\n",
       "\n",
       ".user-set td i,\n",
       ".default td i {\n",
       "    color: black;\n",
       "}\n",
       "\n",
       ".copy-paste-icon {\n",
       "    background-image: url(data:image/svg+xml;base64,PHN2ZyB4bWxucz0iaHR0cDovL3d3dy53My5vcmcvMjAwMC9zdmciIHZpZXdCb3g9IjAgMCA0NDggNTEyIj48IS0tIUZvbnQgQXdlc29tZSBGcmVlIDYuNy4yIGJ5IEBmb250YXdlc29tZSAtIGh0dHBzOi8vZm9udGF3ZXNvbWUuY29tIExpY2Vuc2UgLSBodHRwczovL2ZvbnRhd2Vzb21lLmNvbS9saWNlbnNlL2ZyZWUgQ29weXJpZ2h0IDIwMjUgRm9udGljb25zLCBJbmMuLS0+PHBhdGggZD0iTTIwOCAwTDMzMi4xIDBjMTIuNyAwIDI0LjkgNS4xIDMzLjkgMTQuMWw2Ny45IDY3LjljOSA5IDE0LjEgMjEuMiAxNC4xIDMzLjlMNDQ4IDMzNmMwIDI2LjUtMjEuNSA0OC00OCA0OGwtMTkyIDBjLTI2LjUgMC00OC0yMS41LTQ4LTQ4bDAtMjg4YzAtMjYuNSAyMS41LTQ4IDQ4LTQ4ek00OCAxMjhsODAgMCAwIDY0LTY0IDAgMCAyNTYgMTkyIDAgMC0zMiA2NCAwIDAgNDhjMCAyNi41LTIxLjUgNDgtNDggNDhMNDggNTEyYy0yNi41IDAtNDgtMjEuNS00OC00OEwwIDE3NmMwLTI2LjUgMjEuNS00OCA0OC00OHoiLz48L3N2Zz4=);\n",
       "    background-repeat: no-repeat;\n",
       "    background-size: 14px 14px;\n",
       "    background-position: 0;\n",
       "    display: inline-block;\n",
       "    width: 14px;\n",
       "    height: 14px;\n",
       "    cursor: pointer;\n",
       "}\n",
       "</style><body><div id=\"sk-container-id-1\" class=\"sk-top-container\"><div class=\"sk-text-repr-fallback\"><pre>RandomForestClassifier(random_state=42)</pre><b>In a Jupyter environment, please rerun this cell to show the HTML representation or trust the notebook. <br />On GitHub, the HTML representation is unable to render, please try loading this page with nbviewer.org.</b></div><div class=\"sk-container\" hidden><div class=\"sk-item\"><div class=\"sk-estimator fitted sk-toggleable\"><input class=\"sk-toggleable__control sk-hidden--visually\" id=\"sk-estimator-id-1\" type=\"checkbox\" checked><label for=\"sk-estimator-id-1\" class=\"sk-toggleable__label fitted sk-toggleable__label-arrow\"><div><div>RandomForestClassifier</div></div><div><a class=\"sk-estimator-doc-link fitted\" rel=\"noreferrer\" target=\"_blank\" href=\"https://scikit-learn.org/1.7/modules/generated/sklearn.ensemble.RandomForestClassifier.html\">?<span>Documentation for RandomForestClassifier</span></a><span class=\"sk-estimator-doc-link fitted\">i<span>Fitted</span></span></div></label><div class=\"sk-toggleable__content fitted\" data-param-prefix=\"\">\n",
       "        <div class=\"estimator-table\">\n",
       "            <details>\n",
       "                <summary>Parameters</summary>\n",
       "                <table class=\"parameters-table\">\n",
       "                  <tbody>\n",
       "                    \n",
       "        <tr class=\"default\">\n",
       "            <td><i class=\"copy-paste-icon\"\n",
       "                 onclick=\"copyToClipboard('n_estimators',\n",
       "                          this.parentElement.nextElementSibling)\"\n",
       "            ></i></td>\n",
       "            <td class=\"param\">n_estimators&nbsp;</td>\n",
       "            <td class=\"value\">100</td>\n",
       "        </tr>\n",
       "    \n",
       "\n",
       "        <tr class=\"default\">\n",
       "            <td><i class=\"copy-paste-icon\"\n",
       "                 onclick=\"copyToClipboard('criterion',\n",
       "                          this.parentElement.nextElementSibling)\"\n",
       "            ></i></td>\n",
       "            <td class=\"param\">criterion&nbsp;</td>\n",
       "            <td class=\"value\">&#x27;gini&#x27;</td>\n",
       "        </tr>\n",
       "    \n",
       "\n",
       "        <tr class=\"default\">\n",
       "            <td><i class=\"copy-paste-icon\"\n",
       "                 onclick=\"copyToClipboard('max_depth',\n",
       "                          this.parentElement.nextElementSibling)\"\n",
       "            ></i></td>\n",
       "            <td class=\"param\">max_depth&nbsp;</td>\n",
       "            <td class=\"value\">None</td>\n",
       "        </tr>\n",
       "    \n",
       "\n",
       "        <tr class=\"default\">\n",
       "            <td><i class=\"copy-paste-icon\"\n",
       "                 onclick=\"copyToClipboard('min_samples_split',\n",
       "                          this.parentElement.nextElementSibling)\"\n",
       "            ></i></td>\n",
       "            <td class=\"param\">min_samples_split&nbsp;</td>\n",
       "            <td class=\"value\">2</td>\n",
       "        </tr>\n",
       "    \n",
       "\n",
       "        <tr class=\"default\">\n",
       "            <td><i class=\"copy-paste-icon\"\n",
       "                 onclick=\"copyToClipboard('min_samples_leaf',\n",
       "                          this.parentElement.nextElementSibling)\"\n",
       "            ></i></td>\n",
       "            <td class=\"param\">min_samples_leaf&nbsp;</td>\n",
       "            <td class=\"value\">1</td>\n",
       "        </tr>\n",
       "    \n",
       "\n",
       "        <tr class=\"default\">\n",
       "            <td><i class=\"copy-paste-icon\"\n",
       "                 onclick=\"copyToClipboard('min_weight_fraction_leaf',\n",
       "                          this.parentElement.nextElementSibling)\"\n",
       "            ></i></td>\n",
       "            <td class=\"param\">min_weight_fraction_leaf&nbsp;</td>\n",
       "            <td class=\"value\">0.0</td>\n",
       "        </tr>\n",
       "    \n",
       "\n",
       "        <tr class=\"default\">\n",
       "            <td><i class=\"copy-paste-icon\"\n",
       "                 onclick=\"copyToClipboard('max_features',\n",
       "                          this.parentElement.nextElementSibling)\"\n",
       "            ></i></td>\n",
       "            <td class=\"param\">max_features&nbsp;</td>\n",
       "            <td class=\"value\">&#x27;sqrt&#x27;</td>\n",
       "        </tr>\n",
       "    \n",
       "\n",
       "        <tr class=\"default\">\n",
       "            <td><i class=\"copy-paste-icon\"\n",
       "                 onclick=\"copyToClipboard('max_leaf_nodes',\n",
       "                          this.parentElement.nextElementSibling)\"\n",
       "            ></i></td>\n",
       "            <td class=\"param\">max_leaf_nodes&nbsp;</td>\n",
       "            <td class=\"value\">None</td>\n",
       "        </tr>\n",
       "    \n",
       "\n",
       "        <tr class=\"default\">\n",
       "            <td><i class=\"copy-paste-icon\"\n",
       "                 onclick=\"copyToClipboard('min_impurity_decrease',\n",
       "                          this.parentElement.nextElementSibling)\"\n",
       "            ></i></td>\n",
       "            <td class=\"param\">min_impurity_decrease&nbsp;</td>\n",
       "            <td class=\"value\">0.0</td>\n",
       "        </tr>\n",
       "    \n",
       "\n",
       "        <tr class=\"default\">\n",
       "            <td><i class=\"copy-paste-icon\"\n",
       "                 onclick=\"copyToClipboard('bootstrap',\n",
       "                          this.parentElement.nextElementSibling)\"\n",
       "            ></i></td>\n",
       "            <td class=\"param\">bootstrap&nbsp;</td>\n",
       "            <td class=\"value\">True</td>\n",
       "        </tr>\n",
       "    \n",
       "\n",
       "        <tr class=\"default\">\n",
       "            <td><i class=\"copy-paste-icon\"\n",
       "                 onclick=\"copyToClipboard('oob_score',\n",
       "                          this.parentElement.nextElementSibling)\"\n",
       "            ></i></td>\n",
       "            <td class=\"param\">oob_score&nbsp;</td>\n",
       "            <td class=\"value\">False</td>\n",
       "        </tr>\n",
       "    \n",
       "\n",
       "        <tr class=\"default\">\n",
       "            <td><i class=\"copy-paste-icon\"\n",
       "                 onclick=\"copyToClipboard('n_jobs',\n",
       "                          this.parentElement.nextElementSibling)\"\n",
       "            ></i></td>\n",
       "            <td class=\"param\">n_jobs&nbsp;</td>\n",
       "            <td class=\"value\">None</td>\n",
       "        </tr>\n",
       "    \n",
       "\n",
       "        <tr class=\"user-set\">\n",
       "            <td><i class=\"copy-paste-icon\"\n",
       "                 onclick=\"copyToClipboard('random_state',\n",
       "                          this.parentElement.nextElementSibling)\"\n",
       "            ></i></td>\n",
       "            <td class=\"param\">random_state&nbsp;</td>\n",
       "            <td class=\"value\">42</td>\n",
       "        </tr>\n",
       "    \n",
       "\n",
       "        <tr class=\"default\">\n",
       "            <td><i class=\"copy-paste-icon\"\n",
       "                 onclick=\"copyToClipboard('verbose',\n",
       "                          this.parentElement.nextElementSibling)\"\n",
       "            ></i></td>\n",
       "            <td class=\"param\">verbose&nbsp;</td>\n",
       "            <td class=\"value\">0</td>\n",
       "        </tr>\n",
       "    \n",
       "\n",
       "        <tr class=\"default\">\n",
       "            <td><i class=\"copy-paste-icon\"\n",
       "                 onclick=\"copyToClipboard('warm_start',\n",
       "                          this.parentElement.nextElementSibling)\"\n",
       "            ></i></td>\n",
       "            <td class=\"param\">warm_start&nbsp;</td>\n",
       "            <td class=\"value\">False</td>\n",
       "        </tr>\n",
       "    \n",
       "\n",
       "        <tr class=\"default\">\n",
       "            <td><i class=\"copy-paste-icon\"\n",
       "                 onclick=\"copyToClipboard('class_weight',\n",
       "                          this.parentElement.nextElementSibling)\"\n",
       "            ></i></td>\n",
       "            <td class=\"param\">class_weight&nbsp;</td>\n",
       "            <td class=\"value\">None</td>\n",
       "        </tr>\n",
       "    \n",
       "\n",
       "        <tr class=\"default\">\n",
       "            <td><i class=\"copy-paste-icon\"\n",
       "                 onclick=\"copyToClipboard('ccp_alpha',\n",
       "                          this.parentElement.nextElementSibling)\"\n",
       "            ></i></td>\n",
       "            <td class=\"param\">ccp_alpha&nbsp;</td>\n",
       "            <td class=\"value\">0.0</td>\n",
       "        </tr>\n",
       "    \n",
       "\n",
       "        <tr class=\"default\">\n",
       "            <td><i class=\"copy-paste-icon\"\n",
       "                 onclick=\"copyToClipboard('max_samples',\n",
       "                          this.parentElement.nextElementSibling)\"\n",
       "            ></i></td>\n",
       "            <td class=\"param\">max_samples&nbsp;</td>\n",
       "            <td class=\"value\">None</td>\n",
       "        </tr>\n",
       "    \n",
       "\n",
       "        <tr class=\"default\">\n",
       "            <td><i class=\"copy-paste-icon\"\n",
       "                 onclick=\"copyToClipboard('monotonic_cst',\n",
       "                          this.parentElement.nextElementSibling)\"\n",
       "            ></i></td>\n",
       "            <td class=\"param\">monotonic_cst&nbsp;</td>\n",
       "            <td class=\"value\">None</td>\n",
       "        </tr>\n",
       "    \n",
       "                  </tbody>\n",
       "                </table>\n",
       "            </details>\n",
       "        </div>\n",
       "    </div></div></div></div></div><script>function copyToClipboard(text, element) {\n",
       "    // Get the parameter prefix from the closest toggleable content\n",
       "    const toggleableContent = element.closest('.sk-toggleable__content');\n",
       "    const paramPrefix = toggleableContent ? toggleableContent.dataset.paramPrefix : '';\n",
       "    const fullParamName = paramPrefix ? `${paramPrefix}${text}` : text;\n",
       "\n",
       "    const originalStyle = element.style;\n",
       "    const computedStyle = window.getComputedStyle(element);\n",
       "    const originalWidth = computedStyle.width;\n",
       "    const originalHTML = element.innerHTML.replace('Copied!', '');\n",
       "\n",
       "    navigator.clipboard.writeText(fullParamName)\n",
       "        .then(() => {\n",
       "            element.style.width = originalWidth;\n",
       "            element.style.color = 'green';\n",
       "            element.innerHTML = \"Copied!\";\n",
       "\n",
       "            setTimeout(() => {\n",
       "                element.innerHTML = originalHTML;\n",
       "                element.style = originalStyle;\n",
       "            }, 2000);\n",
       "        })\n",
       "        .catch(err => {\n",
       "            console.error('Failed to copy:', err);\n",
       "            element.style.color = 'red';\n",
       "            element.innerHTML = \"Failed!\";\n",
       "            setTimeout(() => {\n",
       "                element.innerHTML = originalHTML;\n",
       "                element.style = originalStyle;\n",
       "            }, 2000);\n",
       "        });\n",
       "    return false;\n",
       "}\n",
       "\n",
       "document.querySelectorAll('.fa-regular.fa-copy').forEach(function(element) {\n",
       "    const toggleableContent = element.closest('.sk-toggleable__content');\n",
       "    const paramPrefix = toggleableContent ? toggleableContent.dataset.paramPrefix : '';\n",
       "    const paramName = element.parentElement.nextElementSibling.textContent.trim();\n",
       "    const fullParamName = paramPrefix ? `${paramPrefix}${paramName}` : paramName;\n",
       "\n",
       "    element.setAttribute('title', fullParamName);\n",
       "});\n",
       "</script></body>"
      ],
      "text/plain": [
       "RandomForestClassifier(random_state=42)"
      ]
     },
     "execution_count": 19,
     "metadata": {},
     "output_type": "execute_result"
    }
   ],
   "source": [
    "# pradict missing participation based on attendance \n",
    "from sklearn.ensemble import  RandomForestClassifier\n",
    "X_train = participation[[\"Attendance (%)\"]]\n",
    "y_train = participation[\"Participation\"]\n",
    "clf= RandomForestClassifier(random_state=42)\n",
    "clf.fit(X_train, y_train)"
   ]
  },
  {
   "cell_type": "code",
   "execution_count": 20,
   "id": "49909777",
   "metadata": {},
   "outputs": [],
   "source": [
    "X_missing = missing_participation[['Attendance (%)']]"
   ]
  },
  {
   "cell_type": "code",
   "execution_count": 21,
   "id": "b0090059",
   "metadata": {},
   "outputs": [],
   "source": [
    "y_pred = clf.predict(X_missing)"
   ]
  },
  {
   "cell_type": "code",
   "execution_count": 22,
   "id": "83c29a08",
   "metadata": {},
   "outputs": [],
   "source": [
    "students_data.loc[students_data['Participation'].isnull(),'Participation'] =y_pred"
   ]
  },
  {
   "cell_type": "code",
   "execution_count": 23,
   "id": "6dfe0db6",
   "metadata": {},
   "outputs": [
    {
     "data": {
      "application/vnd.microsoft.datawrangler.viewer.v0+json": {
       "columns": [
        {
         "name": "Participation",
         "rawType": "object",
         "type": "string"
        },
        {
         "name": "count",
         "rawType": "int64",
         "type": "integer"
        }
       ],
       "ref": "8c0ce274-7793-4bd5-86a7-d700360762f4",
       "rows": [
        [
         "high",
         "364"
        ],
        [
         "medium",
         "333"
        ],
        [
         "low",
         "305"
        ]
       ],
       "shape": {
        "columns": 1,
        "rows": 3
       }
      },
      "text/plain": [
       "Participation\n",
       "high      364\n",
       "medium    333\n",
       "low       305\n",
       "Name: count, dtype: int64"
      ]
     },
     "execution_count": 23,
     "metadata": {},
     "output_type": "execute_result"
    }
   ],
   "source": [
    "reverse_map = {0: 'low', 1: 'medium', 2: 'high'}\n",
    "students_data['Participation'] = students_data['Participation'].map(reverse_map)\n",
    "\n",
    "# ✅ Now your Participation column is complete!\n",
    "students_data['Participation'].value_counts()\n"
   ]
  },
  {
   "cell_type": "code",
   "execution_count": 24,
   "id": "131a6432",
   "metadata": {},
   "outputs": [
    {
     "data": {
      "application/vnd.microsoft.datawrangler.viewer.v0+json": {
       "columns": [
        {
         "name": "index",
         "rawType": "int64",
         "type": "integer"
        },
        {
         "name": "Participation",
         "rawType": "object",
         "type": "string"
        }
       ],
       "ref": "459b3099-2318-4e4c-9848-48ef34ff3cce",
       "rows": [
        [
         "0",
         "medium"
        ],
        [
         "1",
         "low"
        ],
        [
         "2",
         "medium"
        ],
        [
         "3",
         "high"
        ],
        [
         "4",
         "medium"
        ],
        [
         "5",
         "low"
        ],
        [
         "6",
         "medium"
        ],
        [
         "7",
         "high"
        ],
        [
         "8",
         "medium"
        ],
        [
         "9",
         "medium"
        ],
        [
         "10",
         "medium"
        ],
        [
         "11",
         "low"
        ],
        [
         "12",
         "medium"
        ],
        [
         "13",
         "medium"
        ],
        [
         "14",
         "low"
        ],
        [
         "15",
         "high"
        ],
        [
         "16",
         "high"
        ],
        [
         "17",
         "high"
        ],
        [
         "18",
         "low"
        ],
        [
         "19",
         "high"
        ],
        [
         "20",
         "medium"
        ],
        [
         "21",
         "medium"
        ],
        [
         "22",
         "low"
        ],
        [
         "23",
         "medium"
        ],
        [
         "24",
         "high"
        ],
        [
         "25",
         "low"
        ],
        [
         "26",
         "high"
        ],
        [
         "27",
         "high"
        ],
        [
         "28",
         "high"
        ],
        [
         "29",
         "low"
        ],
        [
         "30",
         "medium"
        ],
        [
         "31",
         "medium"
        ],
        [
         "32",
         "high"
        ],
        [
         "33",
         "low"
        ],
        [
         "34",
         "low"
        ],
        [
         "35",
         "medium"
        ],
        [
         "36",
         "medium"
        ],
        [
         "37",
         "low"
        ],
        [
         "38",
         "high"
        ],
        [
         "39",
         "medium"
        ],
        [
         "40",
         "high"
        ],
        [
         "41",
         "low"
        ],
        [
         "42",
         "high"
        ],
        [
         "43",
         "medium"
        ],
        [
         "44",
         "low"
        ],
        [
         "45",
         "medium"
        ],
        [
         "46",
         "low"
        ],
        [
         "47",
         "high"
        ],
        [
         "48",
         "low"
        ],
        [
         "49",
         "medium"
        ]
       ],
       "shape": {
        "columns": 1,
        "rows": 1002
       }
      },
      "text/plain": [
       "0       medium\n",
       "1          low\n",
       "2       medium\n",
       "3         high\n",
       "4       medium\n",
       "         ...  \n",
       "997        low\n",
       "998       high\n",
       "999       high\n",
       "1000    medium\n",
       "1001    medium\n",
       "Name: Participation, Length: 1002, dtype: object"
      ]
     },
     "execution_count": 24,
     "metadata": {},
     "output_type": "execute_result"
    }
   ],
   "source": [
    "students_data[\"Participation\"]"
   ]
  },
  {
   "cell_type": "code",
   "execution_count": 25,
   "id": "fd42be3f",
   "metadata": {},
   "outputs": [
    {
     "data": {
      "application/vnd.microsoft.datawrangler.viewer.v0+json": {
       "columns": [
        {
         "name": "index",
         "rawType": "int64",
         "type": "integer"
        },
        {
         "name": "Student ID",
         "rawType": "float64",
         "type": "float"
        },
        {
         "name": "Name",
         "rawType": "object",
         "type": "unknown"
        },
        {
         "name": "Class",
         "rawType": "float64",
         "type": "float"
        },
        {
         "name": "Subject",
         "rawType": "object",
         "type": "unknown"
        },
        {
         "name": "Exam Category",
         "rawType": "object",
         "type": "unknown"
        },
        {
         "name": "Exam Date",
         "rawType": "object",
         "type": "unknown"
        },
        {
         "name": "Score",
         "rawType": "object",
         "type": "unknown"
        },
        {
         "name": "Attendance (%)",
         "rawType": "int64",
         "type": "integer"
        },
        {
         "name": "Participation",
         "rawType": "object",
         "type": "string"
        },
        {
         "name": "Behavior Score",
         "rawType": "object",
         "type": "unknown"
        },
        {
         "name": "Final Grade",
         "rawType": "object",
         "type": "unknown"
        }
       ],
       "ref": "7c8d34ee-06cc-40ed-8446-01a6511dca4b",
       "rows": [
        [
         "0",
         "202.0",
         "Mehedi Hasan",
         "10.0",
         "Biology",
         "Class Test",
         "2025-01-01",
         "53",
         "93",
         "medium",
         "10",
         "A"
        ],
        [
         "1",
         "535.0",
         "Nusrat Hossain",
         "10.0",
         "Computer",
         "Final Exam",
         "2025-01-02",
         "48",
         "60",
         "low",
         "7",
         "C"
        ],
        [
         "2",
         "960.0",
         "Tanvir Alam",
         "10.0",
         "Physics",
         "Final Exam",
         "2025-01-03",
         "66",
         "64",
         "medium",
         "8",
         "F"
        ],
        [
         "3",
         "370.0",
         "Tanvir Alam",
         "10.0",
         "Physics",
         "Mid Exam",
         "2025-01-04",
         "37",
         "65",
         "high",
         "10",
         "F"
        ],
        [
         "4",
         "206.0",
         "Nusrat Hossain",
         "10.0",
         "Bangla",
         "Final Exam",
         "2025-01-05",
         "57",
         "60",
         "medium",
         "9",
         "D"
        ],
        [
         "5",
         "171.0",
         "Ayesha Rahman",
         "10.0",
         "Computer",
         "Mid Exam",
         "2025-01-06",
         "34",
         "60",
         "low",
         "9",
         null
        ],
        [
         "6",
         "800.0",
         "Sakib Khan",
         "10.0",
         "English",
         "Class Test",
         "2025-01-07",
         "46",
         "51",
         "medium",
         "5",
         "C"
        ],
        [
         "7",
         "120.0",
         "Tania Jahan",
         "10.0",
         "Computer",
         "Final Exam",
         "2025-01-08",
         "65",
         "99",
         "high",
         "8",
         "C"
        ],
        [
         "8",
         "714.0",
         "Mehedi Hasan",
         "10.0",
         "English",
         "Class Test",
         "2025-01-09",
         "48",
         "61",
         "medium",
         "8",
         "A+"
        ],
        [
         "9",
         "221.0",
         "Tania Jahan",
         "10.0",
         "Computer",
         "Final Exam",
         "2025-01-10",
         "93",
         "100",
         "medium",
         "6",
         "F"
        ],
        [
         "10",
         "566.0",
         "Nusrat Hossain",
         "10.0",
         "UnkownSubject",
         "Class Test",
         "2025-01-11",
         "40",
         "75",
         "medium",
         "6",
         "A+"
        ],
        [
         "11",
         "314.0",
         "Sakib Khan",
         "10.0",
         "Math",
         "Final Exam",
         "2025-01-12",
         "83",
         "72",
         "low",
         "10",
         "A+"
        ],
        [
         "12",
         "430.0",
         "Mehedi Hasan",
         "10.0",
         "Physics",
         "Class Test",
         "2025-01-13",
         "74",
         "67",
         "medium",
         "10",
         "C"
        ],
        [
         "13",
         "558.0",
         "Nusrat Hossain",
         "10.0",
         "Computer",
         "Class Test",
         "2025-01-14",
         "76",
         "81",
         "medium",
         "6",
         null
        ],
        [
         "14",
         "187.0",
         "Ayesha Rahman",
         "10.0",
         "Bangla",
         "Final Exam",
         "2025-01-15",
         "41",
         "98",
         "low",
         "10",
         "B+"
        ],
        [
         "15",
         "472.0",
         "Tanvir Alam",
         "10.0",
         "Computer",
         "Class Test",
         "32-13-2025",
         "50",
         "87",
         "high",
         "7",
         null
        ],
        [
         "16",
         "199.0",
         "Tania Jahan",
         "10.0",
         "Biology",
         "Class Test",
         "2025-01-17",
         "40",
         "96",
         "high",
         "6",
         "F"
        ],
        [
         "17",
         "971.0",
         "Mim Akter",
         "10.0",
         "Physics",
         "Class Test",
         "2025-01-18",
         "34",
         "52",
         "high",
         "8",
         "D"
        ],
        [
         "18",
         "763.0",
         "Mim Akter",
         "10.0",
         "Biology",
         "Final Exam",
         "2025-01-19",
         "85",
         "87",
         "low",
         "7",
         "F"
        ],
        [
         "19",
         "230.0",
         "Sakib Khan",
         "10.0",
         "Physics",
         "Final Exam",
         "2025-01-20",
         "49",
         "52",
         "high",
         "10",
         "A"
        ],
        [
         "20",
         "761.0",
         "Ayesha Rahman",
         "10.0",
         "Biology",
         "Class Test",
         "2025-01-21",
         "70",
         "79",
         "medium",
         "9",
         "Excelent"
        ],
        [
         "21",
         "408.0",
         "Tania Jahan",
         "10.0",
         "Computer",
         "Class Test",
         "2025-01-22",
         "75",
         "50",
         "medium",
         "5",
         "B+"
        ],
        [
         "22",
         "869.0",
         "Ayesha Rahman",
         "10.0",
         "Computer",
         "Final Exam",
         "2025-01-23",
         "41",
         "79",
         "low",
         "6",
         "B"
        ],
        [
         "23",
         "443.0",
         "Tania Jahan",
         "10.0",
         "Math",
         "Final Exam",
         "2025-01-24",
         "99",
         "94",
         "medium",
         "9",
         "A+"
        ],
        [
         "24",
         "591.0",
         "Sakib Khan",
         "10.0",
         "Bangla",
         "Class Test",
         "2025-01-25",
         "46",
         "81",
         "high",
         "10",
         "A+"
        ],
        [
         "25",
         "513.0",
         "Sakib Khan",
         "10.0",
         "Biology",
         "Class Test",
         "2025-01-26",
         "Eighty",
         "77",
         "low",
         "8",
         "B+"
        ],
        [
         "26",
         "905.0",
         "Mim Akter",
         "10.0",
         "English",
         "Class Test",
         "2025-01-27",
         "55",
         "70",
         "high",
         "5",
         "F"
        ],
        [
         "27",
         "485.0",
         "Ayesha Rahman",
         "10.0",
         "Math",
         "Mid Exam",
         "2025-01-28",
         "77",
         "95",
         "high",
         "9",
         "A"
        ],
        [
         "28",
         "291.0",
         "Mehedi Hasan",
         "10.0",
         "Biology",
         "Final Exam",
         "2025-01-29",
         "81",
         "60",
         "high",
         "5",
         "F"
        ],
        [
         "29",
         "376.0",
         "Mim Akter",
         "10.0",
         "Biology",
         "Mid Exam",
         "2025-01-30",
         "99",
         "76",
         "low",
         "6",
         "D"
        ],
        [
         "30",
         "260.0",
         "Ayesha Rahman",
         "10.0",
         "Math",
         "Final Exam",
         "2025-01-31",
         "84",
         "85",
         "medium",
         "Nine",
         "B"
        ],
        [
         "31",
         "559.0",
         "Mim Akter",
         "10.0",
         "Computer",
         "Final Exam",
         "2025-02-01",
         "62",
         "56",
         "medium",
         "8",
         "B+"
        ],
        [
         "32",
         "413.0",
         "Mehedi Hasan",
         "10.0",
         "Biology",
         "Final Exam",
         "2025-02-02",
         "91",
         "71",
         "high",
         "10",
         "A+"
        ],
        [
         "33",
         "121.0",
         "Tanvir Alam",
         "10.0",
         "Computer",
         "Final Exam",
         "2025-02-03",
         "52",
         "59",
         "low",
         "5",
         null
        ],
        [
         "34",
         "352.0",
         "Tanvir Alam",
         "10.0",
         "Math",
         "Final Exam",
         "2025-02-04",
         "44",
         "88",
         "low",
         "9",
         "F"
        ],
        [
         "35",
         "847.0",
         "Tanvir Alam",
         "10.0",
         "Computer",
         "Final Exam",
         "2025-02-05",
         "56",
         "60",
         "medium",
         "6",
         null
        ],
        [
         "36",
         "956.0",
         "Tanvir Alam",
         "10.0",
         "Physics",
         "Final Exam",
         "2025-02-06",
         "93",
         "64",
         "medium",
         "6",
         "C"
        ],
        [
         "37",
         "660.0",
         "Nusrat Hossain",
         "10.0",
         "English",
         "Mid Exam",
         "2025-02-07",
         "80",
         "53",
         "low",
         "10",
         "D"
        ],
        [
         "38",
         "574.0",
         "Tania Jahan",
         "10.0",
         "Biology",
         "Class Test",
         "2025-02-08",
         "82",
         "81",
         "high",
         "9",
         "B+"
        ],
        [
         "39",
         "158.0",
         "Nusrat Hossain",
         "10.0",
         "Bangla",
         "Class Test",
         "2025-02-09",
         "80",
         "60",
         "medium",
         "9",
         "F"
        ],
        [
         "40",
         "610.0",
         "Nusrat Hossain",
         "10.0",
         "English",
         "Mid Exam",
         "2025-02-10",
         "76",
         "55",
         "high",
         "5",
         "A+"
        ],
        [
         "41",
         "781.0",
         "Nusrat Hossain",
         "10.0",
         "Computer",
         "Mid Exam",
         "2025-02-11",
         "33",
         "73",
         "low",
         "10",
         "F"
        ],
        [
         "42",
         "575.0",
         "Tanvir Alam",
         "10.0",
         "Biology",
         "Mid Exam",
         "2025-02-12",
         "36",
         "69",
         "high",
         "10",
         "B"
        ],
        [
         "43",
         "799.0",
         "Mehedi Hasan",
         "10.0",
         "Computer",
         "Mid Exam",
         "2025-02-13",
         "64",
         "86",
         "medium",
         "7",
         "C"
        ],
        [
         "44",
         "882.0",
         "Sakib Khan",
         "10.0",
         "Physics",
         "Final Exam",
         "2025-02-14",
         "77",
         "60",
         "low",
         "10",
         "B"
        ],
        [
         "45",
         "289.0",
         "Sakib Khan",
         "10.0",
         "Math",
         "Class Test",
         "2025-02-15",
         "74",
         "61",
         "medium",
         "6",
         "D"
        ],
        [
         "46",
         "786.0",
         "Tania Jahan",
         "10.0",
         "Biology",
         "Final Exam",
         "2025-02-16",
         "48",
         "82",
         "low",
         "5",
         "A+"
        ],
        [
         "47",
         "662.0",
         "Tanvir Alam",
         "10.0",
         "Physics",
         "Class Test",
         "2025-02-17",
         "92",
         "77",
         "high",
         "9",
         "C"
        ],
        [
         "48",
         "975.0",
         "Tanvir Alam",
         "10.0",
         "Physics",
         "Class Test",
         "2025-02-18",
         "67",
         "57",
         "low",
         "10",
         "D"
        ],
        [
         "49",
         "666.0",
         "Tanvir Alam",
         "10.0",
         "Biology",
         "Mid Exam",
         "2025-02-19",
         "96",
         "60",
         "medium",
         "5",
         null
        ]
       ],
       "shape": {
        "columns": 11,
        "rows": 1002
       }
      },
      "text/html": [
       "<div>\n",
       "<style scoped>\n",
       "    .dataframe tbody tr th:only-of-type {\n",
       "        vertical-align: middle;\n",
       "    }\n",
       "\n",
       "    .dataframe tbody tr th {\n",
       "        vertical-align: top;\n",
       "    }\n",
       "\n",
       "    .dataframe thead th {\n",
       "        text-align: right;\n",
       "    }\n",
       "</style>\n",
       "<table border=\"1\" class=\"dataframe\">\n",
       "  <thead>\n",
       "    <tr style=\"text-align: right;\">\n",
       "      <th></th>\n",
       "      <th>Student ID</th>\n",
       "      <th>Name</th>\n",
       "      <th>Class</th>\n",
       "      <th>Subject</th>\n",
       "      <th>Exam Category</th>\n",
       "      <th>Exam Date</th>\n",
       "      <th>Score</th>\n",
       "      <th>Attendance (%)</th>\n",
       "      <th>Participation</th>\n",
       "      <th>Behavior Score</th>\n",
       "      <th>Final Grade</th>\n",
       "    </tr>\n",
       "  </thead>\n",
       "  <tbody>\n",
       "    <tr>\n",
       "      <th>0</th>\n",
       "      <td>202.0</td>\n",
       "      <td>Mehedi Hasan</td>\n",
       "      <td>10.0</td>\n",
       "      <td>Biology</td>\n",
       "      <td>Class Test</td>\n",
       "      <td>2025-01-01</td>\n",
       "      <td>53</td>\n",
       "      <td>93</td>\n",
       "      <td>medium</td>\n",
       "      <td>10</td>\n",
       "      <td>A</td>\n",
       "    </tr>\n",
       "    <tr>\n",
       "      <th>1</th>\n",
       "      <td>535.0</td>\n",
       "      <td>Nusrat Hossain</td>\n",
       "      <td>10.0</td>\n",
       "      <td>Computer</td>\n",
       "      <td>Final Exam</td>\n",
       "      <td>2025-01-02</td>\n",
       "      <td>48</td>\n",
       "      <td>60</td>\n",
       "      <td>low</td>\n",
       "      <td>7</td>\n",
       "      <td>C</td>\n",
       "    </tr>\n",
       "    <tr>\n",
       "      <th>2</th>\n",
       "      <td>960.0</td>\n",
       "      <td>Tanvir Alam</td>\n",
       "      <td>10.0</td>\n",
       "      <td>Physics</td>\n",
       "      <td>Final Exam</td>\n",
       "      <td>2025-01-03</td>\n",
       "      <td>66</td>\n",
       "      <td>64</td>\n",
       "      <td>medium</td>\n",
       "      <td>8</td>\n",
       "      <td>F</td>\n",
       "    </tr>\n",
       "    <tr>\n",
       "      <th>3</th>\n",
       "      <td>370.0</td>\n",
       "      <td>Tanvir Alam</td>\n",
       "      <td>10.0</td>\n",
       "      <td>Physics</td>\n",
       "      <td>Mid Exam</td>\n",
       "      <td>2025-01-04</td>\n",
       "      <td>37</td>\n",
       "      <td>65</td>\n",
       "      <td>high</td>\n",
       "      <td>10</td>\n",
       "      <td>F</td>\n",
       "    </tr>\n",
       "    <tr>\n",
       "      <th>4</th>\n",
       "      <td>206.0</td>\n",
       "      <td>Nusrat Hossain</td>\n",
       "      <td>10.0</td>\n",
       "      <td>Bangla</td>\n",
       "      <td>Final Exam</td>\n",
       "      <td>2025-01-05</td>\n",
       "      <td>57</td>\n",
       "      <td>60</td>\n",
       "      <td>medium</td>\n",
       "      <td>9</td>\n",
       "      <td>D</td>\n",
       "    </tr>\n",
       "    <tr>\n",
       "      <th>...</th>\n",
       "      <td>...</td>\n",
       "      <td>...</td>\n",
       "      <td>...</td>\n",
       "      <td>...</td>\n",
       "      <td>...</td>\n",
       "      <td>...</td>\n",
       "      <td>...</td>\n",
       "      <td>...</td>\n",
       "      <td>...</td>\n",
       "      <td>...</td>\n",
       "      <td>...</td>\n",
       "    </tr>\n",
       "    <tr>\n",
       "      <th>997</th>\n",
       "      <td>405.0</td>\n",
       "      <td>Sakib Khan</td>\n",
       "      <td>10.0</td>\n",
       "      <td>Physics</td>\n",
       "      <td>Final Exam</td>\n",
       "      <td>2027-09-25</td>\n",
       "      <td>88</td>\n",
       "      <td>68</td>\n",
       "      <td>low</td>\n",
       "      <td>8</td>\n",
       "      <td>B</td>\n",
       "    </tr>\n",
       "    <tr>\n",
       "      <th>998</th>\n",
       "      <td>197.0</td>\n",
       "      <td>Nusrat Hossain</td>\n",
       "      <td>10.0</td>\n",
       "      <td>Physics</td>\n",
       "      <td>Class Test</td>\n",
       "      <td>2027-09-26</td>\n",
       "      <td>31</td>\n",
       "      <td>62</td>\n",
       "      <td>high</td>\n",
       "      <td>8</td>\n",
       "      <td>A</td>\n",
       "    </tr>\n",
       "    <tr>\n",
       "      <th>999</th>\n",
       "      <td>949.0</td>\n",
       "      <td>Mehedi Hasan</td>\n",
       "      <td>10.0</td>\n",
       "      <td>Physics</td>\n",
       "      <td>Class Test</td>\n",
       "      <td>2027-09-27</td>\n",
       "      <td>39</td>\n",
       "      <td>91</td>\n",
       "      <td>high</td>\n",
       "      <td>9</td>\n",
       "      <td>A+</td>\n",
       "    </tr>\n",
       "    <tr>\n",
       "      <th>1000</th>\n",
       "      <td>202.0</td>\n",
       "      <td>Mehedi Hasan</td>\n",
       "      <td>10.0</td>\n",
       "      <td>Biology</td>\n",
       "      <td>Class Test</td>\n",
       "      <td>2025-01-01</td>\n",
       "      <td>53</td>\n",
       "      <td>93</td>\n",
       "      <td>medium</td>\n",
       "      <td>10</td>\n",
       "      <td>A</td>\n",
       "    </tr>\n",
       "    <tr>\n",
       "      <th>1001</th>\n",
       "      <td>NaN</td>\n",
       "      <td>NaN</td>\n",
       "      <td>NaN</td>\n",
       "      <td>NaN</td>\n",
       "      <td>NaN</td>\n",
       "      <td>NaN</td>\n",
       "      <td>NaN</td>\n",
       "      <td>60</td>\n",
       "      <td>medium</td>\n",
       "      <td>NaN</td>\n",
       "      <td>NaN</td>\n",
       "    </tr>\n",
       "  </tbody>\n",
       "</table>\n",
       "<p>1002 rows × 11 columns</p>\n",
       "</div>"
      ],
      "text/plain": [
       "      Student ID            Name  Class   Subject Exam Category   Exam Date  \\\n",
       "0          202.0    Mehedi Hasan   10.0   Biology    Class Test  2025-01-01   \n",
       "1          535.0  Nusrat Hossain   10.0  Computer    Final Exam  2025-01-02   \n",
       "2          960.0     Tanvir Alam   10.0   Physics    Final Exam  2025-01-03   \n",
       "3          370.0     Tanvir Alam   10.0   Physics      Mid Exam  2025-01-04   \n",
       "4          206.0  Nusrat Hossain   10.0    Bangla    Final Exam  2025-01-05   \n",
       "...          ...             ...    ...       ...           ...         ...   \n",
       "997        405.0      Sakib Khan   10.0   Physics    Final Exam  2027-09-25   \n",
       "998        197.0  Nusrat Hossain   10.0   Physics    Class Test  2027-09-26   \n",
       "999        949.0    Mehedi Hasan   10.0   Physics    Class Test  2027-09-27   \n",
       "1000       202.0    Mehedi Hasan   10.0   Biology    Class Test  2025-01-01   \n",
       "1001         NaN             NaN    NaN       NaN           NaN         NaN   \n",
       "\n",
       "     Score  Attendance (%) Participation Behavior Score Final Grade  \n",
       "0       53              93        medium             10           A  \n",
       "1       48              60           low              7           C  \n",
       "2       66              64        medium              8           F  \n",
       "3       37              65          high             10           F  \n",
       "4       57              60        medium              9           D  \n",
       "...    ...             ...           ...            ...         ...  \n",
       "997     88              68           low              8           B  \n",
       "998     31              62          high              8           A  \n",
       "999     39              91          high              9          A+  \n",
       "1000    53              93        medium             10           A  \n",
       "1001   NaN              60        medium            NaN         NaN  \n",
       "\n",
       "[1002 rows x 11 columns]"
      ]
     },
     "execution_count": 25,
     "metadata": {},
     "output_type": "execute_result"
    }
   ],
   "source": [
    "students_data"
   ]
  },
  {
   "cell_type": "code",
   "execution_count": 63,
   "id": "85e09be9",
   "metadata": {},
   "outputs": [
    {
     "data": {
      "application/vnd.microsoft.datawrangler.viewer.v0+json": {
       "columns": [
        {
         "name": "index",
         "rawType": "int64",
         "type": "integer"
        },
        {
         "name": "Final Grade",
         "rawType": "float64",
         "type": "float"
        }
       ],
       "ref": "cedd75e0-c341-42eb-b304-a1039c1c1163",
       "rows": [
        [
         "0",
         "90.0"
        ],
        [
         "1",
         "68.0"
        ],
        [
         "2",
         "50.0"
        ],
        [
         "3",
         "50.0"
        ],
        [
         "4",
         "58.0"
        ],
        [
         "5",
         "73.18442314005407"
        ],
        [
         "6",
         "68.0"
        ],
        [
         "7",
         "68.0"
        ],
        [
         "8",
         "95.0"
        ],
        [
         "9",
         "50.0"
        ],
        [
         "10",
         "95.0"
        ],
        [
         "11",
         "95.0"
        ],
        [
         "12",
         "68.0"
        ],
        [
         "13",
         "68.82052102670292"
        ],
        [
         "14",
         "82.0"
        ],
        [
         "15",
         "77.97505416805417"
        ],
        [
         "16",
         "50.0"
        ],
        [
         "17",
         "58.0"
        ],
        [
         "18",
         "50.0"
        ],
        [
         "19",
         "90.0"
        ],
        [
         "20",
         "95.0"
        ],
        [
         "21",
         "82.0"
        ],
        [
         "22",
         "78.0"
        ],
        [
         "23",
         "95.0"
        ],
        [
         "24",
         "95.0"
        ],
        [
         "25",
         "82.0"
        ],
        [
         "26",
         "50.0"
        ],
        [
         "27",
         "90.0"
        ],
        [
         "28",
         "50.0"
        ],
        [
         "29",
         "58.0"
        ],
        [
         "30",
         "78.0"
        ],
        [
         "31",
         "82.0"
        ],
        [
         "32",
         "95.0"
        ],
        [
         "33",
         "83.29256671106673"
        ],
        [
         "34",
         "50.0"
        ],
        [
         "35",
         "75.32494819268568"
        ],
        [
         "36",
         "68.0"
        ],
        [
         "37",
         "58.0"
        ],
        [
         "38",
         "82.0"
        ],
        [
         "39",
         "50.0"
        ],
        [
         "40",
         "95.0"
        ],
        [
         "41",
         "50.0"
        ],
        [
         "42",
         "78.0"
        ],
        [
         "43",
         "68.0"
        ],
        [
         "44",
         "78.0"
        ],
        [
         "45",
         "58.0"
        ],
        [
         "46",
         "95.0"
        ],
        [
         "47",
         "68.0"
        ],
        [
         "48",
         "58.0"
        ],
        [
         "49",
         "75.32494819268568"
        ]
       ],
       "shape": {
        "columns": 1,
        "rows": 1002
       }
      },
      "text/plain": [
       "0       90.000000\n",
       "1       68.000000\n",
       "2       50.000000\n",
       "3       50.000000\n",
       "4       58.000000\n",
       "          ...    \n",
       "997     78.000000\n",
       "998     90.000000\n",
       "999     95.000000\n",
       "1000    90.000000\n",
       "1001    75.324948\n",
       "Name: Final Grade, Length: 1002, dtype: float64"
      ]
     },
     "execution_count": 63,
     "metadata": {},
     "output_type": "execute_result"
    }
   ],
   "source": [
    "students_data[\"Final Grade\"]"
   ]
  },
  {
   "cell_type": "code",
   "execution_count": 64,
   "id": "c40366cb",
   "metadata": {},
   "outputs": [
    {
     "name": "stdout",
     "output_type": "stream",
     "text": [
      "Final Grade\n",
      "90.000000    154\n",
      "68.000000    133\n",
      "50.000000    129\n",
      "95.000000    128\n",
      "78.000000    122\n",
      "            ... \n",
      "81.506905      1\n",
      "73.782286      1\n",
      "57.923952      1\n",
      "72.176183      1\n",
      "77.225825      1\n",
      "Name: count, Length: 69, dtype: int64\n",
      "float64\n",
      "0\n"
     ]
    }
   ],
   "source": [
    "# Check the Final Grade column\n",
    "print(students_data[\"Final Grade\"].value_counts())\n",
    "print(students_data[\"Final Grade\"].dtype)\n",
    "print(students_data[\"Final Grade\"].isnull().sum())"
   ]
  },
  {
   "cell_type": "code",
   "execution_count": 93,
   "id": "75e7bfb7",
   "metadata": {},
   "outputs": [
    {
     "data": {
      "application/vnd.microsoft.datawrangler.viewer.v0+json": {
       "columns": [
        {
         "name": "Final Grade",
         "rawType": "float64",
         "type": "float"
        },
        {
         "name": "count",
         "rawType": "int64",
         "type": "integer"
        }
       ],
       "ref": "206d85ec-9c4d-49cf-a818-8c4082472e18",
       "rows": [
        [
         "90.0",
         "154"
        ],
        [
         "68.0",
         "133"
        ],
        [
         "50.0",
         "129"
        ],
        [
         "95.0",
         "128"
        ],
        [
         "78.0",
         "122"
        ],
        [
         "82.0",
         "119"
        ],
        [
         "58.0",
         "116"
        ],
        [
         "75.32494819268568",
         "9"
        ],
        [
         "73.18442314005407",
         "6"
        ],
        [
         "70.89802876691456",
         "4"
        ],
        [
         "77.46935714285715",
         "3"
        ],
        [
         "77.97505416805417",
         "3"
        ],
        [
         "78.62796522921522",
         "2"
        ],
        [
         "75.72320883446616",
         "2"
        ],
        [
         "80.76582370407368",
         "2"
        ],
        [
         "82.10489874014874",
         "2"
        ],
        [
         "79.72155699855698",
         "2"
        ],
        [
         "67.7148376068376",
         "2"
        ],
        [
         "67.89383333333335",
         "2"
        ],
        [
         "69.15901010101011",
         "2"
        ],
        [
         "72.88523701298698",
         "2"
        ],
        [
         "77.51965622775917",
         "2"
        ],
        [
         "73.0074761904762",
         "2"
        ],
        [
         "83.29256671106673",
         "2"
        ],
        [
         "68.82052102670292",
         "2"
        ],
        [
         "84.22359006271506",
         "2"
        ],
        [
         "74.6124523809524",
         "2"
        ],
        [
         "70.92478968253968",
         "2"
        ],
        [
         "84.34961005661006",
         "2"
        ],
        [
         "59.9635836940837",
         "2"
        ],
        [
         "84.41950000000001",
         "2"
        ],
        [
         "79.19442711807456",
         "1"
        ],
        [
         "75.08159655785389",
         "1"
        ],
        [
         "73.31653174603176",
         "1"
        ],
        [
         "80.78672281803163",
         "1"
        ],
        [
         "71.55375468975465",
         "1"
        ],
        [
         "74.39958531746032",
         "1"
        ],
        [
         "53.35309668109669",
         "1"
        ],
        [
         "90.75073412698411",
         "1"
        ],
        [
         "72.20083982683984",
         "1"
        ],
        [
         "66.66427308802311",
         "1"
        ],
        [
         "71.3746746031746",
         "1"
        ],
        [
         "82.10572435897434",
         "1"
        ],
        [
         "76.4895119047619",
         "1"
        ],
        [
         "81.04087301587302",
         "1"
        ],
        [
         "60.13951298701297",
         "1"
        ],
        [
         "64.50881024531024",
         "1"
        ],
        [
         "79.28011038961039",
         "1"
        ],
        [
         "76.55340380452881",
         "1"
        ],
        [
         "69.85284798534799",
         "1"
        ]
       ],
       "shape": {
        "columns": 1,
        "rows": 69
       }
      },
      "text/plain": [
       "Final Grade\n",
       "90.000000    154\n",
       "68.000000    133\n",
       "50.000000    129\n",
       "95.000000    128\n",
       "78.000000    122\n",
       "            ... \n",
       "81.506905      1\n",
       "73.782286      1\n",
       "57.923952      1\n",
       "72.176183      1\n",
       "77.225825      1\n",
       "Name: count, Length: 69, dtype: int64"
      ]
     },
     "execution_count": 93,
     "metadata": {},
     "output_type": "execute_result"
    }
   ],
   "source": [
    "def clean_final_grade(value):\n",
    "    try:\n",
    "        if isinstance(value, str):\n",
    "           \n",
    "            grade_map = {\n",
    "                'A+': 95, 'A': 90, 'A-': 85,\n",
    "                'B+': 82, 'B': 78, 'B-': 75,\n",
    "                'C+': 72, 'C': 68, 'C-': 65,\n",
    "                'D+': 62, 'D': 58, 'D-': 55,\n",
    "                'F': 50,\n",
    "                'EXCELENT': 95, \n",
    "                'EXCELLENT': 95\n",
    "            }\n",
    "         \n",
    "            clean_value = value.upper().strip()\n",
    "            if clean_value in grade_map:\n",
    "                return grade_map[clean_value]\n",
    "            else:\n",
    "        \n",
    "                return float(value)\n",
    "        else:\n",
    "            return float(value)\n",
    "    except:\n",
    "        return None\n",
    "\n",
    "students_data[\"Final Grade\"] = students_data[\"Final Grade\"].apply(clean_final_grade)\n",
    "\n",
    "\n",
    "\n",
    "students_data['Final Grade'].isnull().sum()\n",
    "students_data[\"Final Grade\"].value_counts()"
   ]
  },
  {
   "cell_type": "code",
   "execution_count": 97,
   "id": "9e8ca1cd",
   "metadata": {},
   "outputs": [
    {
     "data": {
      "application/vnd.microsoft.datawrangler.viewer.v0+json": {
       "columns": [
        {
         "name": "index",
         "rawType": "int64",
         "type": "integer"
        },
        {
         "name": "Final Grade",
         "rawType": "float64",
         "type": "float"
        }
       ],
       "ref": "a2b7dded-6d94-4550-9186-10181767538c",
       "rows": [
        [
         "0",
         "90.0"
        ],
        [
         "1",
         "68.0"
        ],
        [
         "2",
         "50.0"
        ],
        [
         "3",
         "50.0"
        ],
        [
         "4",
         "58.0"
        ],
        [
         "5",
         "73.2"
        ],
        [
         "6",
         "68.0"
        ],
        [
         "7",
         "68.0"
        ],
        [
         "8",
         "95.0"
        ],
        [
         "9",
         "50.0"
        ],
        [
         "10",
         "95.0"
        ],
        [
         "11",
         "95.0"
        ],
        [
         "12",
         "68.0"
        ],
        [
         "13",
         "68.8"
        ],
        [
         "14",
         "82.0"
        ],
        [
         "15",
         "78.0"
        ],
        [
         "16",
         "50.0"
        ],
        [
         "17",
         "58.0"
        ],
        [
         "18",
         "50.0"
        ],
        [
         "19",
         "90.0"
        ],
        [
         "20",
         "95.0"
        ],
        [
         "21",
         "82.0"
        ],
        [
         "22",
         "78.0"
        ],
        [
         "23",
         "95.0"
        ],
        [
         "24",
         "95.0"
        ],
        [
         "25",
         "82.0"
        ],
        [
         "26",
         "50.0"
        ],
        [
         "27",
         "90.0"
        ],
        [
         "28",
         "50.0"
        ],
        [
         "29",
         "58.0"
        ],
        [
         "30",
         "78.0"
        ],
        [
         "31",
         "82.0"
        ],
        [
         "32",
         "95.0"
        ],
        [
         "33",
         "83.3"
        ],
        [
         "34",
         "50.0"
        ],
        [
         "35",
         "75.3"
        ],
        [
         "36",
         "68.0"
        ],
        [
         "37",
         "58.0"
        ],
        [
         "38",
         "82.0"
        ],
        [
         "39",
         "50.0"
        ],
        [
         "40",
         "95.0"
        ],
        [
         "41",
         "50.0"
        ],
        [
         "42",
         "78.0"
        ],
        [
         "43",
         "68.0"
        ],
        [
         "44",
         "78.0"
        ],
        [
         "45",
         "58.0"
        ],
        [
         "46",
         "95.0"
        ],
        [
         "47",
         "68.0"
        ],
        [
         "48",
         "58.0"
        ],
        [
         "49",
         "75.3"
        ]
       ],
       "shape": {
        "columns": 1,
        "rows": 1002
       }
      },
      "text/plain": [
       "0       90.0\n",
       "1       68.0\n",
       "2       50.0\n",
       "3       50.0\n",
       "4       58.0\n",
       "        ... \n",
       "997     78.0\n",
       "998     90.0\n",
       "999     95.0\n",
       "1000    90.0\n",
       "1001    75.3\n",
       "Name: Final Grade, Length: 1002, dtype: float64"
      ]
     },
     "execution_count": 97,
     "metadata": {},
     "output_type": "execute_result"
    }
   ],
   "source": [
    "#75.32232323 convert to 75.0\n",
    "\n",
    "\n",
    "students_data[\"Final Grade\"] = students_data[\"Final Grade\"].round(1)\n",
    "\n",
    "students_data[\"Final Grade\"]\n"
   ]
  },
  {
   "cell_type": "code",
   "execution_count": 98,
   "id": "cf7f3ad0",
   "metadata": {},
   "outputs": [],
   "source": [
    "participation_numeric_map = {'low': 0, 'medium': 1, 'high': 2}\n",
    "students_data[\"Participation_Numeric\"] = students_data[\"Participation\"].map(participation_numeric_map)\n",
    "\n",
    "complete_data = students_data[students_data[\"Final Grade\"].notnull()].copy()\n",
    "X = complete_data[[\"Attendance (%)\", \"Participation_Numeric\"]]\n",
    "y = complete_data[\"Final Grade\"]"
   ]
  },
  {
   "cell_type": "code",
   "execution_count": 99,
   "id": "a5ee52ce",
   "metadata": {},
   "outputs": [],
   "source": [
    "from sklearn.model_selection import train_test_split\n",
    "from sklearn.ensemble import RandomForestRegressor\n",
    "from sklearn.metrics import mean_squared_error, r2_score\n",
    "\n",
    "X_train, X_test, y_train, y_test = train_test_split(X, y, test_size=0.2, random_state=42)\n",
    "\n",
    "rf_model = RandomForestRegressor(n_estimators=100, random_state=42)\n",
    "rf_model.fit(X_train, y_train)\n",
    "\n",
    "y_pred = rf_model.predict(X_test)\n",
    "\n",
    "mse = mean_squared_error(y_test, y_pred)\n",
    "r2 = r2_score(y_test, y_pred)"
   ]
  },
  {
   "cell_type": "code",
   "execution_count": 100,
   "id": "428eee84",
   "metadata": {},
   "outputs": [
    {
     "data": {
      "text/plain": [
       "'Mean Squared Error: 260.19, R² Score: -0.16'"
      ]
     },
     "execution_count": 100,
     "metadata": {},
     "output_type": "execute_result"
    }
   ],
   "source": [
    "f\"Mean Squared Error: {mse:.2f}, R² Score: {r2:.2f}\""
   ]
  },
  {
   "cell_type": "code",
   "execution_count": 101,
   "id": "48956ea4",
   "metadata": {},
   "outputs": [
    {
     "data": {
      "text/plain": [
       "0"
      ]
     },
     "execution_count": 101,
     "metadata": {},
     "output_type": "execute_result"
    }
   ],
   "source": [
    "students_data['Final Grade'].isnull().sum()"
   ]
  },
  {
   "cell_type": "code",
   "execution_count": 102,
   "id": "e5c9e75c",
   "metadata": {},
   "outputs": [
    {
     "data": {
      "application/vnd.microsoft.datawrangler.viewer.v0+json": {
       "columns": [
        {
         "name": "Final Grade Letter",
         "rawType": "object",
         "type": "string"
        },
        {
         "name": "count",
         "rawType": "int64",
         "type": "integer"
        }
       ],
       "ref": "4564cf1f-e452-46db-b7a3-635ce577d648",
       "rows": [
        [
         "A",
         "156"
        ],
        [
         "A+",
         "128"
        ],
        [
         "B",
         "129"
        ],
        [
         "B+",
         "10"
        ],
        [
         "B-",
         "139"
        ],
        [
         "C",
         "13"
        ],
        [
         "C+",
         "31"
        ],
        [
         "C-",
         "144"
        ],
        [
         "D",
         "3"
        ],
        [
         "D+",
         "2"
        ],
        [
         "D-",
         "117"
        ],
        [
         "F",
         "130"
        ]
       ],
       "shape": {
        "columns": 1,
        "rows": 12
       }
      },
      "text/plain": [
       "Final Grade Letter\n",
       "A     156\n",
       "A+    128\n",
       "B     129\n",
       "B+     10\n",
       "B-    139\n",
       "C      13\n",
       "C+     31\n",
       "C-    144\n",
       "D       3\n",
       "D+      2\n",
       "D-    117\n",
       "F     130\n",
       "Name: count, dtype: int64"
      ]
     },
     "execution_count": 102,
     "metadata": {},
     "output_type": "execute_result"
    }
   ],
   "source": [
    "# Convert back to letter grades for better understanding\n",
    "def numeric_to_letter_grade(score):\n",
    "    if score >= 93:\n",
    "        return 'A+'\n",
    "    elif score >= 90:\n",
    "        return 'A'\n",
    "    elif score >= 87:\n",
    "        return 'A-'\n",
    "    elif score >= 83:\n",
    "        return 'B+'\n",
    "    elif score >= 80:\n",
    "        return 'B'\n",
    "    elif score >= 77:\n",
    "        return 'B-'\n",
    "    elif score >= 73:\n",
    "        return 'C+'\n",
    "    elif score >= 70:\n",
    "        return 'C'\n",
    "    elif score >= 67:\n",
    "        return 'C-'\n",
    "    elif score >= 63:\n",
    "        return 'D+'\n",
    "    elif score >= 60:\n",
    "        return 'D'\n",
    "    elif score >= 57:\n",
    "        return 'D-'\n",
    "    else:\n",
    "        return 'F'\n",
    "\n",
    "# Create letter grade column\n",
    "students_data[\"Final Grade Letter\"] = students_data[\"Final Grade\"].apply(numeric_to_letter_grade)\n",
    "\n",
    "# Show distribution of letter grades\n",
    "students_data[\"Final Grade Letter\"].value_counts().sort_index()"
   ]
  },
  {
   "cell_type": "code",
   "execution_count": 103,
   "id": "0153270d",
   "metadata": {},
   "outputs": [
    {
     "data": {
      "application/vnd.microsoft.datawrangler.viewer.v0+json": {
       "columns": [
        {
         "name": "index",
         "rawType": "int64",
         "type": "integer"
        },
        {
         "name": "Final Grade",
         "rawType": "float64",
         "type": "float"
        }
       ],
       "ref": "975138a4-86c8-4965-9198-6f15efc0c3ef",
       "rows": [
        [
         "0",
         "90.0"
        ],
        [
         "1",
         "68.0"
        ],
        [
         "2",
         "50.0"
        ],
        [
         "3",
         "50.0"
        ],
        [
         "4",
         "58.0"
        ],
        [
         "5",
         "73.2"
        ],
        [
         "6",
         "68.0"
        ],
        [
         "7",
         "68.0"
        ],
        [
         "8",
         "95.0"
        ],
        [
         "9",
         "50.0"
        ],
        [
         "10",
         "95.0"
        ],
        [
         "11",
         "95.0"
        ],
        [
         "12",
         "68.0"
        ],
        [
         "13",
         "68.8"
        ],
        [
         "14",
         "82.0"
        ],
        [
         "15",
         "78.0"
        ],
        [
         "16",
         "50.0"
        ],
        [
         "17",
         "58.0"
        ],
        [
         "18",
         "50.0"
        ],
        [
         "19",
         "90.0"
        ],
        [
         "20",
         "95.0"
        ],
        [
         "21",
         "82.0"
        ],
        [
         "22",
         "78.0"
        ],
        [
         "23",
         "95.0"
        ],
        [
         "24",
         "95.0"
        ],
        [
         "25",
         "82.0"
        ],
        [
         "26",
         "50.0"
        ],
        [
         "27",
         "90.0"
        ],
        [
         "28",
         "50.0"
        ],
        [
         "29",
         "58.0"
        ],
        [
         "30",
         "78.0"
        ],
        [
         "31",
         "82.0"
        ],
        [
         "32",
         "95.0"
        ],
        [
         "33",
         "83.3"
        ],
        [
         "34",
         "50.0"
        ],
        [
         "35",
         "75.3"
        ],
        [
         "36",
         "68.0"
        ],
        [
         "37",
         "58.0"
        ],
        [
         "38",
         "82.0"
        ],
        [
         "39",
         "50.0"
        ],
        [
         "40",
         "95.0"
        ],
        [
         "41",
         "50.0"
        ],
        [
         "42",
         "78.0"
        ],
        [
         "43",
         "68.0"
        ],
        [
         "44",
         "78.0"
        ],
        [
         "45",
         "58.0"
        ],
        [
         "46",
         "95.0"
        ],
        [
         "47",
         "68.0"
        ],
        [
         "48",
         "58.0"
        ],
        [
         "49",
         "75.3"
        ]
       ],
       "shape": {
        "columns": 1,
        "rows": 1002
       }
      },
      "text/plain": [
       "0       90.0\n",
       "1       68.0\n",
       "2       50.0\n",
       "3       50.0\n",
       "4       58.0\n",
       "        ... \n",
       "997     78.0\n",
       "998     90.0\n",
       "999     95.0\n",
       "1000    90.0\n",
       "1001    75.3\n",
       "Name: Final Grade, Length: 1002, dtype: float64"
      ]
     },
     "execution_count": 103,
     "metadata": {},
     "output_type": "execute_result"
    }
   ],
   "source": [
    "students_data[\"Final Grade\"]"
   ]
  },
  {
   "cell_type": "code",
   "execution_count": 104,
   "id": "cb300618",
   "metadata": {},
   "outputs": [
    {
     "data": {
      "application/vnd.microsoft.datawrangler.viewer.v0+json": {
       "columns": [
        {
         "name": "index",
         "rawType": "int64",
         "type": "integer"
        },
        {
         "name": "Student ID",
         "rawType": "float64",
         "type": "float"
        },
        {
         "name": "Name",
         "rawType": "object",
         "type": "unknown"
        },
        {
         "name": "Class",
         "rawType": "float64",
         "type": "float"
        },
        {
         "name": "Subject",
         "rawType": "object",
         "type": "unknown"
        },
        {
         "name": "Exam Category",
         "rawType": "object",
         "type": "unknown"
        },
        {
         "name": "Exam Date",
         "rawType": "object",
         "type": "unknown"
        },
        {
         "name": "Score",
         "rawType": "object",
         "type": "unknown"
        },
        {
         "name": "Attendance (%)",
         "rawType": "int64",
         "type": "integer"
        },
        {
         "name": "Participation",
         "rawType": "object",
         "type": "string"
        },
        {
         "name": "Behavior Score",
         "rawType": "object",
         "type": "unknown"
        },
        {
         "name": "Final Grade",
         "rawType": "float64",
         "type": "float"
        },
        {
         "name": "Participation_Numeric",
         "rawType": "int64",
         "type": "integer"
        },
        {
         "name": "Final Grade Letter",
         "rawType": "object",
         "type": "string"
        },
        {
         "name": "Performance Category",
         "rawType": "object",
         "type": "string"
        },
        {
         "name": "Pass_Fail",
         "rawType": "object",
         "type": "string"
        },
        {
         "name": "Risk_Level",
         "rawType": "object",
         "type": "string"
        },
        {
         "name": "Risk_Probability",
         "rawType": "float64",
         "type": "float"
        },
        {
         "name": "Engagement_Score",
         "rawType": "float64",
         "type": "float"
        },
        {
         "name": "Engagement_Group",
         "rawType": "category",
         "type": "unknown"
        }
       ],
       "ref": "97fe6dfe-d2da-4d26-9bd9-e7399611d55d",
       "rows": [
        [
         "0",
         "202.0",
         "Mehedi Hasan",
         "10.0",
         "Biology",
         "Class Test",
         "2025-01-01",
         "53",
         "93",
         "medium",
         "10",
         "90.0",
         "1",
         "A",
         "Excellent",
         "Pass",
         "Low Risk",
         "0.2156293894014486",
         "75.8",
         "High"
        ],
        [
         "1",
         "535.0",
         "Nusrat Hossain",
         "10.0",
         "Computer",
         "Final Exam",
         "2025-01-02",
         "48",
         "60",
         "low",
         "7",
         "68.0",
         "0",
         "C-",
         "Below Average",
         "Pass",
         "Low Risk",
         "0.22068652882264073",
         "36.0",
         "Low"
        ],
        [
         "2",
         "960.0",
         "Tanvir Alam",
         "10.0",
         "Physics",
         "Final Exam",
         "2025-01-03",
         "66",
         "64",
         "medium",
         "8",
         "50.0",
         "1",
         "F",
         "Poor",
         "Fail",
         "High Risk",
         "0.7560452831482244",
         "58.4",
         "Medium"
        ],
        [
         "3",
         "370.0",
         "Tanvir Alam",
         "10.0",
         "Physics",
         "Mid Exam",
         "2025-01-04",
         "37",
         "65",
         "high",
         "10",
         "50.0",
         "2",
         "F",
         "Poor",
         "Fail",
         "Low Risk",
         "0.0",
         "79.0",
         "High"
        ],
        [
         "4",
         "206.0",
         "Nusrat Hossain",
         "10.0",
         "Bangla",
         "Final Exam",
         "2025-01-05",
         "57",
         "60",
         "medium",
         "9",
         "58.0",
         "1",
         "D-",
         "Poor",
         "Fail",
         "Low Risk",
         "0.2851678778849118",
         "56.0",
         "Medium"
        ],
        [
         "5",
         "171.0",
         "Ayesha Rahman",
         "10.0",
         "Computer",
         "Mid Exam",
         "2025-01-06",
         "34",
         "60",
         "low",
         "9",
         "73.2",
         "0",
         "C+",
         "Average",
         "Pass",
         "Low Risk",
         "0.22068652882264073",
         "36.0",
         "Low"
        ],
        [
         "6",
         "800.0",
         "Sakib Khan",
         "10.0",
         "English",
         "Class Test",
         "2025-01-07",
         "46",
         "51",
         "medium",
         "5",
         "68.0",
         "1",
         "C-",
         "Below Average",
         "Pass",
         "Low Risk",
         "0.04349999999999998",
         "50.599999999999994",
         "Medium"
        ],
        [
         "7",
         "120.0",
         "Tania Jahan",
         "10.0",
         "Computer",
         "Final Exam",
         "2025-01-08",
         "65",
         "99",
         "high",
         "8",
         "68.0",
         "2",
         "C-",
         "Below Average",
         "Pass",
         "Low Risk",
         "0.0",
         "99.4",
         "Very High"
        ],
        [
         "8",
         "714.0",
         "Mehedi Hasan",
         "10.0",
         "English",
         "Class Test",
         "2025-01-09",
         "48",
         "61",
         "medium",
         "8",
         "95.0",
         "1",
         "A+",
         "Excellent",
         "Pass",
         "Low Risk",
         "0.004865967365967339",
         "56.6",
         "Medium"
        ],
        [
         "9",
         "221.0",
         "Tania Jahan",
         "10.0",
         "Computer",
         "Final Exam",
         "2025-01-10",
         "93",
         "100",
         "medium",
         "6",
         "50.0",
         "1",
         "F",
         "Poor",
         "Fail",
         "Medium Risk",
         "0.4591428571428571",
         "80.0",
         "High"
        ],
        [
         "10",
         "566.0",
         "Nusrat Hossain",
         "10.0",
         "UnkownSubject",
         "Class Test",
         "2025-01-11",
         "40",
         "75",
         "medium",
         "6",
         "95.0",
         "1",
         "A+",
         "Excellent",
         "Pass",
         "Low Risk",
         "0.1250811133311136",
         "65.0",
         "High"
        ],
        [
         "11",
         "314.0",
         "Sakib Khan",
         "10.0",
         "Math",
         "Final Exam",
         "2025-01-12",
         "83",
         "72",
         "low",
         "10",
         "95.0",
         "0",
         "A+",
         "Excellent",
         "Pass",
         "Low Risk",
         "0.0",
         "43.199999999999996",
         "Medium"
        ],
        [
         "12",
         "430.0",
         "Mehedi Hasan",
         "10.0",
         "Physics",
         "Class Test",
         "2025-01-13",
         "74",
         "67",
         "medium",
         "10",
         "68.0",
         "1",
         "C-",
         "Below Average",
         "Pass",
         "Medium Risk",
         "0.5161599511599512",
         "60.199999999999996",
         "High"
        ],
        [
         "13",
         "558.0",
         "Nusrat Hossain",
         "10.0",
         "Computer",
         "Class Test",
         "2025-01-14",
         "76",
         "81",
         "medium",
         "6",
         "68.8",
         "1",
         "C-",
         "Below Average",
         "Pass",
         "Low Risk",
         "0.35945050855577176",
         "68.6",
         "High"
        ],
        [
         "14",
         "187.0",
         "Ayesha Rahman",
         "10.0",
         "Bangla",
         "Final Exam",
         "2025-01-15",
         "41",
         "98",
         "low",
         "10",
         "82.0",
         "0",
         "B",
         "Good",
         "Pass",
         "Low Risk",
         "0.11711652236652259",
         "58.8",
         "Medium"
        ],
        [
         "15",
         "472.0",
         "Tanvir Alam",
         "10.0",
         "Computer",
         "Class Test",
         "32-13-2025",
         "50",
         "87",
         "high",
         "7",
         "78.0",
         "2",
         "B-",
         "Average",
         "Pass",
         "Low Risk",
         "0.22901962824756938",
         "92.19999999999999",
         "Very High"
        ],
        [
         "16",
         "199.0",
         "Tania Jahan",
         "10.0",
         "Biology",
         "Class Test",
         "2025-01-17",
         "40",
         "96",
         "high",
         "6",
         "50.0",
         "2",
         "F",
         "Poor",
         "Fail",
         "Low Risk",
         "0.2292165473415474",
         "97.6",
         "Very High"
        ],
        [
         "17",
         "971.0",
         "Mim Akter",
         "10.0",
         "Physics",
         "Class Test",
         "2025-01-18",
         "34",
         "52",
         "high",
         "8",
         "58.0",
         "2",
         "D-",
         "Poor",
         "Fail",
         "Medium Risk",
         "0.429952380952381",
         "71.2",
         "High"
        ],
        [
         "18",
         "763.0",
         "Mim Akter",
         "10.0",
         "Biology",
         "Final Exam",
         "2025-01-19",
         "85",
         "87",
         "low",
         "7",
         "50.0",
         "0",
         "F",
         "Poor",
         "Fail",
         "High Risk",
         "0.7860079365079365",
         "52.199999999999996",
         "Medium"
        ],
        [
         "19",
         "230.0",
         "Sakib Khan",
         "10.0",
         "Physics",
         "Final Exam",
         "2025-01-20",
         "49",
         "52",
         "high",
         "10",
         "90.0",
         "2",
         "A",
         "Excellent",
         "Pass",
         "Medium Risk",
         "0.429952380952381",
         "71.2",
         "High"
        ],
        [
         "20",
         "761.0",
         "Ayesha Rahman",
         "10.0",
         "Biology",
         "Class Test",
         "2025-01-21",
         "70",
         "79",
         "medium",
         "9",
         "95.0",
         "1",
         "A+",
         "Excellent",
         "Pass",
         "Low Risk",
         "0.0",
         "67.4",
         "High"
        ],
        [
         "21",
         "408.0",
         "Tania Jahan",
         "10.0",
         "Computer",
         "Class Test",
         "2025-01-22",
         "75",
         "50",
         "medium",
         "5",
         "82.0",
         "1",
         "B",
         "Good",
         "Pass",
         "Low Risk",
         "0.36729761904761904",
         "50.0",
         "Medium"
        ],
        [
         "22",
         "869.0",
         "Ayesha Rahman",
         "10.0",
         "Computer",
         "Final Exam",
         "2025-01-23",
         "41",
         "79",
         "low",
         "6",
         "78.0",
         "0",
         "B-",
         "Average",
         "Pass",
         "Low Risk",
         "0.0",
         "47.4",
         "Medium"
        ],
        [
         "23",
         "443.0",
         "Tania Jahan",
         "10.0",
         "Math",
         "Final Exam",
         "2025-01-24",
         "99",
         "94",
         "medium",
         "9",
         "95.0",
         "1",
         "A+",
         "Excellent",
         "Pass",
         "Low Risk",
         "0.22823809523809513",
         "76.4",
         "High"
        ],
        [
         "24",
         "591.0",
         "Sakib Khan",
         "10.0",
         "Bangla",
         "Class Test",
         "2025-01-25",
         "46",
         "81",
         "high",
         "10",
         "95.0",
         "2",
         "A+",
         "Excellent",
         "Pass",
         "Low Risk",
         "0.011472527472527472",
         "88.6",
         "Very High"
        ],
        [
         "25",
         "513.0",
         "Sakib Khan",
         "10.0",
         "Biology",
         "Class Test",
         "2025-01-26",
         "Eighty",
         "77",
         "low",
         "8",
         "82.0",
         "0",
         "B",
         "Good",
         "Pass",
         "Low Risk",
         "0.005079365079365239",
         "46.199999999999996",
         "Medium"
        ],
        [
         "26",
         "905.0",
         "Mim Akter",
         "10.0",
         "English",
         "Class Test",
         "2025-01-27",
         "55",
         "70",
         "high",
         "5",
         "50.0",
         "2",
         "F",
         "Poor",
         "Fail",
         "High Risk",
         "1.0",
         "82.0",
         "Very High"
        ],
        [
         "27",
         "485.0",
         "Ayesha Rahman",
         "10.0",
         "Math",
         "Mid Exam",
         "2025-01-28",
         "77",
         "95",
         "high",
         "9",
         "90.0",
         "2",
         "A",
         "Excellent",
         "Pass",
         "Low Risk",
         "0.202268763486256",
         "97.0",
         "Very High"
        ],
        [
         "28",
         "291.0",
         "Mehedi Hasan",
         "10.0",
         "Biology",
         "Final Exam",
         "2025-01-29",
         "81",
         "60",
         "high",
         "5",
         "50.0",
         "2",
         "F",
         "Poor",
         "Fail",
         "Low Risk",
         "0.33532916367571486",
         "76.0",
         "High"
        ],
        [
         "29",
         "376.0",
         "Mim Akter",
         "10.0",
         "Biology",
         "Mid Exam",
         "2025-01-30",
         "99",
         "76",
         "low",
         "6",
         "58.0",
         "0",
         "D-",
         "Poor",
         "Fail",
         "Low Risk",
         "0.14249314574314564",
         "45.6",
         "Medium"
        ],
        [
         "30",
         "260.0",
         "Ayesha Rahman",
         "10.0",
         "Math",
         "Final Exam",
         "2025-01-31",
         "84",
         "85",
         "medium",
         "Nine",
         "78.0",
         "1",
         "B-",
         "Average",
         "Pass",
         "Low Risk",
         "0.31039285714285714",
         "71.0",
         "High"
        ],
        [
         "31",
         "559.0",
         "Mim Akter",
         "10.0",
         "Computer",
         "Final Exam",
         "2025-02-01",
         "62",
         "56",
         "medium",
         "8",
         "82.0",
         "1",
         "B",
         "Good",
         "Pass",
         "Low Risk",
         "0.0",
         "53.6",
         "Medium"
        ],
        [
         "32",
         "413.0",
         "Mehedi Hasan",
         "10.0",
         "Biology",
         "Final Exam",
         "2025-02-02",
         "91",
         "71",
         "high",
         "10",
         "95.0",
         "2",
         "A+",
         "Excellent",
         "Pass",
         "Low Risk",
         "0.010000000000000009",
         "82.6",
         "Very High"
        ],
        [
         "33",
         "121.0",
         "Tanvir Alam",
         "10.0",
         "Computer",
         "Final Exam",
         "2025-02-03",
         "52",
         "59",
         "low",
         "5",
         "83.3",
         "0",
         "B+",
         "Good",
         "Pass",
         "Low Risk",
         "0.10713438359026639",
         "35.4",
         "Low"
        ],
        [
         "34",
         "352.0",
         "Tanvir Alam",
         "10.0",
         "Math",
         "Final Exam",
         "2025-02-04",
         "44",
         "88",
         "low",
         "9",
         "50.0",
         "0",
         "F",
         "Poor",
         "Fail",
         "Medium Risk",
         "0.525686507936508",
         "52.8",
         "Medium"
        ],
        [
         "35",
         "847.0",
         "Tanvir Alam",
         "10.0",
         "Computer",
         "Final Exam",
         "2025-02-05",
         "56",
         "60",
         "medium",
         "6",
         "75.3",
         "1",
         "C+",
         "Average",
         "Pass",
         "Low Risk",
         "0.2851678778849118",
         "56.0",
         "Medium"
        ],
        [
         "36",
         "956.0",
         "Tanvir Alam",
         "10.0",
         "Physics",
         "Final Exam",
         "2025-02-06",
         "93",
         "64",
         "medium",
         "6",
         "68.0",
         "1",
         "C-",
         "Below Average",
         "Pass",
         "High Risk",
         "0.7560452831482244",
         "58.4",
         "Medium"
        ],
        [
         "37",
         "660.0",
         "Nusrat Hossain",
         "10.0",
         "English",
         "Mid Exam",
         "2025-02-07",
         "80",
         "53",
         "low",
         "10",
         "58.0",
         "0",
         "D-",
         "Poor",
         "Fail",
         "Low Risk",
         "0.3354642857142859",
         "31.799999999999997",
         "Low"
        ],
        [
         "38",
         "574.0",
         "Tania Jahan",
         "10.0",
         "Biology",
         "Class Test",
         "2025-02-08",
         "82",
         "81",
         "high",
         "9",
         "82.0",
         "2",
         "B",
         "Good",
         "Pass",
         "Low Risk",
         "0.011472527472527472",
         "88.6",
         "Very High"
        ],
        [
         "39",
         "158.0",
         "Nusrat Hossain",
         "10.0",
         "Bangla",
         "Class Test",
         "2025-02-09",
         "80",
         "60",
         "medium",
         "9",
         "50.0",
         "1",
         "F",
         "Poor",
         "Fail",
         "Low Risk",
         "0.2851678778849118",
         "56.0",
         "Medium"
        ],
        [
         "40",
         "610.0",
         "Nusrat Hossain",
         "10.0",
         "English",
         "Mid Exam",
         "2025-02-10",
         "76",
         "55",
         "high",
         "5",
         "95.0",
         "2",
         "A+",
         "Excellent",
         "Pass",
         "Low Risk",
         "0.2985634920634921",
         "73.0",
         "High"
        ],
        [
         "41",
         "781.0",
         "Nusrat Hossain",
         "10.0",
         "Computer",
         "Mid Exam",
         "2025-02-11",
         "33",
         "73",
         "low",
         "10",
         "50.0",
         "0",
         "F",
         "Poor",
         "Fail",
         "Low Risk",
         "0.2918571428571429",
         "43.8",
         "Medium"
        ],
        [
         "42",
         "575.0",
         "Tanvir Alam",
         "10.0",
         "Biology",
         "Mid Exam",
         "2025-02-12",
         "36",
         "69",
         "high",
         "10",
         "78.0",
         "2",
         "B-",
         "Average",
         "Pass",
         "Low Risk",
         "0.2419301254301256",
         "81.4",
         "Very High"
        ],
        [
         "43",
         "799.0",
         "Mehedi Hasan",
         "10.0",
         "Computer",
         "Mid Exam",
         "2025-02-13",
         "64",
         "86",
         "medium",
         "7",
         "68.0",
         "1",
         "C-",
         "Below Average",
         "Pass",
         "Low Risk",
         "0.007857142857142896",
         "71.6",
         "High"
        ],
        [
         "44",
         "882.0",
         "Sakib Khan",
         "10.0",
         "Physics",
         "Final Exam",
         "2025-02-14",
         "77",
         "60",
         "low",
         "10",
         "78.0",
         "0",
         "B-",
         "Average",
         "Pass",
         "Low Risk",
         "0.22068652882264073",
         "36.0",
         "Low"
        ],
        [
         "45",
         "289.0",
         "Sakib Khan",
         "10.0",
         "Math",
         "Class Test",
         "2025-02-15",
         "74",
         "61",
         "medium",
         "6",
         "58.0",
         "1",
         "D-",
         "Poor",
         "Fail",
         "Low Risk",
         "0.004865967365967339",
         "56.6",
         "Medium"
        ],
        [
         "46",
         "786.0",
         "Tania Jahan",
         "10.0",
         "Biology",
         "Final Exam",
         "2025-02-16",
         "48",
         "82",
         "low",
         "5",
         "95.0",
         "0",
         "A+",
         "Excellent",
         "Pass",
         "Low Risk",
         "0.08050000000000002",
         "49.199999999999996",
         "Medium"
        ],
        [
         "47",
         "662.0",
         "Tanvir Alam",
         "10.0",
         "Physics",
         "Class Test",
         "2025-02-17",
         "92",
         "77",
         "high",
         "9",
         "68.0",
         "2",
         "C-",
         "Below Average",
         "Pass",
         "Low Risk",
         "0.37589781052281035",
         "86.19999999999999",
         "Very High"
        ],
        [
         "48",
         "975.0",
         "Tanvir Alam",
         "10.0",
         "Physics",
         "Class Test",
         "2025-02-18",
         "67",
         "57",
         "low",
         "10",
         "58.0",
         "0",
         "D-",
         "Poor",
         "Fail",
         "Low Risk",
         "0.19108766233766228",
         "34.199999999999996",
         "Low"
        ],
        [
         "49",
         "666.0",
         "Tanvir Alam",
         "10.0",
         "Biology",
         "Mid Exam",
         "2025-02-19",
         "96",
         "60",
         "medium",
         "5",
         "75.3",
         "1",
         "C+",
         "Average",
         "Pass",
         "Low Risk",
         "0.2851678778849118",
         "56.0",
         "Medium"
        ]
       ],
       "shape": {
        "columns": 19,
        "rows": 1002
       }
      },
      "text/html": [
       "<div>\n",
       "<style scoped>\n",
       "    .dataframe tbody tr th:only-of-type {\n",
       "        vertical-align: middle;\n",
       "    }\n",
       "\n",
       "    .dataframe tbody tr th {\n",
       "        vertical-align: top;\n",
       "    }\n",
       "\n",
       "    .dataframe thead th {\n",
       "        text-align: right;\n",
       "    }\n",
       "</style>\n",
       "<table border=\"1\" class=\"dataframe\">\n",
       "  <thead>\n",
       "    <tr style=\"text-align: right;\">\n",
       "      <th></th>\n",
       "      <th>Student ID</th>\n",
       "      <th>Name</th>\n",
       "      <th>Class</th>\n",
       "      <th>Subject</th>\n",
       "      <th>Exam Category</th>\n",
       "      <th>Exam Date</th>\n",
       "      <th>Score</th>\n",
       "      <th>Attendance (%)</th>\n",
       "      <th>Participation</th>\n",
       "      <th>Behavior Score</th>\n",
       "      <th>Final Grade</th>\n",
       "      <th>Participation_Numeric</th>\n",
       "      <th>Final Grade Letter</th>\n",
       "      <th>Performance Category</th>\n",
       "      <th>Pass_Fail</th>\n",
       "      <th>Risk_Level</th>\n",
       "      <th>Risk_Probability</th>\n",
       "      <th>Engagement_Score</th>\n",
       "      <th>Engagement_Group</th>\n",
       "    </tr>\n",
       "  </thead>\n",
       "  <tbody>\n",
       "    <tr>\n",
       "      <th>0</th>\n",
       "      <td>202.0</td>\n",
       "      <td>Mehedi Hasan</td>\n",
       "      <td>10.0</td>\n",
       "      <td>Biology</td>\n",
       "      <td>Class Test</td>\n",
       "      <td>2025-01-01</td>\n",
       "      <td>53</td>\n",
       "      <td>93</td>\n",
       "      <td>medium</td>\n",
       "      <td>10</td>\n",
       "      <td>90.0</td>\n",
       "      <td>1</td>\n",
       "      <td>A</td>\n",
       "      <td>Excellent</td>\n",
       "      <td>Pass</td>\n",
       "      <td>Low Risk</td>\n",
       "      <td>0.215629</td>\n",
       "      <td>75.8</td>\n",
       "      <td>High</td>\n",
       "    </tr>\n",
       "    <tr>\n",
       "      <th>1</th>\n",
       "      <td>535.0</td>\n",
       "      <td>Nusrat Hossain</td>\n",
       "      <td>10.0</td>\n",
       "      <td>Computer</td>\n",
       "      <td>Final Exam</td>\n",
       "      <td>2025-01-02</td>\n",
       "      <td>48</td>\n",
       "      <td>60</td>\n",
       "      <td>low</td>\n",
       "      <td>7</td>\n",
       "      <td>68.0</td>\n",
       "      <td>0</td>\n",
       "      <td>C-</td>\n",
       "      <td>Below Average</td>\n",
       "      <td>Pass</td>\n",
       "      <td>Low Risk</td>\n",
       "      <td>0.220687</td>\n",
       "      <td>36.0</td>\n",
       "      <td>Low</td>\n",
       "    </tr>\n",
       "    <tr>\n",
       "      <th>2</th>\n",
       "      <td>960.0</td>\n",
       "      <td>Tanvir Alam</td>\n",
       "      <td>10.0</td>\n",
       "      <td>Physics</td>\n",
       "      <td>Final Exam</td>\n",
       "      <td>2025-01-03</td>\n",
       "      <td>66</td>\n",
       "      <td>64</td>\n",
       "      <td>medium</td>\n",
       "      <td>8</td>\n",
       "      <td>50.0</td>\n",
       "      <td>1</td>\n",
       "      <td>F</td>\n",
       "      <td>Poor</td>\n",
       "      <td>Fail</td>\n",
       "      <td>High Risk</td>\n",
       "      <td>0.756045</td>\n",
       "      <td>58.4</td>\n",
       "      <td>Medium</td>\n",
       "    </tr>\n",
       "    <tr>\n",
       "      <th>3</th>\n",
       "      <td>370.0</td>\n",
       "      <td>Tanvir Alam</td>\n",
       "      <td>10.0</td>\n",
       "      <td>Physics</td>\n",
       "      <td>Mid Exam</td>\n",
       "      <td>2025-01-04</td>\n",
       "      <td>37</td>\n",
       "      <td>65</td>\n",
       "      <td>high</td>\n",
       "      <td>10</td>\n",
       "      <td>50.0</td>\n",
       "      <td>2</td>\n",
       "      <td>F</td>\n",
       "      <td>Poor</td>\n",
       "      <td>Fail</td>\n",
       "      <td>Low Risk</td>\n",
       "      <td>0.000000</td>\n",
       "      <td>79.0</td>\n",
       "      <td>High</td>\n",
       "    </tr>\n",
       "    <tr>\n",
       "      <th>4</th>\n",
       "      <td>206.0</td>\n",
       "      <td>Nusrat Hossain</td>\n",
       "      <td>10.0</td>\n",
       "      <td>Bangla</td>\n",
       "      <td>Final Exam</td>\n",
       "      <td>2025-01-05</td>\n",
       "      <td>57</td>\n",
       "      <td>60</td>\n",
       "      <td>medium</td>\n",
       "      <td>9</td>\n",
       "      <td>58.0</td>\n",
       "      <td>1</td>\n",
       "      <td>D-</td>\n",
       "      <td>Poor</td>\n",
       "      <td>Fail</td>\n",
       "      <td>Low Risk</td>\n",
       "      <td>0.285168</td>\n",
       "      <td>56.0</td>\n",
       "      <td>Medium</td>\n",
       "    </tr>\n",
       "    <tr>\n",
       "      <th>...</th>\n",
       "      <td>...</td>\n",
       "      <td>...</td>\n",
       "      <td>...</td>\n",
       "      <td>...</td>\n",
       "      <td>...</td>\n",
       "      <td>...</td>\n",
       "      <td>...</td>\n",
       "      <td>...</td>\n",
       "      <td>...</td>\n",
       "      <td>...</td>\n",
       "      <td>...</td>\n",
       "      <td>...</td>\n",
       "      <td>...</td>\n",
       "      <td>...</td>\n",
       "      <td>...</td>\n",
       "      <td>...</td>\n",
       "      <td>...</td>\n",
       "      <td>...</td>\n",
       "      <td>...</td>\n",
       "    </tr>\n",
       "    <tr>\n",
       "      <th>997</th>\n",
       "      <td>405.0</td>\n",
       "      <td>Sakib Khan</td>\n",
       "      <td>10.0</td>\n",
       "      <td>Physics</td>\n",
       "      <td>Final Exam</td>\n",
       "      <td>2027-09-25</td>\n",
       "      <td>88</td>\n",
       "      <td>68</td>\n",
       "      <td>low</td>\n",
       "      <td>8</td>\n",
       "      <td>78.0</td>\n",
       "      <td>0</td>\n",
       "      <td>B-</td>\n",
       "      <td>Average</td>\n",
       "      <td>Pass</td>\n",
       "      <td>Medium Risk</td>\n",
       "      <td>0.488857</td>\n",
       "      <td>40.8</td>\n",
       "      <td>Medium</td>\n",
       "    </tr>\n",
       "    <tr>\n",
       "      <th>998</th>\n",
       "      <td>197.0</td>\n",
       "      <td>Nusrat Hossain</td>\n",
       "      <td>10.0</td>\n",
       "      <td>Physics</td>\n",
       "      <td>Class Test</td>\n",
       "      <td>2027-09-26</td>\n",
       "      <td>31</td>\n",
       "      <td>62</td>\n",
       "      <td>high</td>\n",
       "      <td>8</td>\n",
       "      <td>90.0</td>\n",
       "      <td>2</td>\n",
       "      <td>A</td>\n",
       "      <td>Excellent</td>\n",
       "      <td>Pass</td>\n",
       "      <td>Low Risk</td>\n",
       "      <td>0.120213</td>\n",
       "      <td>77.2</td>\n",
       "      <td>High</td>\n",
       "    </tr>\n",
       "    <tr>\n",
       "      <th>999</th>\n",
       "      <td>949.0</td>\n",
       "      <td>Mehedi Hasan</td>\n",
       "      <td>10.0</td>\n",
       "      <td>Physics</td>\n",
       "      <td>Class Test</td>\n",
       "      <td>2027-09-27</td>\n",
       "      <td>39</td>\n",
       "      <td>91</td>\n",
       "      <td>high</td>\n",
       "      <td>9</td>\n",
       "      <td>95.0</td>\n",
       "      <td>2</td>\n",
       "      <td>A+</td>\n",
       "      <td>Excellent</td>\n",
       "      <td>Pass</td>\n",
       "      <td>Low Risk</td>\n",
       "      <td>0.278630</td>\n",
       "      <td>94.6</td>\n",
       "      <td>Very High</td>\n",
       "    </tr>\n",
       "    <tr>\n",
       "      <th>1000</th>\n",
       "      <td>202.0</td>\n",
       "      <td>Mehedi Hasan</td>\n",
       "      <td>10.0</td>\n",
       "      <td>Biology</td>\n",
       "      <td>Class Test</td>\n",
       "      <td>2025-01-01</td>\n",
       "      <td>53</td>\n",
       "      <td>93</td>\n",
       "      <td>medium</td>\n",
       "      <td>10</td>\n",
       "      <td>90.0</td>\n",
       "      <td>1</td>\n",
       "      <td>A</td>\n",
       "      <td>Excellent</td>\n",
       "      <td>Pass</td>\n",
       "      <td>Low Risk</td>\n",
       "      <td>0.215629</td>\n",
       "      <td>75.8</td>\n",
       "      <td>High</td>\n",
       "    </tr>\n",
       "    <tr>\n",
       "      <th>1001</th>\n",
       "      <td>NaN</td>\n",
       "      <td>NaN</td>\n",
       "      <td>NaN</td>\n",
       "      <td>NaN</td>\n",
       "      <td>NaN</td>\n",
       "      <td>NaN</td>\n",
       "      <td>NaN</td>\n",
       "      <td>60</td>\n",
       "      <td>medium</td>\n",
       "      <td>NaN</td>\n",
       "      <td>75.3</td>\n",
       "      <td>1</td>\n",
       "      <td>C+</td>\n",
       "      <td>Average</td>\n",
       "      <td>Pass</td>\n",
       "      <td>Low Risk</td>\n",
       "      <td>0.285168</td>\n",
       "      <td>56.0</td>\n",
       "      <td>Medium</td>\n",
       "    </tr>\n",
       "  </tbody>\n",
       "</table>\n",
       "<p>1002 rows × 19 columns</p>\n",
       "</div>"
      ],
      "text/plain": [
       "      Student ID            Name  Class   Subject Exam Category   Exam Date  \\\n",
       "0          202.0    Mehedi Hasan   10.0   Biology    Class Test  2025-01-01   \n",
       "1          535.0  Nusrat Hossain   10.0  Computer    Final Exam  2025-01-02   \n",
       "2          960.0     Tanvir Alam   10.0   Physics    Final Exam  2025-01-03   \n",
       "3          370.0     Tanvir Alam   10.0   Physics      Mid Exam  2025-01-04   \n",
       "4          206.0  Nusrat Hossain   10.0    Bangla    Final Exam  2025-01-05   \n",
       "...          ...             ...    ...       ...           ...         ...   \n",
       "997        405.0      Sakib Khan   10.0   Physics    Final Exam  2027-09-25   \n",
       "998        197.0  Nusrat Hossain   10.0   Physics    Class Test  2027-09-26   \n",
       "999        949.0    Mehedi Hasan   10.0   Physics    Class Test  2027-09-27   \n",
       "1000       202.0    Mehedi Hasan   10.0   Biology    Class Test  2025-01-01   \n",
       "1001         NaN             NaN    NaN       NaN           NaN         NaN   \n",
       "\n",
       "     Score  Attendance (%) Participation Behavior Score  Final Grade  \\\n",
       "0       53              93        medium             10         90.0   \n",
       "1       48              60           low              7         68.0   \n",
       "2       66              64        medium              8         50.0   \n",
       "3       37              65          high             10         50.0   \n",
       "4       57              60        medium              9         58.0   \n",
       "...    ...             ...           ...            ...          ...   \n",
       "997     88              68           low              8         78.0   \n",
       "998     31              62          high              8         90.0   \n",
       "999     39              91          high              9         95.0   \n",
       "1000    53              93        medium             10         90.0   \n",
       "1001   NaN              60        medium            NaN         75.3   \n",
       "\n",
       "      Participation_Numeric Final Grade Letter Performance Category Pass_Fail  \\\n",
       "0                         1                  A            Excellent      Pass   \n",
       "1                         0                 C-        Below Average      Pass   \n",
       "2                         1                  F                 Poor      Fail   \n",
       "3                         2                  F                 Poor      Fail   \n",
       "4                         1                 D-                 Poor      Fail   \n",
       "...                     ...                ...                  ...       ...   \n",
       "997                       0                 B-              Average      Pass   \n",
       "998                       2                  A            Excellent      Pass   \n",
       "999                       2                 A+            Excellent      Pass   \n",
       "1000                      1                  A            Excellent      Pass   \n",
       "1001                      1                 C+              Average      Pass   \n",
       "\n",
       "       Risk_Level  Risk_Probability  Engagement_Score Engagement_Group  \n",
       "0        Low Risk          0.215629              75.8             High  \n",
       "1        Low Risk          0.220687              36.0              Low  \n",
       "2       High Risk          0.756045              58.4           Medium  \n",
       "3        Low Risk          0.000000              79.0             High  \n",
       "4        Low Risk          0.285168              56.0           Medium  \n",
       "...           ...               ...               ...              ...  \n",
       "997   Medium Risk          0.488857              40.8           Medium  \n",
       "998      Low Risk          0.120213              77.2             High  \n",
       "999      Low Risk          0.278630              94.6        Very High  \n",
       "1000     Low Risk          0.215629              75.8             High  \n",
       "1001     Low Risk          0.285168              56.0           Medium  \n",
       "\n",
       "[1002 rows x 19 columns]"
      ]
     },
     "execution_count": 104,
     "metadata": {},
     "output_type": "execute_result"
    }
   ],
   "source": [
    "students_data"
   ]
  },
  {
   "cell_type": "code",
   "execution_count": null,
   "id": "6841222b",
   "metadata": {},
   "outputs": [],
   "source": []
  },
  {
   "cell_type": "code",
   "execution_count": 105,
   "id": "be13c8e7",
   "metadata": {},
   "outputs": [
    {
     "data": {
      "image/png": "[encoded data removed]",
      "text/plain": [
       "<Figure size 1000x800 with 2 Axes>"
      ]
     },
     "metadata": {},
     "output_type": "display_data"
    }
   ],
   "source": [
    "# Create correlation matrix\n",
    "numeric_columns = ['Attendance (%)', 'Participation_Numeric', 'Final Grade']\n",
    "correlation_matrix = students_data[numeric_columns].corr()\n",
    "\n",
    "plt.figure(figsize=(10, 8))\n",
    "sns.heatmap(correlation_matrix, annot=True, cmap='coolwarm', center=0, \n",
    "            square=True, fmt='.2f')\n",
    "plt.title('Correlation Matrix: Student Performance Features')\n",
    "plt.show()"
   ]
  },
  {
   "cell_type": "code",
   "execution_count": 106,
   "id": "f621f535",
   "metadata": {},
   "outputs": [
    {
     "data": {
      "image/png": "[encoded data removed]",
      "text/plain": [
       "<Figure size 1200x600 with 3 Axes>"
      ]
     },
     "metadata": {},
     "output_type": "display_data"
    }
   ],
   "source": [
    "# Attendance vs Final Grade scatter plot\n",
    "plt.figure(figsize=(12, 6))\n",
    "\n",
    "plt.subplot(1, 2, 1)\n",
    "plt.scatter(students_data['Attendance (%)'], students_data['Final Grade'], \n",
    "           alpha=0.6, c=students_data['Participation_Numeric'], cmap='viridis')\n",
    "plt.colorbar(label='Participation Level (0=Low, 1=Medium, 2=High)')\n",
    "plt.xlabel('Attendance (%)')\n",
    "plt.ylabel('Final Grade')\n",
    "plt.title('Attendance vs Final Grade\\n(colored by Participation)')\n",
    "\n",
    "plt.subplot(1, 2, 2)\n",
    "participation_colors = {'low': 'red', 'medium': 'orange', 'high': 'green'}\n",
    "for participation_level in ['low', 'medium', 'high']:\n",
    "    mask = students_data['Participation'] == participation_level\n",
    "    plt.scatter(students_data[mask]['Attendance (%)'], \n",
    "               students_data[mask]['Final Grade'], \n",
    "               alpha=0.6, label=participation_level.title(),\n",
    "               color=participation_colors[participation_level])\n",
    "\n",
    "plt.xlabel('Attendance (%)')\n",
    "plt.ylabel('Final Grade')\n",
    "plt.title('Attendance vs Final Grade by Participation')\n",
    "plt.legend()\n",
    "plt.tight_layout()\n",
    "plt.show()"
   ]
  },
  {
   "cell_type": "code",
   "execution_count": 107,
   "id": "35ec26d7",
   "metadata": {},
   "outputs": [
    {
     "data": {
      "image/png": "[encoded data removed]",
      "text/plain": [
       "<Figure size 1500x500 with 3 Axes>"
      ]
     },
     "metadata": {},
     "output_type": "display_data"
    }
   ],
   "source": [
    "# Grade distribution analysis\n",
    "plt.figure(figsize=(15, 5))\n",
    "\n",
    "plt.subplot(1, 3, 1)\n",
    "students_data['Final Grade'].hist(bins=20, alpha=0.7, edgecolor='black')\n",
    "plt.xlabel('Final Grade (Numeric)')\n",
    "plt.ylabel('Frequency')\n",
    "plt.title('Distribution of Final Grades')\n",
    "\n",
    "plt.subplot(1, 3, 2)\n",
    "grade_counts = students_data['Final Grade Letter'].value_counts()\n",
    "plt.pie(grade_counts.values, labels=grade_counts.index, autopct='%1.1f%%')\n",
    "plt.title('Grade Distribution (Letter Grades)')\n",
    "\n",
    "plt.subplot(1, 3, 3)\n",
    "sns.boxplot(data=students_data, x='Participation', y='Final Grade')\n",
    "plt.title('Final Grade by Participation Level')\n",
    "plt.xticks(rotation=45)\n",
    "\n",
    "plt.tight_layout()\n",
    "plt.show()"
   ]
  },
  {
   "cell_type": "markdown",
   "id": "915e9015",
   "metadata": {},
   "source": [
    "# Student Performance Classification\n",
    "Let's classify students into performance categories and analyze patterns."
   ]
  },
  {
   "cell_type": "code",
   "execution_count": 108,
   "id": "6dd9c3a0",
   "metadata": {},
   "outputs": [
    {
     "data": {
      "application/vnd.microsoft.datawrangler.viewer.v0+json": {
       "columns": [
        {
         "name": "Performance Category",
         "rawType": "object",
         "type": "string"
        },
        {
         "name": "count",
         "rawType": "int64",
         "type": "integer"
        }
       ],
       "ref": "aedfdc78-be82-449c-80fb-47cf99de8298",
       "rows": [
        [
         "Excellent",
         "284"
        ],
        [
         "Poor",
         "247"
        ],
        [
         "Average",
         "183"
        ],
        [
         "Below Average",
         "149"
        ],
        [
         "Good",
         "139"
        ]
       ],
       "shape": {
        "columns": 1,
        "rows": 5
       }
      },
      "text/plain": [
       "Performance Category\n",
       "Excellent        284\n",
       "Poor             247\n",
       "Average          183\n",
       "Below Average    149\n",
       "Good             139\n",
       "Name: count, dtype: int64"
      ]
     },
     "execution_count": 108,
     "metadata": {},
     "output_type": "execute_result"
    }
   ],
   "source": [
    "# Create performance categories\n",
    "def classify_performance(grade):\n",
    "    if grade >= 90:\n",
    "        return 'Excellent'\n",
    "    elif grade >= 80:\n",
    "        return 'Good'\n",
    "    elif grade >= 70:\n",
    "        return 'Average'\n",
    "    elif grade >= 60:\n",
    "        return 'Below Average'\n",
    "    else:\n",
    "        return 'Poor'\n",
    "\n",
    "students_data['Performance Category'] = students_data['Final Grade'].apply(classify_performance)\n",
    "\n",
    "# Show performance distribution\n",
    "students_data['Performance Category'].value_counts()"
   ]
  },
  {
   "cell_type": "code",
   "execution_count": 109,
   "id": "805b3079",
   "metadata": {},
   "outputs": [
    {
     "data": {
      "application/vnd.microsoft.datawrangler.viewer.v0+json": {
       "columns": [
        {
         "name": "Performance Category",
         "rawType": "object",
         "type": "string"
        },
        {
         "name": "Avg_Attendance",
         "rawType": "float64",
         "type": "float"
        },
        {
         "name": "Std_Attendance",
         "rawType": "float64",
         "type": "float"
        },
        {
         "name": "Avg_Grade",
         "rawType": "float64",
         "type": "float"
        },
        {
         "name": "Student_Count",
         "rawType": "int64",
         "type": "integer"
        }
       ],
       "ref": "3c4069f1-a7a1-421f-9e22-eceaf8185219",
       "rows": [
        [
         "Average",
         "71.8",
         "14.27",
         "77.01",
         "183"
        ],
        [
         "Below Average",
         "75.47",
         "15.33",
         "67.85",
         "149"
        ],
        [
         "Excellent",
         "74.29",
         "14.18",
         "92.27",
         "284"
        ],
        [
         "Good",
         "74.4",
         "14.3",
         "82.1",
         "139"
        ],
        [
         "Poor",
         "73.4",
         "14.46",
         "53.8",
         "247"
        ]
       ],
       "shape": {
        "columns": 4,
        "rows": 5
       }
      },
      "text/html": [
       "<div>\n",
       "<style scoped>\n",
       "    .dataframe tbody tr th:only-of-type {\n",
       "        vertical-align: middle;\n",
       "    }\n",
       "\n",
       "    .dataframe tbody tr th {\n",
       "        vertical-align: top;\n",
       "    }\n",
       "\n",
       "    .dataframe thead th {\n",
       "        text-align: right;\n",
       "    }\n",
       "</style>\n",
       "<table border=\"1\" class=\"dataframe\">\n",
       "  <thead>\n",
       "    <tr style=\"text-align: right;\">\n",
       "      <th></th>\n",
       "      <th>Avg_Attendance</th>\n",
       "      <th>Std_Attendance</th>\n",
       "      <th>Avg_Grade</th>\n",
       "      <th>Student_Count</th>\n",
       "    </tr>\n",
       "    <tr>\n",
       "      <th>Performance Category</th>\n",
       "      <th></th>\n",
       "      <th></th>\n",
       "      <th></th>\n",
       "      <th></th>\n",
       "    </tr>\n",
       "  </thead>\n",
       "  <tbody>\n",
       "    <tr>\n",
       "      <th>Average</th>\n",
       "      <td>71.80</td>\n",
       "      <td>14.27</td>\n",
       "      <td>77.01</td>\n",
       "      <td>183</td>\n",
       "    </tr>\n",
       "    <tr>\n",
       "      <th>Below Average</th>\n",
       "      <td>75.47</td>\n",
       "      <td>15.33</td>\n",
       "      <td>67.85</td>\n",
       "      <td>149</td>\n",
       "    </tr>\n",
       "    <tr>\n",
       "      <th>Excellent</th>\n",
       "      <td>74.29</td>\n",
       "      <td>14.18</td>\n",
       "      <td>92.27</td>\n",
       "      <td>284</td>\n",
       "    </tr>\n",
       "    <tr>\n",
       "      <th>Good</th>\n",
       "      <td>74.40</td>\n",
       "      <td>14.30</td>\n",
       "      <td>82.10</td>\n",
       "      <td>139</td>\n",
       "    </tr>\n",
       "    <tr>\n",
       "      <th>Poor</th>\n",
       "      <td>73.40</td>\n",
       "      <td>14.46</td>\n",
       "      <td>53.80</td>\n",
       "      <td>247</td>\n",
       "    </tr>\n",
       "  </tbody>\n",
       "</table>\n",
       "</div>"
      ],
      "text/plain": [
       "                      Avg_Attendance  Std_Attendance  Avg_Grade  Student_Count\n",
       "Performance Category                                                          \n",
       "Average                        71.80           14.27      77.01            183\n",
       "Below Average                  75.47           15.33      67.85            149\n",
       "Excellent                      74.29           14.18      92.27            284\n",
       "Good                           74.40           14.30      82.10            139\n",
       "Poor                           73.40           14.46      53.80            247"
      ]
     },
     "execution_count": 109,
     "metadata": {},
     "output_type": "execute_result"
    }
   ],
   "source": [
    "# Analyze patterns by performance category\n",
    "performance_analysis = students_data.groupby('Performance Category').agg({\n",
    "    'Attendance (%)': ['mean', 'std'],\n",
    "    'Final Grade': ['mean', 'count']\n",
    "}).round(2)\n",
    "\n",
    "performance_analysis.columns = ['Avg_Attendance', 'Std_Attendance', 'Avg_Grade', 'Student_Count']\n",
    "\n",
    "# Show participation distribution by performance category separately\n",
    "participation_by_performance = students_data.groupby(['Performance Category', 'Participation']).size().unstack(fill_value=0)\n",
    "\n",
    "performance_analysis"
   ]
  },
  {
   "cell_type": "code",
   "execution_count": 110,
   "id": "a7be53e2",
   "metadata": {},
   "outputs": [
    {
     "data": {
      "application/vnd.microsoft.datawrangler.viewer.v0+json": {
       "columns": [
        {
         "name": "Performance Category",
         "rawType": "object",
         "type": "string"
        },
        {
         "name": "high",
         "rawType": "int64",
         "type": "integer"
        },
        {
         "name": "low",
         "rawType": "int64",
         "type": "integer"
        },
        {
         "name": "medium",
         "rawType": "int64",
         "type": "integer"
        }
       ],
       "ref": "45bfa227-870f-4345-80fa-3e4dc4c8e383",
       "rows": [
        [
         "Average",
         "69",
         "60",
         "54"
        ],
        [
         "Below Average",
         "46",
         "46",
         "57"
        ],
        [
         "Excellent",
         "102",
         "89",
         "93"
        ],
        [
         "Good",
         "54",
         "42",
         "43"
        ],
        [
         "Poor",
         "93",
         "68",
         "86"
        ]
       ],
       "shape": {
        "columns": 3,
        "rows": 5
       }
      },
      "text/html": [
       "<div>\n",
       "<style scoped>\n",
       "    .dataframe tbody tr th:only-of-type {\n",
       "        vertical-align: middle;\n",
       "    }\n",
       "\n",
       "    .dataframe tbody tr th {\n",
       "        vertical-align: top;\n",
       "    }\n",
       "\n",
       "    .dataframe thead th {\n",
       "        text-align: right;\n",
       "    }\n",
       "</style>\n",
       "<table border=\"1\" class=\"dataframe\">\n",
       "  <thead>\n",
       "    <tr style=\"text-align: right;\">\n",
       "      <th>Participation</th>\n",
       "      <th>high</th>\n",
       "      <th>low</th>\n",
       "      <th>medium</th>\n",
       "    </tr>\n",
       "    <tr>\n",
       "      <th>Performance Category</th>\n",
       "      <th></th>\n",
       "      <th></th>\n",
       "      <th></th>\n",
       "    </tr>\n",
       "  </thead>\n",
       "  <tbody>\n",
       "    <tr>\n",
       "      <th>Average</th>\n",
       "      <td>69</td>\n",
       "      <td>60</td>\n",
       "      <td>54</td>\n",
       "    </tr>\n",
       "    <tr>\n",
       "      <th>Below Average</th>\n",
       "      <td>46</td>\n",
       "      <td>46</td>\n",
       "      <td>57</td>\n",
       "    </tr>\n",
       "    <tr>\n",
       "      <th>Excellent</th>\n",
       "      <td>102</td>\n",
       "      <td>89</td>\n",
       "      <td>93</td>\n",
       "    </tr>\n",
       "    <tr>\n",
       "      <th>Good</th>\n",
       "      <td>54</td>\n",
       "      <td>42</td>\n",
       "      <td>43</td>\n",
       "    </tr>\n",
       "    <tr>\n",
       "      <th>Poor</th>\n",
       "      <td>93</td>\n",
       "      <td>68</td>\n",
       "      <td>86</td>\n",
       "    </tr>\n",
       "  </tbody>\n",
       "</table>\n",
       "</div>"
      ],
      "text/plain": [
       "Participation         high  low  medium\n",
       "Performance Category                   \n",
       "Average                 69   60      54\n",
       "Below Average           46   46      57\n",
       "Excellent              102   89      93\n",
       "Good                    54   42      43\n",
       "Poor                    93   68      86"
      ]
     },
     "execution_count": 110,
     "metadata": {},
     "output_type": "execute_result"
    }
   ],
   "source": [
    "# Show participation distribution by performance category\n",
    "participation_by_performance"
   ]
  },
  {
   "cell_type": "code",
   "execution_count": 111,
   "id": "9539b540",
   "metadata": {},
   "outputs": [
    {
     "name": "stdout",
     "output_type": "stream",
     "text": [
      "Dataset saved successfully!\n"
     ]
    }
   ],
   "source": [
    "# Save the cleaned and processed dataset\n",
    "students_data.to_csv('cleaned_student_performance_data.csv', index=False)\n",
    "print(\"Dataset saved successfully!\")"
   ]
  },
  {
   "cell_type": "markdown",
   "id": "ee4844ca",
   "metadata": {},
   "source": [
    "# Summary and Key Insights\n",
    "\n",
    "## What We Accomplished:\n",
    "1. **Data Cleaning**: Fixed messy attendance data, handled missing values\n",
    "2. **Feature Engineering**: Created numeric participation levels and performance categories\n",
    "3. **Machine Learning**: Used Random Forest to predict missing Final Grades\n",
    "4. **Visualization**: Created comprehensive charts showing relationships between features\n",
    "5. **Classification**: Categorized students into performance levels\n",
    "\n",
    "## Next Steps You Could Take:\n",
    "- **Build a Predictive Model**: Create a classifier to predict if a student will pass/fail\n",
    "- **Advanced Analysis**: Explore more complex relationships between variables\n",
    "- **Reporting**: Create a dashboard or report for teachers/administrators\n",
    "- **Intervention Strategies**: Identify students at risk based on attendance/participation patterns"
   ]
  },
  {
   "cell_type": "code",
   "execution_count": 112,
   "id": "35978de6",
   "metadata": {},
   "outputs": [
    {
     "data": {
      "application/vnd.microsoft.datawrangler.viewer.v0+json": {
       "columns": [
        {
         "name": "Pass_Fail",
         "rawType": "object",
         "type": "string"
        },
        {
         "name": "count",
         "rawType": "int64",
         "type": "integer"
        }
       ],
       "ref": "cedb87eb-0c56-44a5-9cf1-7a4c09d65ab4",
       "rows": [
        [
         "Pass",
         "755"
        ],
        [
         "Fail",
         "247"
        ]
       ],
       "shape": {
        "columns": 1,
        "rows": 2
       }
      },
      "text/plain": [
       "Pass_Fail\n",
       "Pass    755\n",
       "Fail    247\n",
       "Name: count, dtype: int64"
      ]
     },
     "execution_count": 112,
     "metadata": {},
     "output_type": "execute_result"
    }
   ],
   "source": [
    "# Create Pass/Fail classification target\n",
    "# Define passing grade threshold (60 or above)\n",
    "students_data['Pass_Fail'] = students_data['Final Grade'].apply(lambda x: 'Pass' if x >= 60 else 'Fail')\n",
    "\n",
    "# Show distribution\n",
    "students_data['Pass_Fail'].value_counts()"
   ]
  },
  {
   "cell_type": "code",
   "execution_count": 113,
   "id": "39209f56",
   "metadata": {},
   "outputs": [
    {
     "data": {
      "application/vnd.microsoft.datawrangler.viewer.v0+json": {
       "columns": [
        {
         "name": "index",
         "rawType": "int64",
         "type": "integer"
        },
        {
         "name": "Model",
         "rawType": "object",
         "type": "string"
        },
        {
         "name": "Accuracy",
         "rawType": "float64",
         "type": "float"
        },
        {
         "name": "CV_Mean",
         "rawType": "float64",
         "type": "float"
        },
        {
         "name": "CV_Std",
         "rawType": "float64",
         "type": "float"
        }
       ],
       "ref": "4e2773be-25fb-42a1-b658-77353a083b8d",
       "rows": [
        [
         "0",
         "Random Forest",
         "0.6667",
         "0.7236",
         "0.0286"
        ],
        [
         "1",
         "Logistic Regression",
         "0.7512",
         "0.7535",
         "0.0018"
        ],
        [
         "2",
         "Gradient Boosting",
         "0.7363",
         "0.7475",
         "0.0119"
        ],
        [
         "3",
         "SVM",
         "0.7512",
         "0.7535",
         "0.0018"
        ]
       ],
       "shape": {
        "columns": 4,
        "rows": 4
       }
      },
      "text/html": [
       "<div>\n",
       "<style scoped>\n",
       "    .dataframe tbody tr th:only-of-type {\n",
       "        vertical-align: middle;\n",
       "    }\n",
       "\n",
       "    .dataframe tbody tr th {\n",
       "        vertical-align: top;\n",
       "    }\n",
       "\n",
       "    .dataframe thead th {\n",
       "        text-align: right;\n",
       "    }\n",
       "</style>\n",
       "<table border=\"1\" class=\"dataframe\">\n",
       "  <thead>\n",
       "    <tr style=\"text-align: right;\">\n",
       "      <th></th>\n",
       "      <th>Model</th>\n",
       "      <th>Accuracy</th>\n",
       "      <th>CV_Mean</th>\n",
       "      <th>CV_Std</th>\n",
       "    </tr>\n",
       "  </thead>\n",
       "  <tbody>\n",
       "    <tr>\n",
       "      <th>0</th>\n",
       "      <td>Random Forest</td>\n",
       "      <td>0.6667</td>\n",
       "      <td>0.7236</td>\n",
       "      <td>0.0286</td>\n",
       "    </tr>\n",
       "    <tr>\n",
       "      <th>1</th>\n",
       "      <td>Logistic Regression</td>\n",
       "      <td>0.7512</td>\n",
       "      <td>0.7535</td>\n",
       "      <td>0.0018</td>\n",
       "    </tr>\n",
       "    <tr>\n",
       "      <th>2</th>\n",
       "      <td>Gradient Boosting</td>\n",
       "      <td>0.7363</td>\n",
       "      <td>0.7475</td>\n",
       "      <td>0.0119</td>\n",
       "    </tr>\n",
       "    <tr>\n",
       "      <th>3</th>\n",
       "      <td>SVM</td>\n",
       "      <td>0.7512</td>\n",
       "      <td>0.7535</td>\n",
       "      <td>0.0018</td>\n",
       "    </tr>\n",
       "  </tbody>\n",
       "</table>\n",
       "</div>"
      ],
      "text/plain": [
       "                 Model  Accuracy  CV_Mean  CV_Std\n",
       "0        Random Forest    0.6667   0.7236  0.0286\n",
       "1  Logistic Regression    0.7512   0.7535  0.0018\n",
       "2    Gradient Boosting    0.7363   0.7475  0.0119\n",
       "3                  SVM    0.7512   0.7535  0.0018"
      ]
     },
     "execution_count": 113,
     "metadata": {},
     "output_type": "execute_result"
    }
   ],
   "source": [
    "# Build Pass/Fail Classification Models\n",
    "from sklearn.model_selection import train_test_split, cross_val_score\n",
    "from sklearn.ensemble import RandomForestClassifier, GradientBoostingClassifier\n",
    "from sklearn.linear_model import LogisticRegression\n",
    "from sklearn.svm import SVC\n",
    "from sklearn.metrics import classification_report, confusion_matrix, accuracy_score\n",
    "from sklearn.preprocessing import LabelEncoder\n",
    "\n",
    "# Prepare features for classification\n",
    "X_class = students_data[['Attendance (%)', 'Participation_Numeric']].copy()\n",
    "y_class = LabelEncoder().fit_transform(students_data['Pass_Fail'])  # 0=Fail, 1=Pass\n",
    "\n",
    "# Split the data\n",
    "X_train_class, X_test_class, y_train_class, y_test_class = train_test_split(\n",
    "    X_class, y_class, test_size=0.2, random_state=42, stratify=y_class\n",
    ")\n",
    "\n",
    "# Train multiple models\n",
    "models = {\n",
    "    'Random Forest': RandomForestClassifier(n_estimators=100, random_state=42),\n",
    "    'Logistic Regression': LogisticRegression(random_state=42),\n",
    "    'Gradient Boosting': GradientBoostingClassifier(random_state=42),\n",
    "    'SVM': SVC(random_state=42)\n",
    "}\n",
    "\n",
    "model_results = {}\n",
    "\n",
    "for name, model in models.items():\n",
    "    # Train model\n",
    "    model.fit(X_train_class, y_train_class)\n",
    "    \n",
    "    # Make predictions\n",
    "    y_pred_class = model.predict(X_test_class)\n",
    "    \n",
    "    # Calculate accuracy\n",
    "    accuracy = accuracy_score(y_test_class, y_pred_class)\n",
    "    \n",
    "    # Cross-validation score\n",
    "    cv_scores = cross_val_score(model, X_class, y_class, cv=5)\n",
    "    \n",
    "    model_results[name] = {\n",
    "        'accuracy': accuracy,\n",
    "        'cv_mean': cv_scores.mean(),\n",
    "        'cv_std': cv_scores.std(),\n",
    "        'model': model\n",
    "    }\n",
    "\n",
    "# Display results\n",
    "results_df = pd.DataFrame({\n",
    "    'Model': model_results.keys(),\n",
    "    'Accuracy': [results['accuracy'] for results in model_results.values()],\n",
    "    'CV_Mean': [results['cv_mean'] for results in model_results.values()],\n",
    "    'CV_Std': [results['cv_std'] for results in model_results.values()]\n",
    "}).round(4)\n",
    "\n",
    "results_df"
   ]
  },
  {
   "cell_type": "code",
   "execution_count": 114,
   "id": "cad765d8",
   "metadata": {},
   "outputs": [
    {
     "data": {
      "application/vnd.microsoft.datawrangler.viewer.v0+json": {
       "columns": [
        {
         "name": "index",
         "rawType": "object",
         "type": "string"
        },
        {
         "name": "precision",
         "rawType": "float64",
         "type": "float"
        },
        {
         "name": "recall",
         "rawType": "float64",
         "type": "float"
        },
        {
         "name": "f1-score",
         "rawType": "float64",
         "type": "float"
        },
        {
         "name": "support",
         "rawType": "float64",
         "type": "float"
        }
       ],
       "ref": "ab508009-f15a-4f06-935a-9304e9115ed7",
       "rows": [
        [
         "Fail",
         "0.13",
         "0.06",
         "0.082",
         "50.0"
        ],
        [
         "Pass",
         "0.736",
         "0.868",
         "0.796",
         "151.0"
        ],
        [
         "accuracy",
         "0.667",
         "0.667",
         "0.667",
         "0.667"
        ],
        [
         "macro avg",
         "0.433",
         "0.464",
         "0.439",
         "201.0"
        ],
        [
         "weighted avg",
         "0.585",
         "0.667",
         "0.619",
         "201.0"
        ]
       ],
       "shape": {
        "columns": 4,
        "rows": 5
       }
      },
      "text/html": [
       "<div>\n",
       "<style scoped>\n",
       "    .dataframe tbody tr th:only-of-type {\n",
       "        vertical-align: middle;\n",
       "    }\n",
       "\n",
       "    .dataframe tbody tr th {\n",
       "        vertical-align: top;\n",
       "    }\n",
       "\n",
       "    .dataframe thead th {\n",
       "        text-align: right;\n",
       "    }\n",
       "</style>\n",
       "<table border=\"1\" class=\"dataframe\">\n",
       "  <thead>\n",
       "    <tr style=\"text-align: right;\">\n",
       "      <th></th>\n",
       "      <th>precision</th>\n",
       "      <th>recall</th>\n",
       "      <th>f1-score</th>\n",
       "      <th>support</th>\n",
       "    </tr>\n",
       "  </thead>\n",
       "  <tbody>\n",
       "    <tr>\n",
       "      <th>Fail</th>\n",
       "      <td>0.130</td>\n",
       "      <td>0.060</td>\n",
       "      <td>0.082</td>\n",
       "      <td>50.000</td>\n",
       "    </tr>\n",
       "    <tr>\n",
       "      <th>Pass</th>\n",
       "      <td>0.736</td>\n",
       "      <td>0.868</td>\n",
       "      <td>0.796</td>\n",
       "      <td>151.000</td>\n",
       "    </tr>\n",
       "    <tr>\n",
       "      <th>accuracy</th>\n",
       "      <td>0.667</td>\n",
       "      <td>0.667</td>\n",
       "      <td>0.667</td>\n",
       "      <td>0.667</td>\n",
       "    </tr>\n",
       "    <tr>\n",
       "      <th>macro avg</th>\n",
       "      <td>0.433</td>\n",
       "      <td>0.464</td>\n",
       "      <td>0.439</td>\n",
       "      <td>201.000</td>\n",
       "    </tr>\n",
       "    <tr>\n",
       "      <th>weighted avg</th>\n",
       "      <td>0.585</td>\n",
       "      <td>0.667</td>\n",
       "      <td>0.619</td>\n",
       "      <td>201.000</td>\n",
       "    </tr>\n",
       "  </tbody>\n",
       "</table>\n",
       "</div>"
      ],
      "text/plain": [
       "              precision  recall  f1-score  support\n",
       "Fail              0.130   0.060     0.082   50.000\n",
       "Pass              0.736   0.868     0.796  151.000\n",
       "accuracy          0.667   0.667     0.667    0.667\n",
       "macro avg         0.433   0.464     0.439  201.000\n",
       "weighted avg      0.585   0.667     0.619  201.000"
      ]
     },
     "execution_count": 114,
     "metadata": {},
     "output_type": "execute_result"
    }
   ],
   "source": [
    "# Detailed analysis of best model (Random Forest typically performs well)\n",
    "best_model = model_results['Random Forest']['model']\n",
    "y_pred_best = best_model.predict(X_test_class)\n",
    "\n",
    "# Classification report\n",
    "class_report = classification_report(y_test_class, y_pred_best, \n",
    "                                   target_names=['Fail', 'Pass'], output_dict=True)\n",
    "report_df = pd.DataFrame(class_report).transpose()\n",
    "report_df.round(3)"
   ]
  },
  {
   "cell_type": "code",
   "execution_count": 115,
   "id": "915526c4",
   "metadata": {},
   "outputs": [
    {
     "data": {
      "image/png": "[encoded data removed]",
      "text/plain": [
       "<Figure size 800x600 with 2 Axes>"
      ]
     },
     "metadata": {},
     "output_type": "display_data"
    },
    {
     "data": {
      "application/vnd.microsoft.datawrangler.viewer.v0+json": {
       "columns": [
        {
         "name": "index",
         "rawType": "int64",
         "type": "integer"
        },
        {
         "name": "Feature",
         "rawType": "object",
         "type": "string"
        },
        {
         "name": "Importance",
         "rawType": "float64",
         "type": "float"
        }
       ],
       "ref": "dbc00e23-78cd-4e04-a354-a7ffba42784d",
       "rows": [
        [
         "0",
         "Attendance (%)",
         "0.9245409062001567"
        ],
        [
         "1",
         "Participation Level",
         "0.0754590937998432"
        ]
       ],
       "shape": {
        "columns": 2,
        "rows": 2
       }
      },
      "text/html": [
       "<div>\n",
       "<style scoped>\n",
       "    .dataframe tbody tr th:only-of-type {\n",
       "        vertical-align: middle;\n",
       "    }\n",
       "\n",
       "    .dataframe tbody tr th {\n",
       "        vertical-align: top;\n",
       "    }\n",
       "\n",
       "    .dataframe thead th {\n",
       "        text-align: right;\n",
       "    }\n",
       "</style>\n",
       "<table border=\"1\" class=\"dataframe\">\n",
       "  <thead>\n",
       "    <tr style=\"text-align: right;\">\n",
       "      <th></th>\n",
       "      <th>Feature</th>\n",
       "      <th>Importance</th>\n",
       "    </tr>\n",
       "  </thead>\n",
       "  <tbody>\n",
       "    <tr>\n",
       "      <th>0</th>\n",
       "      <td>Attendance (%)</td>\n",
       "      <td>0.924541</td>\n",
       "    </tr>\n",
       "    <tr>\n",
       "      <th>1</th>\n",
       "      <td>Participation Level</td>\n",
       "      <td>0.075459</td>\n",
       "    </tr>\n",
       "  </tbody>\n",
       "</table>\n",
       "</div>"
      ],
      "text/plain": [
       "               Feature  Importance\n",
       "0       Attendance (%)    0.924541\n",
       "1  Participation Level    0.075459"
      ]
     },
     "execution_count": 115,
     "metadata": {},
     "output_type": "execute_result"
    }
   ],
   "source": [
    "# Confusion Matrix Visualization\n",
    "plt.figure(figsize=(8, 6))\n",
    "cm = confusion_matrix(y_test_class, y_pred_best)\n",
    "sns.heatmap(cm, annot=True, fmt='d', cmap='Blues', \n",
    "            xticklabels=['Fail', 'Pass'], yticklabels=['Fail', 'Pass'])\n",
    "plt.title('Confusion Matrix - Pass/Fail Prediction')\n",
    "plt.xlabel('Predicted')\n",
    "plt.ylabel('Actual')\n",
    "plt.show()\n",
    "\n",
    "# Feature importance for the best model\n",
    "feature_importance = pd.DataFrame({\n",
    "    'Feature': ['Attendance (%)', 'Participation Level'],\n",
    "    'Importance': best_model.feature_importances_\n",
    "}).sort_values('Importance', ascending=False)\n",
    "\n",
    "feature_importance"
   ]
  },
  {
   "cell_type": "markdown",
   "id": "192bcba0",
   "metadata": {},
   "source": [
    "# Risk Identification & Intervention Strategies\n",
    "Identify students at risk and create intervention recommendations."
   ]
  },
  {
   "cell_type": "code",
   "execution_count": null,
   "id": "6adab43a",
   "metadata": {},
   "outputs": [],
   "source": [
    "# Risk Assessment System\n",
    "def assess_student_risk(attendance, participation):\n",
    "    \"\"\"Assess student risk level based on attendance and participation\"\"\"\n",
    "    participation_numeric = {'low': 0, 'medium': 1, 'high': 2}[participation.lower()]\n",
    "    \n",
    "    # Predict probability of failure\n",
    "    prob_fail = 1 - best_model.predict_proba([[attendance, participation_numeric]])[0][1]\n",
    "    \n",
    "    # Risk categories\n",
    "    if prob_fail > 0.7:\n",
    "        return 'High Risk', prob_fail\n",
    "    elif prob_fail > 0.4:\n",
    "        return 'Medium Risk', prob_fail\n",
    "    else:\n",
    "        return 'Low Risk', prob_fail\n",
    "\n",
    "# Apply risk assessment to all students\n",
    "students_data['Risk_Level'] = students_data.apply(\n",
    "    lambda row: assess_student_risk(row['Attendance (%)'], row['Participation'])[0], axis=1\n",
    ")\n",
    "\n",
    "students_data['Risk_Probability'] = students_data.apply(\n",
    "    lambda row: assess_student_risk(row['Attendance (%)'], row['Participation'])[1], axis=1\n",
    ")\n",
    "\n",
    "# Show risk distribution\n",
    "students_data['Risk_Level'].value_counts()"
   ]
  },
  {
   "cell_type": "code",
   "execution_count": 83,
   "id": "0d81f527",
   "metadata": {},
   "outputs": [
    {
     "data": {
      "application/vnd.microsoft.datawrangler.viewer.v0+json": {
       "columns": [
        {
         "name": "index",
         "rawType": "int64",
         "type": "integer"
        },
        {
         "name": "Student_ID",
         "rawType": "float64",
         "type": "float"
        },
        {
         "name": "Attendance",
         "rawType": "object",
         "type": "string"
        },
        {
         "name": "Participation",
         "rawType": "object",
         "type": "string"
        },
        {
         "name": "Risk_Probability",
         "rawType": "object",
         "type": "string"
        },
        {
         "name": "Recommendations",
         "rawType": "object",
         "type": "string"
        }
       ],
       "ref": "5a00d81e-1f5c-4e18-98f2-d2f6f81c1173",
       "rows": [
        [
         "0",
         "960.0",
         "64%",
         "Medium",
         "75.60%",
         "🚨 URGENT: Schedule immediate meeting with student and parents | 📞 Contact student about attendance issues | 📋 Implement attendance monitoring plan | 📚 Offer additional office hours or tutoring | 💬 Check for personal challenges affecting performance | 📈 Create individualized learning plan | ⏰ Set up weekly check-ins to monitor progress"
        ],
        [
         "1",
         "763.0",
         "87%",
         "Low",
         "78.60%",
         "🚨 URGENT: Schedule immediate meeting with student and parents | 🤝 Provide extra encouragement and support in class | 👥 Consider peer tutoring or study groups | 📈 Create individualized learning plan | ⏰ Set up weekly check-ins to monitor progress"
        ],
        [
         "2",
         "905.0",
         "70%",
         "High",
         "100.00%",
         "🚨 URGENT: Schedule immediate meeting with student and parents | 📈 Create individualized learning plan | ⏰ Set up weekly check-ins to monitor progress"
        ],
        [
         "3",
         "956.0",
         "64%",
         "Medium",
         "75.60%",
         "🚨 URGENT: Schedule immediate meeting with student and parents | 📞 Contact student about attendance issues | 📋 Implement attendance monitoring plan | 📚 Offer additional office hours or tutoring | 💬 Check for personal challenges affecting performance | 📈 Create individualized learning plan | ⏰ Set up weekly check-ins to monitor progress"
        ],
        [
         "4",
         "997.0",
         "87%",
         "Low",
         "78.60%",
         "🚨 URGENT: Schedule immediate meeting with student and parents | 🤝 Provide extra encouragement and support in class | 👥 Consider peer tutoring or study groups | 📈 Create individualized learning plan | ⏰ Set up weekly check-ins to monitor progress"
        ],
        [
         "5",
         "608.0",
         "87%",
         "Low",
         "78.60%",
         "🚨 URGENT: Schedule immediate meeting with student and parents | 🤝 Provide extra encouragement and support in class | 👥 Consider peer tutoring or study groups | 📈 Create individualized learning plan | ⏰ Set up weekly check-ins to monitor progress"
        ],
        [
         "6",
         "802.0",
         "64%",
         "Medium",
         "75.60%",
         "🚨 URGENT: Schedule immediate meeting with student and parents | 📞 Contact student about attendance issues | 📋 Implement attendance monitoring plan | 📚 Offer additional office hours or tutoring | 💬 Check for personal challenges affecting performance | 📈 Create individualized learning plan | ⏰ Set up weekly check-ins to monitor progress"
        ],
        [
         "7",
         "655.0",
         "98%",
         "Medium",
         "72.70%",
         "🚨 URGENT: Schedule immediate meeting with student and parents | 📈 Create individualized learning plan | ⏰ Set up weekly check-ins to monitor progress"
        ],
        [
         "8",
         "369.0",
         "70%",
         "High",
         "100.00%",
         "🚨 URGENT: Schedule immediate meeting with student and parents | 📈 Create individualized learning plan | ⏰ Set up weekly check-ins to monitor progress"
        ],
        [
         "9",
         "891.0",
         "64%",
         "Medium",
         "75.60%",
         "🚨 URGENT: Schedule immediate meeting with student and parents | 📞 Contact student about attendance issues | 📋 Implement attendance monitoring plan | 📚 Offer additional office hours or tutoring | 💬 Check for personal challenges affecting performance | 📈 Create individualized learning plan | ⏰ Set up weekly check-ins to monitor progress"
        ]
       ],
       "shape": {
        "columns": 5,
        "rows": 10
       }
      },
      "text/html": [
       "<div>\n",
       "<style scoped>\n",
       "    .dataframe tbody tr th:only-of-type {\n",
       "        vertical-align: middle;\n",
       "    }\n",
       "\n",
       "    .dataframe tbody tr th {\n",
       "        vertical-align: top;\n",
       "    }\n",
       "\n",
       "    .dataframe thead th {\n",
       "        text-align: right;\n",
       "    }\n",
       "</style>\n",
       "<table border=\"1\" class=\"dataframe\">\n",
       "  <thead>\n",
       "    <tr style=\"text-align: right;\">\n",
       "      <th></th>\n",
       "      <th>Student_ID</th>\n",
       "      <th>Attendance</th>\n",
       "      <th>Participation</th>\n",
       "      <th>Risk_Probability</th>\n",
       "      <th>Recommendations</th>\n",
       "    </tr>\n",
       "  </thead>\n",
       "  <tbody>\n",
       "    <tr>\n",
       "      <th>0</th>\n",
       "      <td>960.0</td>\n",
       "      <td>64%</td>\n",
       "      <td>Medium</td>\n",
       "      <td>75.60%</td>\n",
       "      <td>🚨 URGENT: Schedule immediate meeting with stud...</td>\n",
       "    </tr>\n",
       "    <tr>\n",
       "      <th>1</th>\n",
       "      <td>763.0</td>\n",
       "      <td>87%</td>\n",
       "      <td>Low</td>\n",
       "      <td>78.60%</td>\n",
       "      <td>🚨 URGENT: Schedule immediate meeting with stud...</td>\n",
       "    </tr>\n",
       "    <tr>\n",
       "      <th>2</th>\n",
       "      <td>905.0</td>\n",
       "      <td>70%</td>\n",
       "      <td>High</td>\n",
       "      <td>100.00%</td>\n",
       "      <td>🚨 URGENT: Schedule immediate meeting with stud...</td>\n",
       "    </tr>\n",
       "    <tr>\n",
       "      <th>3</th>\n",
       "      <td>956.0</td>\n",
       "      <td>64%</td>\n",
       "      <td>Medium</td>\n",
       "      <td>75.60%</td>\n",
       "      <td>🚨 URGENT: Schedule immediate meeting with stud...</td>\n",
       "    </tr>\n",
       "    <tr>\n",
       "      <th>4</th>\n",
       "      <td>997.0</td>\n",
       "      <td>87%</td>\n",
       "      <td>Low</td>\n",
       "      <td>78.60%</td>\n",
       "      <td>🚨 URGENT: Schedule immediate meeting with stud...</td>\n",
       "    </tr>\n",
       "    <tr>\n",
       "      <th>5</th>\n",
       "      <td>608.0</td>\n",
       "      <td>87%</td>\n",
       "      <td>Low</td>\n",
       "      <td>78.60%</td>\n",
       "      <td>🚨 URGENT: Schedule immediate meeting with stud...</td>\n",
       "    </tr>\n",
       "    <tr>\n",
       "      <th>6</th>\n",
       "      <td>802.0</td>\n",
       "      <td>64%</td>\n",
       "      <td>Medium</td>\n",
       "      <td>75.60%</td>\n",
       "      <td>🚨 URGENT: Schedule immediate meeting with stud...</td>\n",
       "    </tr>\n",
       "    <tr>\n",
       "      <th>7</th>\n",
       "      <td>655.0</td>\n",
       "      <td>98%</td>\n",
       "      <td>Medium</td>\n",
       "      <td>72.70%</td>\n",
       "      <td>🚨 URGENT: Schedule immediate meeting with stud...</td>\n",
       "    </tr>\n",
       "    <tr>\n",
       "      <th>8</th>\n",
       "      <td>369.0</td>\n",
       "      <td>70%</td>\n",
       "      <td>High</td>\n",
       "      <td>100.00%</td>\n",
       "      <td>🚨 URGENT: Schedule immediate meeting with stud...</td>\n",
       "    </tr>\n",
       "    <tr>\n",
       "      <th>9</th>\n",
       "      <td>891.0</td>\n",
       "      <td>64%</td>\n",
       "      <td>Medium</td>\n",
       "      <td>75.60%</td>\n",
       "      <td>🚨 URGENT: Schedule immediate meeting with stud...</td>\n",
       "    </tr>\n",
       "  </tbody>\n",
       "</table>\n",
       "</div>"
      ],
      "text/plain": [
       "   Student_ID Attendance Participation Risk_Probability  \\\n",
       "0       960.0        64%        Medium           75.60%   \n",
       "1       763.0        87%           Low           78.60%   \n",
       "2       905.0        70%          High          100.00%   \n",
       "3       956.0        64%        Medium           75.60%   \n",
       "4       997.0        87%           Low           78.60%   \n",
       "5       608.0        87%           Low           78.60%   \n",
       "6       802.0        64%        Medium           75.60%   \n",
       "7       655.0        98%        Medium           72.70%   \n",
       "8       369.0        70%          High          100.00%   \n",
       "9       891.0        64%        Medium           75.60%   \n",
       "\n",
       "                                     Recommendations  \n",
       "0  🚨 URGENT: Schedule immediate meeting with stud...  \n",
       "1  🚨 URGENT: Schedule immediate meeting with stud...  \n",
       "2  🚨 URGENT: Schedule immediate meeting with stud...  \n",
       "3  🚨 URGENT: Schedule immediate meeting with stud...  \n",
       "4  🚨 URGENT: Schedule immediate meeting with stud...  \n",
       "5  🚨 URGENT: Schedule immediate meeting with stud...  \n",
       "6  🚨 URGENT: Schedule immediate meeting with stud...  \n",
       "7  🚨 URGENT: Schedule immediate meeting with stud...  \n",
       "8  🚨 URGENT: Schedule immediate meeting with stud...  \n",
       "9  🚨 URGENT: Schedule immediate meeting with stud...  "
      ]
     },
     "execution_count": 83,
     "metadata": {},
     "output_type": "execute_result"
    }
   ],
   "source": [
    "# Intervention Recommendations System\n",
    "def get_intervention_recommendations(attendance, participation, risk_level):\n",
    "    \"\"\"Generate personalized intervention recommendations\"\"\"\n",
    "    recommendations = []\n",
    "    \n",
    "    if risk_level == 'High Risk':\n",
    "        recommendations.append(\"🚨 URGENT: Schedule immediate meeting with student and parents\")\n",
    "        \n",
    "    if attendance < 70:\n",
    "        recommendations.append(\"📞 Contact student about attendance issues\")\n",
    "        recommendations.append(\"📋 Implement attendance monitoring plan\")\n",
    "        \n",
    "    if participation == 'low':\n",
    "        recommendations.append(\"🤝 Provide extra encouragement and support in class\")\n",
    "        recommendations.append(\"👥 Consider peer tutoring or study groups\")\n",
    "        \n",
    "    if attendance < 80 and participation in ['low', 'medium']:\n",
    "        recommendations.append(\"📚 Offer additional office hours or tutoring\")\n",
    "        recommendations.append(\"💬 Check for personal challenges affecting performance\")\n",
    "        \n",
    "    if risk_level in ['High Risk', 'Medium Risk']:\n",
    "        recommendations.append(\"📈 Create individualized learning plan\")\n",
    "        recommendations.append(\"⏰ Set up weekly check-ins to monitor progress\")\n",
    "        \n",
    "    return recommendations\n",
    "\n",
    "# Generate recommendations for high-risk students\n",
    "high_risk_students = students_data[students_data['Risk_Level'] == 'High Risk'].head(10)\n",
    "\n",
    "intervention_report = []\n",
    "for idx, student in high_risk_students.iterrows():\n",
    "    recommendations = get_intervention_recommendations(\n",
    "        student['Attendance (%)'], \n",
    "        student['Participation'], \n",
    "        student['Risk_Level']\n",
    "    )\n",
    "    \n",
    "    intervention_report.append({\n",
    "        'Student_ID': student['Student ID'],\n",
    "        'Attendance': f\"{student['Attendance (%)']}%\",\n",
    "        'Participation': student['Participation'].title(),\n",
    "        'Risk_Probability': f\"{student['Risk_Probability']:.2%}\",\n",
    "        'Recommendations': ' | '.join(recommendations)\n",
    "    })\n",
    "\n",
    "intervention_df = pd.DataFrame(intervention_report)\n",
    "intervention_df"
   ]
  },
  {
   "cell_type": "markdown",
   "id": "e4661473",
   "metadata": {},
   "source": [
    "# Advanced Analysis & Insights\n",
    "Explore complex relationships and patterns in student performance data."
   ]
  },
  {
   "cell_type": "code",
   "execution_count": 84,
   "id": "c1d5f195",
   "metadata": {},
   "outputs": [
    {
     "name": "stderr",
     "output_type": "stream",
     "text": [
      "/tmp/ipykernel_5826/2494335541.py:34: FutureWarning: The default of observed=False is deprecated and will be changed to True in a future version of pandas. Pass observed=False to retain current behavior or observed=True to adopt the future default and silence this warning.\n",
      "  pass_rates = students_data.groupby('Engagement_Group')['Pass_Fail'].apply(\n"
     ]
    },
    {
     "data": {
      "image/png": "[encoded data removed]",
      "text/plain": [
       "<Figure size 1200x800 with 4 Axes>"
      ]
     },
     "metadata": {},
     "output_type": "display_data"
    },
    {
     "name": "stderr",
     "output_type": "stream",
     "text": [
      "/tmp/ipykernel_5826/2494335541.py:50: FutureWarning: The default of observed=False is deprecated and will be changed to True in a future version of pandas. Pass observed=False to retain current behavior or observed=True to adopt the future default and silence this warning.\n",
      "  engagement_stats = students_data.groupby('Engagement_Group').agg({\n"
     ]
    },
    {
     "data": {
      "application/vnd.microsoft.datawrangler.viewer.v0+json": {
       "columns": [
        {
         "name": "Engagement_Group",
         "rawType": "category",
         "type": "unknown"
        },
        {
         "name": "Avg_Grade",
         "rawType": "float64",
         "type": "float"
        },
        {
         "name": "Std_Grade",
         "rawType": "float64",
         "type": "float"
        },
        {
         "name": "Count",
         "rawType": "int64",
         "type": "integer"
        },
        {
         "name": "Pass_Rate_%",
         "rawType": "float64",
         "type": "float"
        }
       ],
       "ref": "7cd4883b-78dc-4eb7-a032-e10ac906fd31",
       "rows": [
        [
         "Low",
         "74.36",
         "14.55",
         "116",
         "74.14"
        ],
        [
         "Medium",
         "75.82",
         "14.61",
         "339",
         "77.29"
        ],
        [
         "High",
         "73.83",
         "14.94",
         "314",
         "73.57"
        ],
        [
         "Very High",
         "75.51",
         "14.76",
         "233",
         "74.68"
        ]
       ],
       "shape": {
        "columns": 4,
        "rows": 4
       }
      },
      "text/html": [
       "<div>\n",
       "<style scoped>\n",
       "    .dataframe tbody tr th:only-of-type {\n",
       "        vertical-align: middle;\n",
       "    }\n",
       "\n",
       "    .dataframe tbody tr th {\n",
       "        vertical-align: top;\n",
       "    }\n",
       "\n",
       "    .dataframe thead th {\n",
       "        text-align: right;\n",
       "    }\n",
       "</style>\n",
       "<table border=\"1\" class=\"dataframe\">\n",
       "  <thead>\n",
       "    <tr style=\"text-align: right;\">\n",
       "      <th></th>\n",
       "      <th>Avg_Grade</th>\n",
       "      <th>Std_Grade</th>\n",
       "      <th>Count</th>\n",
       "      <th>Pass_Rate_%</th>\n",
       "    </tr>\n",
       "    <tr>\n",
       "      <th>Engagement_Group</th>\n",
       "      <th></th>\n",
       "      <th></th>\n",
       "      <th></th>\n",
       "      <th></th>\n",
       "    </tr>\n",
       "  </thead>\n",
       "  <tbody>\n",
       "    <tr>\n",
       "      <th>Low</th>\n",
       "      <td>74.36</td>\n",
       "      <td>14.55</td>\n",
       "      <td>116</td>\n",
       "      <td>74.14</td>\n",
       "    </tr>\n",
       "    <tr>\n",
       "      <th>Medium</th>\n",
       "      <td>75.82</td>\n",
       "      <td>14.61</td>\n",
       "      <td>339</td>\n",
       "      <td>77.29</td>\n",
       "    </tr>\n",
       "    <tr>\n",
       "      <th>High</th>\n",
       "      <td>73.83</td>\n",
       "      <td>14.94</td>\n",
       "      <td>314</td>\n",
       "      <td>73.57</td>\n",
       "    </tr>\n",
       "    <tr>\n",
       "      <th>Very High</th>\n",
       "      <td>75.51</td>\n",
       "      <td>14.76</td>\n",
       "      <td>233</td>\n",
       "      <td>74.68</td>\n",
       "    </tr>\n",
       "  </tbody>\n",
       "</table>\n",
       "</div>"
      ],
      "text/plain": [
       "                  Avg_Grade  Std_Grade  Count  Pass_Rate_%\n",
       "Engagement_Group                                          \n",
       "Low                   74.36      14.55    116        74.14\n",
       "Medium                75.82      14.61    339        77.29\n",
       "High                  73.83      14.94    314        73.57\n",
       "Very High             75.51      14.76    233        74.68"
      ]
     },
     "execution_count": 84,
     "metadata": {},
     "output_type": "execute_result"
    }
   ],
   "source": [
    "# Create Composite Engagement Score\n",
    "def calculate_engagement_score(attendance, participation):\n",
    "    \"\"\"Calculate a composite engagement score (0-100)\"\"\"\n",
    "    participation_weight = {'low': 0, 'medium': 50, 'high': 100}\n",
    "    participation_score = participation_weight[participation.lower()]\n",
    "    \n",
    "    # Weighted combination: 60% attendance, 40% participation\n",
    "    engagement_score = (attendance * 0.6) + (participation_score * 0.4)\n",
    "    return min(100, engagement_score)  # Cap at 100\n",
    "\n",
    "students_data['Engagement_Score'] = students_data.apply(\n",
    "    lambda row: calculate_engagement_score(row['Attendance (%)'], row['Participation']), axis=1\n",
    ")\n",
    "\n",
    "# Analyze engagement vs performance\n",
    "plt.figure(figsize=(12, 8))\n",
    "\n",
    "plt.subplot(2, 2, 1)\n",
    "plt.scatter(students_data['Engagement_Score'], students_data['Final Grade'], alpha=0.6)\n",
    "plt.xlabel('Engagement Score')\n",
    "plt.ylabel('Final Grade')\n",
    "plt.title('Engagement Score vs Final Grade')\n",
    "\n",
    "plt.subplot(2, 2, 2)\n",
    "engagement_groups = pd.cut(students_data['Engagement_Score'], \n",
    "                          bins=[0, 40, 60, 80, 100], \n",
    "                          labels=['Low', 'Medium', 'High', 'Very High'])\n",
    "students_data['Engagement_Group'] = engagement_groups\n",
    "sns.boxplot(data=students_data, x='Engagement_Group', y='Final Grade')\n",
    "plt.title('Final Grade by Engagement Level')\n",
    "plt.xticks(rotation=45)\n",
    "\n",
    "plt.subplot(2, 2, 3)\n",
    "pass_rates = students_data.groupby('Engagement_Group')['Pass_Fail'].apply(\n",
    "    lambda x: (x == 'Pass').mean() * 100\n",
    ")\n",
    "pass_rates.plot(kind='bar', color='skyblue')\n",
    "plt.title('Pass Rate by Engagement Level')\n",
    "plt.ylabel('Pass Rate (%)')\n",
    "plt.xticks(rotation=45)\n",
    "\n",
    "plt.subplot(2, 2, 4)\n",
    "students_data['Engagement_Group'].value_counts().plot(kind='pie', autopct='%1.1f%%')\n",
    "plt.title('Distribution of Engagement Levels')\n",
    "\n",
    "plt.tight_layout()\n",
    "plt.show()\n",
    "\n",
    "# Show engagement statistics\n",
    "engagement_stats = students_data.groupby('Engagement_Group').agg({\n",
    "    'Final Grade': ['mean', 'std', 'count'],\n",
    "    'Pass_Fail': lambda x: (x == 'Pass').mean() * 100\n",
    "}).round(2)\n",
    "\n",
    "engagement_stats.columns = ['Avg_Grade', 'Std_Grade', 'Count', 'Pass_Rate_%']\n",
    "engagement_stats"
   ]
  },
  {
   "cell_type": "markdown",
   "id": "2d2d607f",
   "metadata": {},
   "source": [
    "# Teacher Dashboard Summary\n",
    "A comprehensive summary for educators and administrators."
   ]
  },
  {
   "cell_type": "code",
   "execution_count": 85,
   "id": "a0ca1d66",
   "metadata": {},
   "outputs": [
    {
     "name": "stdout",
     "output_type": "stream",
     "text": [
      "🎯 STUDENT PERFORMANCE DASHBOARD\n",
      "==================================================\n",
      "📊 OVERALL STATISTICS:\n",
      "   Total Students: 1002\n",
      "   Pass Rate: 75.1%\n",
      "   Average Grade: 75.0\n",
      "   Average Attendance: 73.8%\n",
      "\n",
      "⚠️  RISK ASSESSMENT:\n",
      "   Low Risk: 825 students (82.3%)\n",
      "   Medium Risk: 132 students (13.2%)\n",
      "   High Risk: 45 students (4.5%)\n",
      "\n",
      "📈 PERFORMANCE BREAKDOWN:\n",
      "   Excellent: 284 students (28.3%)\n",
      "   Poor: 249 students (24.9%)\n",
      "   Average: 183 students (18.3%)\n",
      "   Below Average: 147 students (14.7%)\n",
      "   Good: 139 students (13.9%)\n",
      "\n",
      "🎯 ENGAGEMENT LEVELS:\n",
      "   Medium Engagement: 339 students (33.8%)\n",
      "   High Engagement: 314 students (31.3%)\n",
      "   Very High Engagement: 233 students (23.3%)\n",
      "   Low Engagement: 116 students (11.6%)\n",
      "\n",
      "🚨 PRIORITY ACTIONS NEEDED:\n",
      "   • 45 students need immediate intervention\n",
      "   • 450 students have attendance issues (<70%)\n",
      "   • 305 students have low participation\n",
      "\n",
      "🤖 PREDICTION MODEL ACCURACY:\n",
      "   Pass/Fail Prediction Accuracy: 73.6%\n",
      "==================================================\n"
     ]
    }
   ],
   "source": [
    "# Teacher Dashboard - Key Metrics\n",
    "print(\"🎯 STUDENT PERFORMANCE DASHBOARD\")\n",
    "print(\"=\" * 50)\n",
    "\n",
    "# Overall Statistics\n",
    "total_students = len(students_data)\n",
    "pass_rate = (students_data['Pass_Fail'] == 'Pass').mean() * 100\n",
    "avg_grade = students_data['Final Grade'].mean()\n",
    "avg_attendance = students_data['Attendance (%)'].mean()\n",
    "\n",
    "print(f\"📊 OVERALL STATISTICS:\")\n",
    "print(f\"   Total Students: {total_students}\")\n",
    "print(f\"   Pass Rate: {pass_rate:.1f}%\")\n",
    "print(f\"   Average Grade: {avg_grade:.1f}\")\n",
    "print(f\"   Average Attendance: {avg_attendance:.1f}%\")\n",
    "print()\n",
    "\n",
    "# Risk Assessment Summary\n",
    "print(f\"⚠️  RISK ASSESSMENT:\")\n",
    "risk_counts = students_data['Risk_Level'].value_counts()\n",
    "for risk_level, count in risk_counts.items():\n",
    "    percentage = (count / total_students) * 100\n",
    "    print(f\"   {risk_level}: {count} students ({percentage:.1f}%)\")\n",
    "print()\n",
    "\n",
    "# Performance Categories\n",
    "print(f\"📈 PERFORMANCE BREAKDOWN:\")\n",
    "perf_counts = students_data['Performance Category'].value_counts()\n",
    "for category, count in perf_counts.items():\n",
    "    percentage = (count / total_students) * 100\n",
    "    print(f\"   {category}: {count} students ({percentage:.1f}%)\")\n",
    "print()\n",
    "\n",
    "# Engagement Levels\n",
    "print(f\"🎯 ENGAGEMENT LEVELS:\")\n",
    "engagement_counts = students_data['Engagement_Group'].value_counts()\n",
    "for level, count in engagement_counts.items():\n",
    "    percentage = (count / total_students) * 100\n",
    "    print(f\"   {level} Engagement: {count} students ({percentage:.1f}%)\")\n",
    "print()\n",
    "\n",
    "# Priority Actions\n",
    "print(f\"🚨 PRIORITY ACTIONS NEEDED:\")\n",
    "high_risk_count = (students_data['Risk_Level'] == 'High Risk').sum()\n",
    "low_attendance = (students_data['Attendance (%)'] < 70).sum()\n",
    "low_participation = (students_data['Participation'] == 'low').sum()\n",
    "\n",
    "print(f\"   • {high_risk_count} students need immediate intervention\")\n",
    "print(f\"   • {low_attendance} students have attendance issues (<70%)\")\n",
    "print(f\"   • {low_participation} students have low participation\")\n",
    "print()\n",
    "\n",
    "# Model Performance\n",
    "print(f\"🤖 PREDICTION MODEL ACCURACY:\")\n",
    "best_accuracy = model_results['Random Forest']['accuracy']\n",
    "print(f\"   Pass/Fail Prediction Accuracy: {best_accuracy:.1%}\")\n",
    "print(\"=\" * 50)"
   ]
  },
  {
   "cell_type": "code",
   "execution_count": 86,
   "id": "9a426a5b",
   "metadata": {},
   "outputs": [
    {
     "name": "stdout",
     "output_type": "stream",
     "text": [
      "📋 Reports Generated:\n",
      "   • student_performance_report.csv - Detailed student data\n",
      "   • performance_summary_report.csv - Summary statistics\n",
      "   • cleaned_student_performance_data.csv - Cleaned dataset\n",
      "\n",
      "✅ Analysis Complete! Ready for implementation.\n"
     ]
    }
   ],
   "source": [
    "# Export Reports for Teachers\n",
    "# Create comprehensive student report\n",
    "student_report = students_data[['Student ID', 'Attendance (%)', 'Participation', \n",
    "                               'Final Grade', 'Final Grade Letter', 'Performance Category',\n",
    "                               'Pass_Fail', 'Risk_Level', 'Risk_Probability', \n",
    "                               'Engagement_Score', 'Engagement_Group']].copy()\n",
    "\n",
    "# Save detailed student report\n",
    "student_report.to_csv('student_performance_report.csv', index=False)\n",
    "\n",
    "# Create summary report for administrators\n",
    "summary_stats = {\n",
    "    'Metric': [\n",
    "        'Total Students', 'Overall Pass Rate (%)', 'Average Final Grade',\n",
    "        'Average Attendance (%)', 'High Risk Students', 'Students Needing Intervention',\n",
    "        'Model Accuracy (%)'\n",
    "    ],\n",
    "    'Value': [\n",
    "        total_students, round(pass_rate, 1), round(avg_grade, 1),\n",
    "        round(avg_attendance, 1), high_risk_count, high_risk_count + low_attendance,\n",
    "        round(best_accuracy * 100, 1)\n",
    "    ]\n",
    "}\n",
    "\n",
    "summary_df = pd.DataFrame(summary_stats)\n",
    "summary_df.to_csv('performance_summary_report.csv', index=False)\n",
    "\n",
    "print(\"📋 Reports Generated:\")\n",
    "print(\"   • student_performance_report.csv - Detailed student data\")\n",
    "print(\"   • performance_summary_report.csv - Summary statistics\")\n",
    "print(\"   • cleaned_student_performance_data.csv - Cleaned dataset\")\n",
    "print(\"\\n✅ Analysis Complete! Ready for implementation.\")"
   ]
  },
  {
   "cell_type": "code",
   "execution_count": 87,
   "id": "94b8db28",
   "metadata": {},
   "outputs": [
    {
     "data": {
      "text/plain": [
       "'Missing Final Grades: 0'"
      ]
     },
     "execution_count": 87,
     "metadata": {},
     "output_type": "execute_result"
    }
   ],
   "source": [
    "# Check for missing Final Grades\n",
    "missing_grades_count = students_data['Final Grade'].isnull().sum()\n",
    "f\"Missing Final Grades: {missing_grades_count}\""
   ]
  },
  {
   "cell_type": "code",
   "execution_count": 88,
   "id": "3556c059",
   "metadata": {},
   "outputs": [],
   "source": [
    "# Show rows with missing Final Grades\n",
    "if missing_grades_count > 0:\n",
    "    missing_final_grades = students_data[students_data['Final Grade'].isnull()]\n",
    "    missing_final_grades[['Student ID', 'Attendance (%)', 'Participation']].head(10)\n",
    "else:\n",
    "    \"No missing Final Grades found\""
   ]
  },
  {
   "cell_type": "code",
   "execution_count": 89,
   "id": "915a121d",
   "metadata": {},
   "outputs": [],
   "source": [
    "# Train Fresh Model for Final Grade Prediction\n",
    "if missing_grades_count > 0:\n",
    "    # Prepare data for training (only rows with complete Final Grades)\n",
    "    complete_grade_data = students_data[students_data['Final Grade'].notnull()].copy()\n",
    "    \n",
    "    # Features for prediction\n",
    "    X_grade_pred = complete_grade_data[['Attendance (%)', 'Participation_Numeric']]\n",
    "    y_grade_pred = complete_grade_data['Final Grade']\n",
    "    \n",
    "    # Train a new Random Forest Regressor specifically for grade prediction\n",
    "    from sklearn.ensemble import RandomForestRegressor\n",
    "    grade_predictor = RandomForestRegressor(n_estimators=100, random_state=42)\n",
    "    grade_predictor.fit(X_grade_pred, y_grade_pred)\n",
    "    \n",
    "    # Prepare features for missing grades\n",
    "    missing_grades_data = students_data[students_data['Final Grade'].isnull()].copy()\n",
    "    X_missing_grades = missing_grades_data[['Attendance (%)', 'Participation_Numeric']]\n",
    "    \n",
    "    # Predict missing Final Grades\n",
    "    predicted_final_grades = grade_predictor.predict(X_missing_grades)\n",
    "    \n",
    "    # Fill the missing values\n",
    "    students_data.loc[students_data['Final Grade'].isnull(), 'Final Grade'] = predicted_final_grades\n",
    "    \n",
    "    f\"Successfully predicted {missing_grades_count} missing Final Grades\"\n",
    "else:\n",
    "    \"No missing Final Grades to predict\""
   ]
  },
  {
   "cell_type": "code",
   "execution_count": 90,
   "id": "7783ac05",
   "metadata": {},
   "outputs": [],
   "source": [
    "# Show sample of predicted grades\n",
    "if missing_grades_count > 0:\n",
    "    # Create a sample of predictions\n",
    "    prediction_sample = pd.DataFrame({\n",
    "        'Student_ID': missing_grades_data['Student ID'].head(10),\n",
    "        'Attendance_%': missing_grades_data['Attendance (%)'].head(10),\n",
    "        'Participation': missing_grades_data['Participation'].head(10),\n",
    "        'Predicted_Grade': predicted_final_grades[:10]\n",
    "    })\n",
    "    prediction_sample\n",
    "else:\n",
    "    \"No predictions were made - all grades were already present\""
   ]
  },
  {
   "cell_type": "code",
   "execution_count": 91,
   "id": "68bbd4a8",
   "metadata": {},
   "outputs": [
    {
     "data": {
      "text/plain": [
       "'Final Grades still missing after prediction: 0'"
      ]
     },
     "execution_count": 91,
     "metadata": {},
     "output_type": "execute_result"
    }
   ],
   "source": [
    "# Verify no missing Final Grades remain\n",
    "final_missing_count = students_data['Final Grade'].isnull().sum()\n",
    "f\"Final Grades still missing after prediction: {final_missing_count}\""
   ]
  },
  {
   "cell_type": "code",
   "execution_count": 61,
   "id": "0ab5b538",
   "metadata": {},
   "outputs": [
    {
     "name": "stdout",
     "output_type": "stream",
     "text": [
      "Updated distributions after prediction:\n",
      "\n",
      "Final Grade Letter distribution:\n",
      "Final Grade Letter\n",
      "A     156\n",
      "A+    128\n",
      "B     129\n",
      "B+     10\n",
      "B-    139\n",
      "C      13\n",
      "C+     31\n",
      "C-    144\n",
      "D       1\n",
      "D+      2\n",
      "D-    119\n",
      "F     130\n",
      "Name: count, dtype: int64\n",
      "\n",
      "Pass/Fail distribution:\n",
      "Pass_Fail\n",
      "Pass    753\n",
      "Fail    249\n",
      "Name: count, dtype: int64\n",
      "\n",
      "Performance Category distribution:\n",
      "Performance Category\n",
      "Excellent        284\n",
      "Poor             249\n",
      "Average          183\n",
      "Below Average    147\n",
      "Good             139\n",
      "Name: count, dtype: int64\n"
     ]
    }
   ],
   "source": [
    "# Update all derived columns after filling missing grades\n",
    "if missing_grades_count > 0:\n",
    "    # Update Final Grade Letter for new predictions\n",
    "    students_data[\"Final Grade Letter\"] = students_data[\"Final Grade\"].apply(numeric_to_letter_grade)\n",
    "    \n",
    "    # Update Performance Category for new predictions\n",
    "    students_data['Performance Category'] = students_data['Final Grade'].apply(classify_performance)\n",
    "    \n",
    "    # Update Pass/Fail for new predictions\n",
    "    students_data['Pass_Fail'] = students_data['Final Grade'].apply(lambda x: 'Pass' if x >= 60 else 'Fail')\n",
    "    \n",
    "    # Show updated distribution\n",
    "    print(\"Updated distributions after prediction:\")\n",
    "    print(\"\\nFinal Grade Letter distribution:\")\n",
    "    print(students_data[\"Final Grade Letter\"].value_counts().sort_index())\n",
    "    print(f\"\\nPass/Fail distribution:\")\n",
    "    print(students_data['Pass_Fail'].value_counts())\n",
    "    print(f\"\\nPerformance Category distribution:\")\n",
    "    print(students_data['Performance Category'].value_counts())\n",
    "else:\n",
    "    print(\"No updates needed - all grades were already present\")"
   ]
  },
  {
   "cell_type": "code",
   "execution_count": 92,
   "id": "c65d85c5",
   "metadata": {},
   "outputs": [
    {
     "name": "stdout",
     "output_type": "stream",
     "text": [
      "✅ Dataset updated and saved!\n",
      "Total students: 1002\n",
      "Students with predicted grades: 0\n",
      "Complete dataset saved to: cleaned_student_performance_data.csv\n"
     ]
    }
   ],
   "source": [
    "# Save the updated dataset with predicted Final Grades\n",
    "students_data.to_csv('cleaned_student_performance_data.csv', index=False)\n",
    "\n",
    "print(\"✅ Dataset updated and saved!\")\n",
    "print(f\"Total students: {len(students_data)}\")\n",
    "print(f\"Students with predicted grades: {missing_grades_count}\")\n",
    "print(f\"Complete dataset saved to: cleaned_student_performance_data.csv\")"
   ]
  },
  {
   "cell_type": "code",
   "execution_count": null,
   "id": "3c31b612",
   "metadata": {},
   "outputs": [],
   "source": []
  }
 ],
 "metadata": {
  "kernelspec": {
   "display_name": ".venv",
   "language": "python",
   "name": "python3"
  },
  "language_info": {
   "codemirror_mode": {
    "name": "ipython",
    "version": 3
   },
   "file_extension": ".py",
   "mimetype": "text/x-python",
   "name": "python",
   "nbconvert_exporter": "python",
   "pygments_lexer": "ipython3",
   "version": "3.12.3"
  }
 },
 "nbformat": 4,
 "nbformat_minor": 5
}
